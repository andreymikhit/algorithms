{
  "nbformat": 4,
  "nbformat_minor": 0,
  "metadata": {
    "kernelspec": {
      "display_name": "Python 3",
      "language": "python",
      "name": "python3"
    },
    "language_info": {
      "codemirror_mode": {
        "name": "ipython",
        "version": 3
      },
      "file_extension": ".py",
      "mimetype": "text/x-python",
      "name": "python",
      "nbconvert_exporter": "python",
      "pygments_lexer": "ipython3",
      "version": "3.7.1"
    },
    "colab": {
      "provenance": []
    }
  },
  "cells": [
    {
      "cell_type": "markdown",
      "metadata": {
        "id": "QxTQ6b1GWjr2"
      },
      "source": [
        "## Линейная классификация"
      ]
    },
    {
      "cell_type": "markdown",
      "metadata": {
        "id": "jVKnqZEmWjr0"
      },
      "source": [
        "# Урок 3. Классификация. Логистическая регрессия.\n",
        "## ДЗ (29.04.2021 / 03.05.2021)"
      ]
    },
    {
      "cell_type": "markdown",
      "metadata": {
        "id": "o0zTMhamWjr3"
      },
      "source": [
        "Определите AUC_ROC и AUC_PR для модели логистической регрессии на тестовой выборке. Используйте реализацию модели в виде класса и функцию confusion, чтобы рассчитать TPR, FPR, precision, recal для различных порогов вероятности.\n",
        "Дополнительное задание(не обязательно): Получите такие же характеристики для линейной регрессии и сравните две модели.\n",
        "\n",
        "Подробности в .ipynb файле"
      ]
    },
    {
      "cell_type": "markdown",
      "metadata": {
        "id": "R_e4fY5XD7kn"
      },
      "source": [
        "* [Практическое задание. ДЗ.](#ex)\n",
        "    * [Задание](#ex)\n",
        "\n",
        "* [Теория](#theor)\n",
        "    * [Дополнительные материалы](#theor)"
      ]
    },
    {
      "cell_type": "markdown",
      "metadata": {
        "id": "W-aoA2IxD_CS"
      },
      "source": [
        "## <center><a class=\"anchor\" id=\"ex\">Практическое задание </a><center>"
      ]
    },
    {
      "cell_type": "markdown",
      "metadata": {
        "id": "RmP4N9xhECTs"
      },
      "source": [
        "### <a class=\"anchor\" id=\"ex1\">Задание </a>"
      ]
    },
    {
      "cell_type": "markdown",
      "metadata": {
        "id": "mElCsPNHEFZF"
      },
      "source": [
        "Домашнее задание: Определите AUC_ROC и AUC_PR для модели логистической регрессии на тестовой выборке. Используйте реализацию модели в виде класса и функцию confusion, чтобы рассчитать TPR, FPR, precision, recal для различных порогов вероятности.\n",
        "Дополнительное задание(не обязательно): Получите такие же характеристики для линейной регрессии и сравните две модели."
      ]
    },
    {
      "cell_type": "code",
      "metadata": {
        "id": "Urj7BT-Az092"
      },
      "source": [
        "import matplotlib\n",
        "import numpy as np\n",
        "import matplotlib.pyplot as plt\n",
        "from scipy.stats import norm\n",
        "%matplotlib inline"
      ],
      "execution_count": null,
      "outputs": []
    },
    {
      "cell_type": "markdown",
      "metadata": {
        "id": "Tn4xLC0e1s9U"
      },
      "source": [
        "## Логистическая регрессия"
      ]
    },
    {
      "cell_type": "code",
      "metadata": {
        "id": "HLiW5tx-0cm2"
      },
      "source": [
        "def log_loss_and_grad(w, X, target):\n",
        "    m = X.shape[0]\n",
        "    y=(2*target-1)\n",
        "    score=np.dot(X, w.T).flatten()\n",
        "\n",
        "    # Рассчёт log_loss\n",
        "    loss = np.sum(np.log(1+np.exp(-y*score)))/m\n",
        "\n",
        "    # Рассчёт градиента\n",
        "    Z=-y/(m*(1+np.exp(y*score)))\n",
        "    grad=Z[np.newaxis, :].dot(X)\n",
        "    return loss, grad\n",
        "\n",
        "\n",
        "def optimize(w, X, y, n_iterations, eta):\n",
        "    #     потери будем записывать в список для отображения в виде графика\n",
        "    losses = []\n",
        "\n",
        "    for i in range(n_iterations):\n",
        "        loss, grad = log_loss_and_grad(w, X, y)\n",
        "        w = w - eta * grad\n",
        "        losses.append(loss)\n",
        "\n",
        "    return w, losses\n",
        "\n",
        "def predict(w, X):\n",
        "    y_predicted = np.zeros(X.shape[0])\n",
        "    score=np.dot(X, w.T).flatten()\n",
        "    Prob = 1/(1+np.exp(-score))\n",
        "\n",
        "    #     За порог отнесения к тому или иному классу примем вероятность 0.5\n",
        "    y_predicted[Prob>0.5]=1\n",
        "    y_predicted[Prob<=0.5]=0\n",
        "\n",
        "    return y_predicted"
      ],
      "execution_count": null,
      "outputs": []
    },
    {
      "cell_type": "code",
      "metadata": {
        "colab": {
          "base_uri": "https://localhost:8080/",
          "height": 519
        },
        "id": "h58cUdej0t6N",
        "outputId": "f1add425-3f13-4a89-f32d-526880de1052"
      },
      "source": [
        "from sklearn import datasets\n",
        "from matplotlib.colors import ListedColormap\n",
        "\n",
        "# сгеренируем данные с помощью sklearn.datasets\n",
        "classes = datasets.make_classification(n_samples=1000, n_features=2, n_informative=2,\n",
        "                                       n_redundant=0, n_classes=2, random_state=1)\n",
        "# datasets.make_blobs(centers = 2, cluster_std = 1.5, random_state=12)\n",
        "\n",
        "# и изобразим их на графике\n",
        "colors = ListedColormap(['red', 'blue'])\n",
        "\n",
        "plt.figure(figsize=(20, 8))\n",
        "plt.figure(figsize=(8, 8))\n",
        "plt.scatter([x[0] for x in classes[0]], [x[1] for x in classes[0]], c=classes[1], cmap=colors)"
      ],
      "execution_count": null,
      "outputs": [
        {
          "output_type": "execute_result",
          "data": {
            "text/plain": [
              "<matplotlib.collections.PathCollection at 0x7f77585168d0>"
            ]
          },
          "metadata": {
            "tags": []
          },
          "execution_count": 3
        },
        {
          "output_type": "display_data",
          "data": {
            "text/plain": [
              "<Figure size 1440x576 with 0 Axes>"
            ]
          },
          "metadata": {
            "tags": []
          }
        },
        {
          "output_type": "display_data",
          "data": {
            "image/png": "[encoded data removed]",
            "text/plain": [
              "<Figure size 576x576 with 1 Axes>"
            ]
          },
          "metadata": {
            "tags": [],
            "needs_background": "light"
          }
        }
      ]
    },
    {
      "cell_type": "code",
      "metadata": {
        "colab": {
          "base_uri": "https://localhost:8080/"
        },
        "id": "_RGikpMm1OIl",
        "outputId": "af87f47d-7d22-4a9f-ebc7-14da52f8d22d"
      },
      "source": [
        "# перемешивание датасета\n",
        "np.random.seed(12)\n",
        "shuffle_index = np.random.permutation(classes[0].shape[0])\n",
        "X_shuffled, y_shuffled = classes[0][shuffle_index], classes[1][shuffle_index]\n",
        "\n",
        "# разбивка на обучающую и тестовую выборки\n",
        "train_proportion = 0.7\n",
        "train_test_cut = int(len(classes[0]) * train_proportion)\n",
        "\n",
        "X_train, X_test, y_train, y_test = \\\n",
        "    X_shuffled[:train_test_cut], \\\n",
        "    X_shuffled[train_test_cut:], \\\n",
        "    y_shuffled[:train_test_cut], \\\n",
        "    y_shuffled[train_test_cut:]\n",
        "\n",
        "print(\"Размер массива признаков обучающей выборки\", X_train.shape)\n",
        "print(\"Размер массива ответов для обучающей выборки\", y_train.shape)\n",
        "print(\"Размер массива признаков тестовой выборки\", X_test.shape)\n",
        "print(\"Размер массива ответов для тестовой выборки\", y_test.shape)"
      ],
      "execution_count": null,
      "outputs": [
        {
          "output_type": "stream",
          "text": [
            "Размер массива признаков обучающей выборки (700, 2)\n",
            "Размер массива ответов для обучающей выборки (700,)\n",
            "Размер массива признаков тестовой выборки (300, 2)\n",
            "Размер массива ответов для тестовой выборки (300,)\n"
          ],
          "name": "stdout"
        }
      ]
    },
    {
      "cell_type": "code",
      "metadata": {
        "colab": {
          "base_uri": "https://localhost:8080/"
        },
        "id": "MEsJPwVs1RXb",
        "outputId": "e054b95e-0c7c-4b81-dda1-a89063d6e96d"
      },
      "source": [
        "w0 = np.zeros((1, X_train.shape[1]))\n",
        "\n",
        "n_iterations = 1000\n",
        "eta = 0.05\n",
        "\n",
        "w, losses = optimize(w0, X_train, y_train, n_iterations, eta)\n",
        "\n",
        "y_predicted_test = predict(w, X_test)\n",
        "y_predicted_train = predict(w, X_train)\n",
        "\n",
        "# В качестве меры точности возьмем долю правильных ответов\n",
        "train_accuracy = 100.0 - np.mean(np.abs(y_predicted_train - y_train)*100.0)\n",
        "test_accuracy = 100.0 - np.mean(np.abs(y_predicted_test-y_test)*100.0)\n",
        "\n",
        "print(f\"Итоговый вектор весов w: {w}\")\n",
        "print(f\"Точность на обучающей выборке: {train_accuracy:.3f}\")\n",
        "print(f\"Точность на тестовой выборке: {test_accuracy:.3f}\")"
      ],
      "execution_count": null,
      "outputs": [
        {
          "output_type": "stream",
          "text": [
            "Итоговый вектор весов w: [[2.11307493 0.19097496]]\n",
            "Точность на обучающей выборке: 85.571\n",
            "Точность на тестовой выборке: 83.667\n"
          ],
          "name": "stdout"
        }
      ]
    },
    {
      "cell_type": "code",
      "metadata": {
        "colab": {
          "base_uri": "https://localhost:8080/",
          "height": 313
        },
        "id": "n1759Vsm1UHK",
        "outputId": "5e57eb69-24fb-4df9-dc55-0e58a713f309"
      },
      "source": [
        "plt.title('Log loss')\n",
        "plt.xlabel('iterations')\n",
        "plt.ylabel('loss')\n",
        "plt.plot(range(len(losses)), losses)"
      ],
      "execution_count": null,
      "outputs": [
        {
          "output_type": "execute_result",
          "data": {
            "text/plain": [
              "[<matplotlib.lines.Line2D at 0x7f7756f9f210>]"
            ]
          },
          "metadata": {
            "tags": []
          },
          "execution_count": 6
        },
        {
          "output_type": "display_data",
          "data": {
            "image/png": "[encoded data removed]",
            "text/plain": [
              "<Figure size 432x288 with 1 Axes>"
            ]
          },
          "metadata": {
            "tags": [],
            "needs_background": "light"
          }
        }
      ]
    },
    {
      "cell_type": "code",
      "metadata": {
        "id": "Uhdbz4AZ1WlD"
      },
      "source": [
        "class logistic_regression:\n",
        "    def __init__(self, n_iterations=1000, eta=0.05):\n",
        "        self.n_iterations=1000\n",
        "        self.eta=eta\n",
        "    def _log_grad(self, X, target):\n",
        "        m = X.shape[0]\n",
        "        y=(2*target-1)\n",
        "        score=np.dot(X, self.w.T).flatten()+self.w0\n",
        "        Z=-y/(m*(1+np.exp(y*score)))\n",
        "        grad=Z[np.newaxis, :].dot(X)\n",
        "        return grad/m, np.sum(Z)/m\n",
        "    def _optimize(self, X, target):\n",
        "        for i in range(self.n_iterations):\n",
        "            grad_w, grad_w0 = self._log_grad(X, target)\n",
        "            self.w = self.w-self.eta * grad_w\n",
        "            self.w0 = self.w0 - self.eta * grad_w0\n",
        "    def fit(self, X, target):\n",
        "        self.w = np.zeros((1, X.shape[1]))\n",
        "        self.w0=0\n",
        "        self._optimize(X, target)\n",
        "    def predict_proba(self, X):\n",
        "        '''\n",
        "        Рассчёт вероятности\n",
        "        '''\n",
        "        score=X.dot(self.w.T).flatten()+self.w0\n",
        "        return 1/(1+np.exp(-score))\n",
        "    def predict(self, X, thr=0.5):\n",
        "        proba=self.predict_proba(X)\n",
        "        y_predicted = np.zeros(proba.shape, dtype=bool)\n",
        "        y_predicted[proba>thr]=1\n",
        "        y_predicted[proba<=thr]=0\n",
        "        return y_predicted"
      ],
      "execution_count": null,
      "outputs": []
    },
    {
      "cell_type": "code",
      "metadata": {
        "colab": {
          "base_uri": "https://localhost:8080/"
        },
        "id": "G0cPfIxi1ZVj",
        "outputId": "086c4885-40c3-48df-a27f-447e4e2d03fd"
      },
      "source": [
        "mod=logistic_regression()\n",
        "mod.fit(X_train, y_train)\n",
        "y_predicted_test = mod.predict(X_test)\n",
        "y_predicted_train = mod.predict(X_train)\n",
        "\n",
        "# В качестве меры точности возьмем долю правильных ответов\n",
        "train_accuracy = 100.0 - np.mean(np.abs(y_predicted_train - y_train)*100.0)\n",
        "test_accuracy = 100.0 - np.mean(np.abs(y_predicted_test-y_test)*100.0)\n",
        "\n",
        "print(f\"Итоговый вектор весов w: {mod.w}\")\n",
        "print(f\"Точность на обучающей выборке: {train_accuracy:.3f}\")\n",
        "print(f\"Точность на тестовой выборке: {test_accuracy:.3f}\")"
      ],
      "execution_count": null,
      "outputs": [
        {
          "output_type": "stream",
          "text": [
            "Итоговый вектор весов w: [[0.03530579 0.00033222]]\n",
            "Точность на обучающей выборке: 85.714\n",
            "Точность на тестовой выборке: 84.333\n"
          ],
          "name": "stdout"
        }
      ]
    },
    {
      "cell_type": "code",
      "metadata": {
        "colab": {
          "base_uri": "https://localhost:8080/"
        },
        "id": "XwC9t_c61bwz",
        "outputId": "cd98a8fc-314b-45d0-f33d-da11207306b3"
      },
      "source": [
        "mod.w[0, 0]/np.sum(mod.w), w[0, 0]/np.sum(w)"
      ],
      "execution_count": null,
      "outputs": [
        {
          "output_type": "execute_result",
          "data": {
            "text/plain": [
              "(0.990677992576097, 0.9171133583157037)"
            ]
          },
          "metadata": {
            "tags": []
          },
          "execution_count": 9
        }
      ]
    },
    {
      "cell_type": "markdown",
      "metadata": {
        "id": "mL5wq0M8ERkn"
      },
      "source": [
        "## Методы оценки дискриминационной способности модели"
      ]
    },
    {
      "cell_type": "code",
      "metadata": {
        "id": "k8Yu5BRM1oR8"
      },
      "source": [
        "x = mod.predict_proba(X_test)\n",
        "target = y_test\n",
        "\n",
        "# for _x, t in zip(x, target):\n",
        "#     print(\"Значение x:{0} класс {1}\".format(_x, t))"
      ],
      "execution_count": null,
      "outputs": []
    },
    {
      "cell_type": "markdown",
      "metadata": {
        "id": "-uUrpECF17AN"
      },
      "source": [
        "В ходе оценки дискриминационной способности при помощи ROC и PR-анализа необходимо убедиться, что с возрастанием x чаще встречаются объекты положительного класса(в target обозначаются как 1) и реже отрицательного (в target обозначаются как 0)."
      ]
    },
    {
      "cell_type": "code",
      "metadata": {
        "id": "2NaKhP0414rL"
      },
      "source": [
        "order=np.argsort(x)\n",
        "target=target[order]\n",
        "x=x[order]"
      ],
      "execution_count": null,
      "outputs": []
    },
    {
      "cell_type": "markdown",
      "metadata": {
        "id": "lqDasoSn1_YL"
      },
      "source": [
        "Далее необходимо посчитать сколько объектов положительного и отрицательного класса относятся с тому или иному значению x. Поскольку повторяющихся x у нас нет, то относительно объектов положительного класса можно считать, что искомые значения это массив target, а для объектов негативного класса массив 1-target. Если бы у нас были повторяющиеся значения, мы бы должны были объединять и суммировать соответствующие ячейки в массивах."
      ]
    },
    {
      "cell_type": "code",
      "metadata": {
        "colab": {
          "base_uri": "https://localhost:8080/"
        },
        "id": "CL7eKOOx2ISs",
        "outputId": "b6bf758b-860c-4aa6-fde8-19e8ad724dc4"
      },
      "source": [
        "bins_pos=target\n",
        "bins_neg=1-target\n",
        "num_pos, num_neg=np.sum(bins_pos), np.sum(bins_neg)\n",
        "print(f'{num_pos} объектов положительного класса, {num_neg} объектов негативного класса')"
      ],
      "execution_count": null,
      "outputs": [
        {
          "output_type": "stream",
          "text": [
            "138 объектов положительного класса, 162 объектов негативного класса\n"
          ],
          "name": "stdout"
        }
      ]
    },
    {
      "cell_type": "markdown",
      "metadata": {
        "id": "_HM2gvlD2K7z"
      },
      "source": [
        "При помощи cumsum мы может посчитать сколко всего объектов негативного класса мы посчитали объектами негативного класса при текущем значении порога"
      ]
    },
    {
      "cell_type": "code",
      "metadata": {
        "colab": {
          "base_uri": "https://localhost:8080/"
        },
        "id": "JiltNclz2Npk",
        "outputId": "84773053-4e68-4314-ebb0-180108cac313"
      },
      "source": [
        "# np.cumsum(bins_neg)\n",
        "\n",
        "#Чувствительность, доля объектов негативного класса, которых при текущем значении предела\n",
        "#правильно записали в негативный класс\n",
        "TPR=np.concatenate([[0], np.cumsum(bins_neg)/num_neg])\n",
        "\n",
        "#Ложно-позитивный уровень, доля объектов положительного класса, которых при текущем значении предела\n",
        "#ошибочно записали в негативный класс\n",
        "FPR=np.concatenate([[0], np.cumsum(bins_pos)/num_pos])\n",
        "\n",
        "#\n",
        "TPR"
      ],
      "execution_count": null,
      "outputs": [
        {
          "output_type": "execute_result",
          "data": {
            "text/plain": [
              "array([0.        , 0.00617284, 0.01234568, 0.01851852, 0.02469136,\n",
              "       0.0308642 , 0.03703704, 0.04320988, 0.04938272, 0.05555556,\n",
              "       0.0617284 , 0.06790123, 0.07407407, 0.08024691, 0.08641975,\n",
              "       0.09259259, 0.09876543, 0.10493827, 0.11111111, 0.11728395,\n",
              "       0.12345679, 0.12962963, 0.13580247, 0.14197531, 0.14814815,\n",
              "       0.15432099, 0.16049383, 0.16666667, 0.17283951, 0.17901235,\n",
              "       0.18518519, 0.19135802, 0.19753086, 0.2037037 , 0.20987654,\n",
              "       0.21604938, 0.22222222, 0.22839506, 0.2345679 , 0.24074074,\n",
              "       0.24691358, 0.25308642, 0.25925926, 0.2654321 , 0.27160494,\n",
              "       0.27777778, 0.28395062, 0.29012346, 0.2962963 , 0.30246914,\n",
              "       0.30864198, 0.31481481, 0.32098765, 0.32716049, 0.33333333,\n",
              "       0.33950617, 0.34567901, 0.35185185, 0.35802469, 0.36419753,\n",
              "       0.37037037, 0.37654321, 0.37654321, 0.38271605, 0.38888889,\n",
              "       0.39506173, 0.40123457, 0.40123457, 0.40740741, 0.41358025,\n",
              "       0.41975309, 0.42592593, 0.43209877, 0.4382716 , 0.44444444,\n",
              "       0.44444444, 0.45061728, 0.45679012, 0.46296296, 0.4691358 ,\n",
              "       0.47530864, 0.48148148, 0.48765432, 0.49382716, 0.5       ,\n",
              "       0.50617284, 0.51234568, 0.51851852, 0.52469136, 0.5308642 ,\n",
              "       0.53703704, 0.54320988, 0.54938272, 0.55555556, 0.5617284 ,\n",
              "       0.56790123, 0.57407407, 0.58024691, 0.58641975, 0.59259259,\n",
              "       0.59876543, 0.60493827, 0.61111111, 0.61728395, 0.62345679,\n",
              "       0.62345679, 0.62345679, 0.62962963, 0.63580247, 0.64197531,\n",
              "       0.64197531, 0.64814815, 0.65432099, 0.66049383, 0.66666667,\n",
              "       0.67283951, 0.67901235, 0.67901235, 0.68518519, 0.68518519,\n",
              "       0.68518519, 0.69135802, 0.69753086, 0.7037037 , 0.7037037 ,\n",
              "       0.70987654, 0.71604938, 0.72222222, 0.72839506, 0.7345679 ,\n",
              "       0.74074074, 0.74691358, 0.75308642, 0.75925926, 0.75925926,\n",
              "       0.7654321 , 0.77160494, 0.77160494, 0.77777778, 0.78395062,\n",
              "       0.79012346, 0.7962963 , 0.7962963 , 0.80246914, 0.80246914,\n",
              "       0.80864198, 0.80864198, 0.80864198, 0.81481481, 0.81481481,\n",
              "       0.82098765, 0.82716049, 0.83333333, 0.83333333, 0.83950617,\n",
              "       0.83950617, 0.83950617, 0.83950617, 0.84567901, 0.85185185,\n",
              "       0.85185185, 0.85802469, 0.85802469, 0.86419753, 0.86419753,\n",
              "       0.87037037, 0.87654321, 0.87654321, 0.87654321, 0.87654321,\n",
              "       0.87654321, 0.88271605, 0.88271605, 0.88271605, 0.88271605,\n",
              "       0.88271605, 0.88888889, 0.88888889, 0.88888889, 0.88888889,\n",
              "       0.88888889, 0.89506173, 0.89506173, 0.89506173, 0.89506173,\n",
              "       0.89506173, 0.89506173, 0.89506173, 0.89506173, 0.89506173,\n",
              "       0.89506173, 0.90123457, 0.90123457, 0.90123457, 0.90123457,\n",
              "       0.90123457, 0.90740741, 0.90740741, 0.90740741, 0.90740741,\n",
              "       0.90740741, 0.90740741, 0.91358025, 0.91358025, 0.91358025,\n",
              "       0.91358025, 0.91975309, 0.91975309, 0.91975309, 0.91975309,\n",
              "       0.91975309, 0.91975309, 0.91975309, 0.91975309, 0.91975309,\n",
              "       0.91975309, 0.91975309, 0.91975309, 0.92592593, 0.92592593,\n",
              "       0.92592593, 0.92592593, 0.93209877, 0.9382716 , 0.9382716 ,\n",
              "       0.9382716 , 0.94444444, 0.95061728, 0.95061728, 0.95061728,\n",
              "       0.95061728, 0.95061728, 0.95061728, 0.95061728, 0.95061728,\n",
              "       0.95679012, 0.95679012, 0.95679012, 0.96296296, 0.9691358 ,\n",
              "       0.9691358 , 0.9691358 , 0.9691358 , 0.9691358 , 0.9691358 ,\n",
              "       0.9691358 , 0.9691358 , 0.9691358 , 0.97530864, 0.97530864,\n",
              "       0.97530864, 0.97530864, 0.98148148, 0.98765432, 0.98765432,\n",
              "       0.98765432, 0.98765432, 0.99382716, 0.99382716, 0.99382716,\n",
              "       0.99382716, 0.99382716, 0.99382716, 0.99382716, 0.99382716,\n",
              "       0.99382716, 0.99382716, 0.99382716, 0.99382716, 0.99382716,\n",
              "       1.        , 1.        , 1.        , 1.        , 1.        ,\n",
              "       1.        , 1.        , 1.        , 1.        , 1.        ,\n",
              "       1.        , 1.        , 1.        , 1.        , 1.        ,\n",
              "       1.        , 1.        , 1.        , 1.        , 1.        ,\n",
              "       1.        , 1.        , 1.        , 1.        , 1.        ,\n",
              "       1.        , 1.        , 1.        , 1.        , 1.        ,\n",
              "       1.        ])"
            ]
          },
          "metadata": {
            "tags": []
          },
          "execution_count": 13
        }
      ]
    },
    {
      "cell_type": "code",
      "metadata": {
        "colab": {
          "base_uri": "https://localhost:8080/"
        },
        "id": "2aCeTWWQ2fZT",
        "outputId": "b4e5b0b8-c9ec-48c7-f28b-65a19cb27eba"
      },
      "source": [
        "#\n",
        "FPR"
      ],
      "execution_count": null,
      "outputs": [
        {
          "output_type": "execute_result",
          "data": {
            "text/plain": [
              "array([0.        , 0.        , 0.        , 0.        , 0.        ,\n",
              "       0.        , 0.        , 0.        , 0.        , 0.        ,\n",
              "       0.        , 0.        , 0.        , 0.        , 0.        ,\n",
              "       0.        , 0.        , 0.        , 0.        , 0.        ,\n",
              "       0.        , 0.        , 0.        , 0.        , 0.        ,\n",
              "       0.        , 0.        , 0.        , 0.        , 0.        ,\n",
              "       0.        , 0.        , 0.        , 0.        , 0.        ,\n",
              "       0.        , 0.        , 0.        , 0.        , 0.        ,\n",
              "       0.        , 0.        , 0.        , 0.        , 0.        ,\n",
              "       0.        , 0.        , 0.        , 0.        , 0.        ,\n",
              "       0.        , 0.        , 0.        , 0.        , 0.        ,\n",
              "       0.        , 0.        , 0.        , 0.        , 0.        ,\n",
              "       0.        , 0.        , 0.00724638, 0.00724638, 0.00724638,\n",
              "       0.00724638, 0.00724638, 0.01449275, 0.01449275, 0.01449275,\n",
              "       0.01449275, 0.01449275, 0.01449275, 0.01449275, 0.01449275,\n",
              "       0.02173913, 0.02173913, 0.02173913, 0.02173913, 0.02173913,\n",
              "       0.02173913, 0.02173913, 0.02173913, 0.02173913, 0.02173913,\n",
              "       0.02173913, 0.02173913, 0.02173913, 0.02173913, 0.02173913,\n",
              "       0.02173913, 0.02173913, 0.02173913, 0.02173913, 0.02173913,\n",
              "       0.02173913, 0.02173913, 0.02173913, 0.02173913, 0.02173913,\n",
              "       0.02173913, 0.02173913, 0.02173913, 0.02173913, 0.02173913,\n",
              "       0.02898551, 0.03623188, 0.03623188, 0.03623188, 0.03623188,\n",
              "       0.04347826, 0.04347826, 0.04347826, 0.04347826, 0.04347826,\n",
              "       0.04347826, 0.04347826, 0.05072464, 0.05072464, 0.05797101,\n",
              "       0.06521739, 0.06521739, 0.06521739, 0.06521739, 0.07246377,\n",
              "       0.07246377, 0.07246377, 0.07246377, 0.07246377, 0.07246377,\n",
              "       0.07246377, 0.07246377, 0.07246377, 0.07246377, 0.07971014,\n",
              "       0.07971014, 0.07971014, 0.08695652, 0.08695652, 0.08695652,\n",
              "       0.08695652, 0.08695652, 0.0942029 , 0.0942029 , 0.10144928,\n",
              "       0.10144928, 0.10869565, 0.11594203, 0.11594203, 0.12318841,\n",
              "       0.12318841, 0.12318841, 0.12318841, 0.13043478, 0.13043478,\n",
              "       0.13768116, 0.14492754, 0.15217391, 0.15217391, 0.15217391,\n",
              "       0.15942029, 0.15942029, 0.16666667, 0.16666667, 0.17391304,\n",
              "       0.17391304, 0.17391304, 0.18115942, 0.1884058 , 0.19565217,\n",
              "       0.20289855, 0.20289855, 0.21014493, 0.2173913 , 0.22463768,\n",
              "       0.23188406, 0.23188406, 0.23913043, 0.24637681, 0.25362319,\n",
              "       0.26086957, 0.26086957, 0.26811594, 0.27536232, 0.2826087 ,\n",
              "       0.28985507, 0.29710145, 0.30434783, 0.3115942 , 0.31884058,\n",
              "       0.32608696, 0.32608696, 0.33333333, 0.34057971, 0.34782609,\n",
              "       0.35507246, 0.35507246, 0.36231884, 0.36956522, 0.37681159,\n",
              "       0.38405797, 0.39130435, 0.39130435, 0.39855072, 0.4057971 ,\n",
              "       0.41304348, 0.41304348, 0.42028986, 0.42753623, 0.43478261,\n",
              "       0.44202899, 0.44927536, 0.45652174, 0.46376812, 0.47101449,\n",
              "       0.47826087, 0.48550725, 0.49275362, 0.49275362, 0.5       ,\n",
              "       0.50724638, 0.51449275, 0.51449275, 0.51449275, 0.52173913,\n",
              "       0.52898551, 0.52898551, 0.52898551, 0.53623188, 0.54347826,\n",
              "       0.55072464, 0.55797101, 0.56521739, 0.57246377, 0.57971014,\n",
              "       0.57971014, 0.58695652, 0.5942029 , 0.5942029 , 0.5942029 ,\n",
              "       0.60144928, 0.60869565, 0.61594203, 0.62318841, 0.63043478,\n",
              "       0.63768116, 0.64492754, 0.65217391, 0.65217391, 0.65942029,\n",
              "       0.66666667, 0.67391304, 0.67391304, 0.67391304, 0.68115942,\n",
              "       0.6884058 , 0.69565217, 0.69565217, 0.70289855, 0.71014493,\n",
              "       0.7173913 , 0.72463768, 0.73188406, 0.73913043, 0.74637681,\n",
              "       0.75362319, 0.76086957, 0.76811594, 0.77536232, 0.7826087 ,\n",
              "       0.7826087 , 0.78985507, 0.79710145, 0.80434783, 0.8115942 ,\n",
              "       0.81884058, 0.82608696, 0.83333333, 0.84057971, 0.84782609,\n",
              "       0.85507246, 0.86231884, 0.86956522, 0.87681159, 0.88405797,\n",
              "       0.89130435, 0.89855072, 0.9057971 , 0.91304348, 0.92028986,\n",
              "       0.92753623, 0.93478261, 0.94202899, 0.94927536, 0.95652174,\n",
              "       0.96376812, 0.97101449, 0.97826087, 0.98550725, 0.99275362,\n",
              "       1.        ])"
            ]
          },
          "metadata": {
            "tags": []
          },
          "execution_count": 14
        }
      ]
    },
    {
      "cell_type": "markdown",
      "metadata": {
        "id": "ml2-o2pdESGM"
      },
      "source": [
        "ROC-кривая(FPR, TPR) должна начинаться в точке (0,0) и (1,1). Эти точки соответствуют двум крайним значениям: когда при данном значении предела либо ни один объект не предсказывается как объект негативного класса, и когда при данном значении предела все объекты предсказываются как объекты негативного класса.\n",
        "В зависимости от того к какому классу причисляются объекты равные пределу, или, другими словами используем ли мы при отнесении объекта к классу сравнение его скора(или вероятности) с пределом через строгое или не строгое неравенство, у нас одна из этих двух точек может пропадать. Зная об этом факте мы можем добавить недостающую крайнюю точку к массивам. Собственно, для этого ранее и использовалось np.concatenate([[0], ...])"
      ]
    },
    {
      "cell_type": "code",
      "metadata": {
        "colab": {
          "base_uri": "https://localhost:8080/",
          "height": 368
        },
        "id": "Vdkdd4an2lFs",
        "outputId": "889f256c-20d2-4e35-a4c0-96367ab142e6"
      },
      "source": [
        "AUC_ROC = np.sum((FPR[1:]-FPR[:-1])*(TPR[1:]+TPR[:-1])/2)\n",
        "\n",
        "plt.figure(figsize=(15, 5))\n",
        "plt.title('ROC')\n",
        "plt.ylim(0, 1.05)\n",
        "plt.xlabel('FPR')\n",
        "plt.ylabel('TPR')\n",
        "plt.grid()\n",
        "plt.legend(' ', title=f'AUC-ROC={AUC_ROC:.3f}', loc='lower right')\n",
        "plt.plot(FPR, TPR)"
      ],
      "execution_count": null,
      "outputs": [
        {
          "output_type": "execute_result",
          "data": {
            "text/plain": [
              "[<matplotlib.lines.Line2D at 0x7f7756f35710>]"
            ]
          },
          "metadata": {
            "tags": []
          },
          "execution_count": 15
        },
        {
          "output_type": "display_data",
          "data": {
            "image/png": "[encoded data removed]",
            "text/plain": [
              "<Figure size 1080x360 with 1 Axes>"
            ]
          },
          "metadata": {
            "tags": [],
            "needs_background": "light"
          }
        }
      ]
    },
    {
      "cell_type": "code",
      "metadata": {
        "id": "TO7jZeVF2tQj"
      },
      "source": [
        "precision=np.cumsum(bins_neg)/(np.cumsum(bins_neg)+np.cumsum(bins_pos))\n",
        "# precision"
      ],
      "execution_count": null,
      "outputs": []
    },
    {
      "cell_type": "code",
      "metadata": {
        "colab": {
          "base_uri": "https://localhost:8080/"
        },
        "id": "Jm4E_a_y2vhb",
        "outputId": "af2e710c-e785-493a-9973-15556b6a7a7f"
      },
      "source": [
        "recall = TPR\n",
        "recall"
      ],
      "execution_count": null,
      "outputs": [
        {
          "output_type": "execute_result",
          "data": {
            "text/plain": [
              "array([0.        , 0.00617284, 0.01234568, 0.01851852, 0.02469136,\n",
              "       0.0308642 , 0.03703704, 0.04320988, 0.04938272, 0.05555556,\n",
              "       0.0617284 , 0.06790123, 0.07407407, 0.08024691, 0.08641975,\n",
              "       0.09259259, 0.09876543, 0.10493827, 0.11111111, 0.11728395,\n",
              "       0.12345679, 0.12962963, 0.13580247, 0.14197531, 0.14814815,\n",
              "       0.15432099, 0.16049383, 0.16666667, 0.17283951, 0.17901235,\n",
              "       0.18518519, 0.19135802, 0.19753086, 0.2037037 , 0.20987654,\n",
              "       0.21604938, 0.22222222, 0.22839506, 0.2345679 , 0.24074074,\n",
              "       0.24691358, 0.25308642, 0.25925926, 0.2654321 , 0.27160494,\n",
              "       0.27777778, 0.28395062, 0.29012346, 0.2962963 , 0.30246914,\n",
              "       0.30864198, 0.31481481, 0.32098765, 0.32716049, 0.33333333,\n",
              "       0.33950617, 0.34567901, 0.35185185, 0.35802469, 0.36419753,\n",
              "       0.37037037, 0.37654321, 0.37654321, 0.38271605, 0.38888889,\n",
              "       0.39506173, 0.40123457, 0.40123457, 0.40740741, 0.41358025,\n",
              "       0.41975309, 0.42592593, 0.43209877, 0.4382716 , 0.44444444,\n",
              "       0.44444444, 0.45061728, 0.45679012, 0.46296296, 0.4691358 ,\n",
              "       0.47530864, 0.48148148, 0.48765432, 0.49382716, 0.5       ,\n",
              "       0.50617284, 0.51234568, 0.51851852, 0.52469136, 0.5308642 ,\n",
              "       0.53703704, 0.54320988, 0.54938272, 0.55555556, 0.5617284 ,\n",
              "       0.56790123, 0.57407407, 0.58024691, 0.58641975, 0.59259259,\n",
              "       0.59876543, 0.60493827, 0.61111111, 0.61728395, 0.62345679,\n",
              "       0.62345679, 0.62345679, 0.62962963, 0.63580247, 0.64197531,\n",
              "       0.64197531, 0.64814815, 0.65432099, 0.66049383, 0.66666667,\n",
              "       0.67283951, 0.67901235, 0.67901235, 0.68518519, 0.68518519,\n",
              "       0.68518519, 0.69135802, 0.69753086, 0.7037037 , 0.7037037 ,\n",
              "       0.70987654, 0.71604938, 0.72222222, 0.72839506, 0.7345679 ,\n",
              "       0.74074074, 0.74691358, 0.75308642, 0.75925926, 0.75925926,\n",
              "       0.7654321 , 0.77160494, 0.77160494, 0.77777778, 0.78395062,\n",
              "       0.79012346, 0.7962963 , 0.7962963 , 0.80246914, 0.80246914,\n",
              "       0.80864198, 0.80864198, 0.80864198, 0.81481481, 0.81481481,\n",
              "       0.82098765, 0.82716049, 0.83333333, 0.83333333, 0.83950617,\n",
              "       0.83950617, 0.83950617, 0.83950617, 0.84567901, 0.85185185,\n",
              "       0.85185185, 0.85802469, 0.85802469, 0.86419753, 0.86419753,\n",
              "       0.87037037, 0.87654321, 0.87654321, 0.87654321, 0.87654321,\n",
              "       0.87654321, 0.88271605, 0.88271605, 0.88271605, 0.88271605,\n",
              "       0.88271605, 0.88888889, 0.88888889, 0.88888889, 0.88888889,\n",
              "       0.88888889, 0.89506173, 0.89506173, 0.89506173, 0.89506173,\n",
              "       0.89506173, 0.89506173, 0.89506173, 0.89506173, 0.89506173,\n",
              "       0.89506173, 0.90123457, 0.90123457, 0.90123457, 0.90123457,\n",
              "       0.90123457, 0.90740741, 0.90740741, 0.90740741, 0.90740741,\n",
              "       0.90740741, 0.90740741, 0.91358025, 0.91358025, 0.91358025,\n",
              "       0.91358025, 0.91975309, 0.91975309, 0.91975309, 0.91975309,\n",
              "       0.91975309, 0.91975309, 0.91975309, 0.91975309, 0.91975309,\n",
              "       0.91975309, 0.91975309, 0.91975309, 0.92592593, 0.92592593,\n",
              "       0.92592593, 0.92592593, 0.93209877, 0.9382716 , 0.9382716 ,\n",
              "       0.9382716 , 0.94444444, 0.95061728, 0.95061728, 0.95061728,\n",
              "       0.95061728, 0.95061728, 0.95061728, 0.95061728, 0.95061728,\n",
              "       0.95679012, 0.95679012, 0.95679012, 0.96296296, 0.9691358 ,\n",
              "       0.9691358 , 0.9691358 , 0.9691358 , 0.9691358 , 0.9691358 ,\n",
              "       0.9691358 , 0.9691358 , 0.9691358 , 0.97530864, 0.97530864,\n",
              "       0.97530864, 0.97530864, 0.98148148, 0.98765432, 0.98765432,\n",
              "       0.98765432, 0.98765432, 0.99382716, 0.99382716, 0.99382716,\n",
              "       0.99382716, 0.99382716, 0.99382716, 0.99382716, 0.99382716,\n",
              "       0.99382716, 0.99382716, 0.99382716, 0.99382716, 0.99382716,\n",
              "       1.        , 1.        , 1.        , 1.        , 1.        ,\n",
              "       1.        , 1.        , 1.        , 1.        , 1.        ,\n",
              "       1.        , 1.        , 1.        , 1.        , 1.        ,\n",
              "       1.        , 1.        , 1.        , 1.        , 1.        ,\n",
              "       1.        , 1.        , 1.        , 1.        , 1.        ,\n",
              "       1.        , 1.        , 1.        , 1.        , 1.        ,\n",
              "       1.        ])"
            ]
          },
          "metadata": {
            "tags": []
          },
          "execution_count": 17
        }
      ]
    },
    {
      "cell_type": "code",
      "metadata": {
        "colab": {
          "base_uri": "https://localhost:8080/",
          "height": 368
        },
        "id": "Kbb3F5FA2x71",
        "outputId": "b3c6913c-2b4d-4105-c4a7-766799c86f0f"
      },
      "source": [
        "AUC_PR = np.sum(precision*(recall[1:]-recall[:-1]))\n",
        "\n",
        "plt.figure(figsize=(15, 5))\n",
        "plt.title('PR')\n",
        "plt.ylim(0, 1.05)\n",
        "plt.xlabel('recall')\n",
        "plt.ylabel('presision')\n",
        "plt.grid()\n",
        "plt.legend(' ', title=f'AUC-PR={AUC_PR:.3f}', loc='lower right')\n",
        "plt.plot(recall[1:], precision)"
      ],
      "execution_count": null,
      "outputs": [
        {
          "output_type": "execute_result",
          "data": {
            "text/plain": [
              "[<matplotlib.lines.Line2D at 0x7f7756fcebd0>]"
            ]
          },
          "metadata": {
            "tags": []
          },
          "execution_count": 18
        },
        {
          "output_type": "display_data",
          "data": {
            "image/png": "[encoded data removed]",
            "text/plain": [
              "<Figure size 1080x360 with 1 Axes>"
            ]
          },
          "metadata": {
            "tags": [],
            "needs_background": "light"
          }
        }
      ]
    },
    {
      "cell_type": "markdown",
      "metadata": {
        "id": "6Lp5P5Mc26mD"
      },
      "source": [
        "## Домашнее задание:\n",
        "Определите AUC_ROC и AUC_PR для модели логистической регрессии на тестовой выборке. Используйте реализацию модели в виде класса и функцию confusion, чтобы рассчитать TPR, FPR, precision, recal для различных порогов вероятности.\n",
        "Дополнительное задание(не обязательно): Получите такие же характеристики для линейной регрессии и сравните две модели."
      ]
    },
    {
      "cell_type": "code",
      "metadata": {
        "id": "TFweLg5h23Xc"
      },
      "source": [
        "proba=np.unique(mod.predict_proba(X_test))\n",
        "def confusion(predicted, actual):\n",
        "    TP=np.sum(np.logical_and(predicted==1, actual==1))\n",
        "    FP=np.sum(np.logical_and(predicted==1, actual==0))\n",
        "    FN=np.sum(np.logical_and(predicted==0, actual==1))\n",
        "    TN=np.sum(np.logical_and(predicted==0, actual==0))\n",
        "    return {'TP': TP, 'FP': FP, 'FN': FN, 'TN': TN}"
      ],
      "execution_count": null,
      "outputs": []
    },
    {
      "cell_type": "code",
      "metadata": {
        "colab": {
          "base_uri": "https://localhost:8080/"
        },
        "id": "emkNUvdI2_p9",
        "outputId": "995bff94-3ddb-43e9-f0f1-9865ec31d805"
      },
      "source": [
        "for p in proba[::40]:\n",
        "    print(\"Для порога по вероятности {0} на тестовой выборке имеем:\".format(p)+\n",
        "      f\" {confusion(mod.predict(X_test, p), target)}\")"
      ],
      "execution_count": null,
      "outputs": [
        {
          "output_type": "stream",
          "text": [
            "Для порога по вероятности 0.4664085247632536 на тестовой выборке имеем: {'TP': 138, 'FP': 161, 'FN': 0, 'TN': 1}\n",
            "Для порога по вероятности 0.48565282094164963 на тестовой выборке имеем: {'TP': 117, 'FP': 142, 'FN': 21, 'TN': 20}\n",
            "Для порога по вероятности 0.4902702766756748 на тестовой выборке имеем: {'TP': 95, 'FP': 124, 'FN': 43, 'TN': 38}\n",
            "Для порога по вероятности 0.4951229135419965 на тестовой выборке имеем: {'TP': 81, 'FP': 98, 'FN': 57, 'TN': 64}\n",
            "Для порога по вероятности 0.5012569986441655 на тестовой выборке имеем: {'TP': 62, 'FP': 77, 'FN': 76, 'TN': 85}\n",
            "Для порога по вероятности 0.5060542217750293 на тестовой выборке имеем: {'TP': 43, 'FP': 56, 'FN': 95, 'TN': 106}\n",
            "Для порога по вероятности 0.5110945397951218 на тестовой выборке имеем: {'TP': 25, 'FP': 34, 'FN': 113, 'TN': 128}\n",
            "Для порога по вероятности 0.5176182099528329 на тестовой выборке имеем: {'TP': 9, 'FP': 10, 'FN': 129, 'TN': 152}\n"
          ],
          "name": "stdout"
        }
      ]
    },
    {
      "cell_type": "markdown",
      "metadata": {
        "id": "TBQTgdl2WjtW"
      },
      "source": [
        "## Дополнительные материалы"
      ]
    },
    {
      "cell_type": "markdown",
      "metadata": {
        "id": "c4eqL1suWjtW"
      },
      "source": [
        "1. [Функции потерь для классификации](https://en.wikipedia.org/wiki/Loss_functions_for_classification)\n",
        "\n",
        "2. Метод максимального правдоподобия: [Сложное описание](https://habr.com/ru/company/ods/blog/323890/#metod-maksimalnogo-pravdopodobiya) / [Простое описание](https://www.youtube.com/watch?v=2iRIqkm1mug)\n",
        "\n",
        "3. [Встроенные датасеты Sklearn](https://scikit-learn.org/stable/modules/classes.html#module-sklearn.datasets)\n",
        "\n",
        "4. [numpy.trapz](https://docs.scipy.org/doc/numpy-1.13.0/reference/generated/numpy.trapz.html)"
      ]
    }
  ]
}