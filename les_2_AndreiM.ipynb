{
  "nbformat": 4,
  "nbformat_minor": 0,
  "metadata": {
    "kernelspec": {
      "display_name": "Python 3",
      "language": "python",
      "name": "python3"
    },
    "language_info": {
      "codemirror_mode": {
        "name": "ipython",
        "version": 3
      },
      "file_extension": ".py",
      "mimetype": "text/x-python",
      "name": "python",
      "nbconvert_exporter": "python",
      "pygments_lexer": "ipython3",
      "version": "3.7.1"
    },
    "colab": {
      "provenance": []
    }
  },
  "cells": [
    {
      "cell_type": "markdown",
      "metadata": {
        "id": "JkQFTgKJiqsy"
      },
      "source": [
        "# Урок 2. Масштабирование признаков. Регуляризация. Стохастический градиентный спуск.\n",
        "## ДЗ (17.04.2021 / 03.05.2021)"
      ]
    },
    {
      "cell_type": "markdown",
      "metadata": {
        "id": "jqAtp38x6lVS"
      },
      "source": [
        "* [Практическое задание. ДЗ.](#ex)\n",
        "    * [Задание](#ex)\n",
        "      * [Задание 1](#ex1)\n",
        "      * [Задание 2](#ex2)\n",
        "      * [Задание 3](#ex3)\n",
        "\n",
        "* [Теория](#theor)"
      ]
    },
    {
      "cell_type": "markdown",
      "metadata": {
        "id": "QEAaAbw46oja"
      },
      "source": [
        "## <center><a class=\"anchor\" id=\"ex\">Практическое задание </a><center>"
      ]
    },
    {
      "cell_type": "markdown",
      "metadata": {
        "id": "r8-Eitcx6uE3"
      },
      "source": [
        "### <a class=\"anchor\" id=\"ex1\">Задание </a>"
      ]
    },
    {
      "cell_type": "markdown",
      "metadata": {
        "id": "cxcasdH_6xr1"
      },
      "source": [
        "В ходе задания вам потребуется выполнить модификации выражений для рассчёта функции потерь линейной регресси и её градиента, связанные с добавлением регулярязационной l2 поправки."
      ]
    },
    {
      "cell_type": "markdown",
      "metadata": {
        "id": "axgOAAZe8qZW"
      },
      "source": [
        "<a class=\"anchor\" id=\"ex1\">1.</a> У вас, с прошлого урока, имеются реализации расчёта среднеквадратичной ошибки и её градиента для линейнй регрессии с коэффициентами при факторах(w) и свободным коэффициентам."
      ]
    },
    {
      "cell_type": "markdown",
      "metadata": {
        "id": "dlvZ7GFgHGd3"
      },
      "source": [
        "class linear_regression:\n",
        "    def _mserror(self, X, y_real):\n",
        "        #рассчёт среднеквадратичной ошибки\n",
        "        y = X.dot(self.w.T)+self.w0\n",
        "        return np.sum((y - y_real)**2) / y_real.shape[0]\n",
        "    def _mserror_grad(self, X, y_real):\n",
        "        #рассчёт градиента ошибки.\n",
        "        #2*delta.T.dot(X)/y_real.shape[0] - градиент по коэффициентам при факторах\n",
        "        #np.sum(2*delta)/y_real.shape[0] - производная(градиент) при нулевом коэффициенте\n",
        "        delta=(X.dot(self.w.T)+self.w0-y_real)\n",
        "        return 2*delta.T.dot(X)/y_real.shape[0], np.sum(2*delta)/y_real.shape[0]"
      ]
    },
    {
      "cell_type": "markdown",
      "metadata": {
        "id": "XJv1cb0fDzwq"
      },
      "source": [
        "В этом задании вы должны модифицировать реализацию рассчёта среднеквадратичной ошибки и рассчёта её производной, так, чтобы с к среднеквадратичной ошибке добавлялась l2 регулярязационная поправка: $ +c*\\sum \\limits _{j}  w_{j}^2 $ а к градиенту- ссответствующее выражение для градиента регулярязационной поправки."
      ]
    },
    {
      "cell_type": "markdown",
      "metadata": {
        "id": "SGP5KiPeHNMS"
      },
      "source": [
        "<a class=\"anchor\" id=\"ex2\">2.</a> На основе этих функций создайте свою регуляризированную полиномиальную регрессию и опробуйте на одном из примеров построения полиномиальной модели из этого урока. Пояснение:Для этого Вам достаточно создать класс, который наследуется от класса polynomial_regression из данного урока, и переопределить в нём методы mserror, mserror_grad(под переопределением подразумевается создание на новом классе методов с таким же названием).\n",
        "\n",
        "<a class=\"anchor\" id=\"ex3\">3*.</a> (по желанию). Оцените оцените предсказательную способность реализованного метода с использование 5-ти ступенчатой кросс-валидации, показанной в примере выше."
      ]
    },
    {
      "cell_type": "markdown",
      "metadata": {
        "id": "yOxO8grr60DX"
      },
      "source": [
        "__Решение__"
      ]
    },
    {
      "cell_type": "code",
      "metadata": {
        "id": "ebteJ8TCGXGI"
      },
      "source": [
        "# NEW !!!\n",
        "import matplotlib\n",
        "import numpy as np\n",
        "import matplotlib.pyplot as plt\n",
        "%matplotlib inline"
      ],
      "execution_count": null,
      "outputs": []
    },
    {
      "cell_type": "markdown",
      "metadata": {
        "id": "Cp7iSG9xBnvg"
      },
      "source": [
        "## Линеная регрессия с прошлого урока"
      ]
    },
    {
      "cell_type": "code",
      "metadata": {
        "id": "6apXaxEdGbQx"
      },
      "source": [
        "# 2 признака и 1000 объектов\n",
        "n_features = 2\n",
        "n_objects = 1000\n",
        "\n",
        "# сгенерируем вектор истинных весов\n",
        "w_true = np.random.normal(size=(1, n_features ))\n",
        "\n",
        "# сгенерируем матрицу X, вычислим Y с добавлением случайного шума\n",
        "X = np.random.uniform(-7, 7, (n_objects, n_features))\n",
        "Y = X.dot(w_true.T) + np.random.normal(0, 0.5, size=(n_objects, 1))\n",
        "\n",
        "# возьмем нулевые начальные веса\n",
        "w = np.zeros((1, n_features))"
      ],
      "execution_count": null,
      "outputs": []
    },
    {
      "cell_type": "code",
      "metadata": {
        "id": "E6rwjfmyGpeR",
        "colab": {
          "base_uri": "https://localhost:8080/"
        },
        "outputId": "4a608e6e-75fb-496a-df7c-e4cdfb16779d"
      },
      "source": [
        "def normal_equation(X, y):\n",
        "    return np.linalg.solve((X.T).dot(X), (X.T).dot(y)).T\n",
        "\n",
        "def mserror(X, w, y_real):\n",
        "    y = X.dot(w.T)\n",
        "    return np.sum((y - y_real)**2) / y_real.shape[0]\n",
        "\n",
        "normal_eq_w = normal_equation(X, Y)\n",
        "print('В случае использования нормального уравнения функционал ошибки составляет {0}'.format(round(mserror(X, normal_eq_w, Y), 4)))"
      ],
      "execution_count": null,
      "outputs": [
        {
          "output_type": "stream",
          "text": [
            "В случае использования нормального уравнения функционал ошибки составляет 0.2533\n"
          ],
          "name": "stdout"
        }
      ]
    },
    {
      "cell_type": "code",
      "metadata": {
        "id": "KEzZ7-IEGuym"
      },
      "source": [
        "class linear_regression:\n",
        "    def __init__(self, eta = 0.9, max_iter = 1e4, min_weight_dist = 1e-8):\n",
        "        self.eta = eta\n",
        "        self.max_iter = max_iter\n",
        "        self.min_weight_dist = min_weight_dist\n",
        "    def _mserror(self, X, y_real):\n",
        "        #рассчёт среднеквадратичной ошибки\n",
        "        # y = X.dot(self.w.T)+self.w0+1*(np.sum(self.w**2)) # L2 регуляризация\n",
        "        y = X.dot(self.w.T)+self.w0\n",
        "        return np.sum((y - y_real)**2) / y_real.shape[0]\n",
        "    def _mserror_grad(self, X, y_real):\n",
        "        #рассчёт градиента ошибки.\n",
        "        #2*delta.T.dot(X)/y_real.shape[0] - градиент по коэффициентам при факторах\n",
        "        #np.sum(2*delta)/y_real.shape[0] - производная(градиент) при нулевом коэффициенте\n",
        "\n",
        "        delta=(X.dot(self.w.T)+self.w0-y_real)\n",
        "        return 2*delta.T.dot(X)/y_real.shape[0], np.sum(2*delta)/y_real.shape[0]\n",
        "    def _optimize(self, X, Y):\n",
        "        #оптимизация коэффициентов\n",
        "        iter_num = 0\n",
        "        weight_dist = np.inf\n",
        "        self.w = np.zeros((1, X.shape[1]))\n",
        "        self.w0=0\n",
        "        while weight_dist > self.min_weight_dist and iter_num < self.max_iter:\n",
        "            gr_w, gr_w0=self._mserror_grad(X, Y)\n",
        "            if iter_num==0:\n",
        "                #Чтобы eta адаптировалась к порядку градиента, делим на l2 норму градиента в нуле\n",
        "                eta=self.eta/np.sqrt(np.linalg.norm(gr_w)**2+(gr_w0)**2)\n",
        "            new_w = self.w - eta * gr_w\n",
        "            new_w0= self.w0 - eta * gr_w0\n",
        "            weight_dist = np.sqrt(np.linalg.norm(new_w - self.w)**2+(new_w0 - self.w0)**2)\n",
        "            iter_num += 1\n",
        "            self.w = new_w\n",
        "            self.w0 = new_w0\n",
        "    def fit(self, X, Y):\n",
        "        if Y.ndim==1:\n",
        "            Y=Y[:, np.newaxis]\n",
        "        self._optimize(X, Y)\n",
        "    def predict(self, X):\n",
        "        return (X.dot(self.w.T)+self.w0).flatten()\n",
        "    def test(self, X, Y):\n",
        "        if Y.ndim==1:\n",
        "            Y=Y[:, np.newaxis]\n",
        "        return self._mserror(X, Y)"
      ],
      "execution_count": null,
      "outputs": []
    },
    {
      "cell_type": "code",
      "metadata": {
        "id": "vFaVUcI5G0NO"
      },
      "source": [
        "shift=np.random.uniform(0, 100)"
      ],
      "execution_count": null,
      "outputs": []
    },
    {
      "cell_type": "code",
      "metadata": {
        "id": "lMgd-_FAGiJC",
        "colab": {
          "base_uri": "https://localhost:8080/"
        },
        "outputId": "72a36ec7-5c8c-4faa-8444-20e03a91401f"
      },
      "source": [
        "Y_shift=Y+shift\n",
        "lr=linear_regression(0.05)\n",
        "lr.fit(X, Y_shift)\n",
        "lr.test(X, Y_shift)"
      ],
      "execution_count": null,
      "outputs": [
        {
          "output_type": "execute_result",
          "data": {
            "text/plain": [
              "0.39040520806431667"
            ]
          },
          "metadata": {
            "tags": []
          },
          "execution_count": 6
        }
      ]
    },
    {
      "cell_type": "code",
      "metadata": {
        "id": "mUEBh83WHFHa",
        "colab": {
          "base_uri": "https://localhost:8080/"
        },
        "outputId": "e9acfb87-3456-4c06-bd7d-f9255c9dec76"
      },
      "source": [
        "shift, lr.w0"
      ],
      "execution_count": null,
      "outputs": [
        {
          "output_type": "execute_result",
          "data": {
            "text/plain": [
              "(89.48725812205771, 89.13371275860085)"
            ]
          },
          "metadata": {
            "tags": []
          },
          "execution_count": 7
        }
      ]
    },
    {
      "cell_type": "code",
      "metadata": {
        "colab": {
          "base_uri": "https://localhost:8080/"
        },
        "id": "JGwxEM4qHPiJ",
        "outputId": "639123e3-441f-4ab9-dd78-181a87beffb0"
      },
      "source": [
        "lr.w, w_true"
      ],
      "execution_count": null,
      "outputs": [
        {
          "output_type": "execute_result",
          "data": {
            "text/plain": [
              "(array([[0.33486135, 0.92553042]]), array([[0.34989111, 0.92795649]]))"
            ]
          },
          "metadata": {
            "tags": []
          },
          "execution_count": 8
        }
      ]
    },
    {
      "cell_type": "markdown",
      "metadata": {
        "id": "vjedhEftBx9X"
      },
      "source": [
        "## Полиноминальная регрессия"
      ]
    },
    {
      "cell_type": "code",
      "metadata": {
        "colab": {
          "base_uri": "https://localhost:8080/"
        },
        "id": "b5NYFlHRB8vb",
        "outputId": "e6bb46a8-ebcb-4d65-c6bb-d3e951a0b390"
      },
      "source": [
        "#Исходные данные\n",
        "def f(x):\n",
        "    return 0.06 - 0.2 * x - 1.3 * x ** 2 - 5.17 * x ** 3\n",
        "np.random.seed(10)\n",
        "dots = np.linspace(-10, 10, 100)\n",
        "x_data = np.random.uniform(-10, 10, 40)\n",
        "f_data = [f(i) for i in x_data] + np.random.uniform(-1000, 1000, 40)\n",
        "f_data"
      ],
      "execution_count": null,
      "outputs": [
        {
          "output_type": "execute_result",
          "data": {
            "text/plain": [
              "array([-7.70225909e+02,  5.07374009e+03, -7.10602467e+02,  4.35572174e+01,\n",
              "       -2.96629771e+02,  1.33314136e+03,  6.84277185e+02,  1.91220594e-01,\n",
              "        1.09387464e+03,  2.12895797e+03, -4.96896250e+02, -4.77656335e+03,\n",
              "        5.56478988e+03, -6.97836989e+02, -1.54745547e+03,  8.22616544e+02,\n",
              "        4.97825589e+02,  2.63838180e+02, -2.45594178e+03, -9.30615125e+02,\n",
              "        1.90506927e+02,  2.63557891e+03,  1.45381392e+02, -5.43893195e+01,\n",
              "       -9.14763489e+02, -2.75693425e+02, -9.15950808e+02, -3.89256273e+02,\n",
              "       -4.91566798e+02,  4.99345251e+02, -2.14575621e+03, -1.41705452e+02,\n",
              "       -3.28104157e+03,  5.01069675e+02,  2.44817847e+03, -6.06185104e+02,\n",
              "        3.06295451e+03, -9.99556983e+02,  4.49876096e+03, -2.57022545e+02])"
            ]
          },
          "metadata": {
            "tags": []
          },
          "execution_count": 9
        }
      ]
    },
    {
      "cell_type": "code",
      "metadata": {
        "colab": {
          "base_uri": "https://localhost:8080/",
          "height": 515
        },
        "id": "WAc6JKMJCDJh",
        "outputId": "22dc823f-0743-4aa3-f40b-bca068eb2d8c"
      },
      "source": [
        "plt.figure(figsize=(15, 8))\n",
        "plt.xlabel('x')\n",
        "plt.ylabel('f(x)')\n",
        "plt.ylim(-5000, 5000)\n",
        "plt.xlim(-10,10)\n",
        "\n",
        "plt.plot(dots, f(dots), color='g')\n",
        "plt.scatter(x_data, f_data)"
      ],
      "execution_count": null,
      "outputs": [
        {
          "output_type": "execute_result",
          "data": {
            "text/plain": [
              "<matplotlib.collections.PathCollection at 0x7f956202dd50>"
            ]
          },
          "metadata": {
            "tags": []
          },
          "execution_count": 10
        },
        {
          "output_type": "display_data",
          "data": {
            "image/png": "[encoded data removed]",
            "text/plain": [
              "<Figure size 1080x576 with 1 Axes>"
            ]
          },
          "metadata": {
            "tags": [],
            "needs_background": "light"
          }
        }
      ]
    },
    {
      "cell_type": "markdown",
      "metadata": {
        "id": "Bm2cH6Y2CUA4"
      },
      "source": [
        "## Полиноминальная регрессия данные урока"
      ]
    },
    {
      "cell_type": "code",
      "metadata": {
        "id": "VouQAE9iCW8f"
      },
      "source": [
        "from sklearn.linear_model import LinearRegression as sklearn_LR\n",
        "\n",
        "class polynomial_regression(linear_regression):\n",
        "    def __init__(self, max_power, *args, **kwargs):\n",
        "        self.max_power=max_power\n",
        "        super().__init__(*args, **kwargs)\n",
        "    @staticmethod\n",
        "    def generate_features(x, max_power):\n",
        "        x=x[:, np.newaxis]\n",
        "        return np.concatenate([x**i for i in range(1, max_power+1)], axis=1)\n",
        "    def fit(self, x, y):\n",
        "        super().fit(self.generate_features(x, self.max_power), y)\n",
        "    def predict(self, x):\n",
        "        return super().predict(self.generate_features(x, self.max_power)).flatten()\n",
        "    def test(self, x, y):\n",
        "        return super().test(self.generate_features(x, self.max_power), y)\n",
        "\n",
        "class polynomial_regression_sklearn(sklearn_LR):\n",
        "    def __init__(self, max_power, *args, **kwargs):\n",
        "        self.max_power=max_power\n",
        "        super().__init__(*args, **kwargs)\n",
        "    generate_features=staticmethod(polynomial_regression.generate_features)\n",
        "    def fit(self, x, y):\n",
        "        super().fit(self.generate_features(x, self.max_power), y)\n",
        "    def predict(self, x):\n",
        "        return super().predict(self.generate_features(x, self.max_power))\n",
        "    def test(self, x, y):\n",
        "        return np.sum((self.predict(x) - y)**2) / y.shape[0]"
      ],
      "execution_count": null,
      "outputs": []
    },
    {
      "cell_type": "code",
      "metadata": {
        "colab": {
          "base_uri": "https://localhost:8080/"
        },
        "id": "k3Dyyv2GCble",
        "outputId": "55bc5060-5351-4be6-f623-722effbc0c4b"
      },
      "source": [
        "our_mod=polynomial_regression(3)\n",
        "our_mod.fit(x_data, f_data)\n",
        "sk_mod=polynomial_regression_sklearn(3)\n",
        "sk_mod.fit(x_data, f_data)\n",
        "print('Коэффициенты при факторах(наша модель):', our_mod.w)\n",
        "print('Коэффициенты при факторах(sklearn):', sk_mod.coef_)\n",
        "print('Нулевые коэффициенты(интерцепты):',our_mod.w0, sk_mod.intercept_)"
      ],
      "execution_count": null,
      "outputs": [
        {
          "output_type": "stream",
          "text": [
            "Коэффициенты при факторах(наша модель): [[ 3.23188868 -0.17666168 -5.58351058]]\n",
            "Коэффициенты при факторах(sklearn): [58.83076203  2.17562126 -6.34784107]\n",
            "Нулевые коэффициенты(интерцепты): -0.8692446341196097 -172.2337890841581\n"
          ],
          "name": "stdout"
        }
      ]
    },
    {
      "cell_type": "code",
      "metadata": {
        "colab": {
          "base_uri": "https://localhost:8080/",
          "height": 515
        },
        "id": "E9c8rpaCCgI4",
        "outputId": "740bbdbd-b1d4-47aa-a1e2-afd2db9ec028"
      },
      "source": [
        "#Актуальные данные\n",
        "plt.figure(figsize=(15, 8))\n",
        "plt.xlabel('x')\n",
        "plt.ylabel('f(x)')\n",
        "plt.ylim(-5000, 5000)\n",
        "plt.xlim(-10,10)\n",
        "plt.plot(dots, f(dots), color='g')\n",
        "plt.scatter(x_data, f_data)\n",
        "\n",
        "#Наша модель\n",
        "model1 = polynomial_regression(3)\n",
        "model1.fit(x_data, f_data)\n",
        "plt.plot(dots, model1.predict(dots), color='r')\n",
        "\n",
        "#Sklearn\n",
        "model2 = polynomial_regression_sklearn(3)\n",
        "model2.fit(x_data, f_data)\n",
        "plt.plot(dots, model2.predict(dots), 'm--', linewidth=2)"
      ],
      "execution_count": null,
      "outputs": [
        {
          "output_type": "execute_result",
          "data": {
            "text/plain": [
              "[<matplotlib.lines.Line2D at 0x7f954f04ac10>]"
            ]
          },
          "metadata": {
            "tags": []
          },
          "execution_count": 13
        },
        {
          "output_type": "display_data",
          "data": {
            "image/png": "[encoded data removed]",
            "text/plain": [
              "<Figure size 1080x576 with 1 Axes>"
            ]
          },
          "metadata": {
            "tags": [],
            "needs_background": "light"
          }
        }
      ]
    },
    {
      "cell_type": "markdown",
      "metadata": {
        "id": "xKH_Ef2lCoAf"
      },
      "source": [
        "## Полиноминальная регрессия L2 регуляризация"
      ]
    },
    {
      "cell_type": "code",
      "metadata": {
        "id": "a2lZY1ZSCm52"
      },
      "source": [
        "class our_polynomial_regression(polynomial_regression):\n",
        "  def __init__(self, max_power, c=1.0):\n",
        "    self.c = c\n",
        "    self.max_power  =max_power\n",
        "  def _mserror(self, X, y_real):\n",
        "      #рассчёт среднеквадратичной ошибки\n",
        "      #y = X.dot(self.w.T)+self.w0+self.c=c*(np.sum(self.w**2))\n",
        "      # NEW\n",
        "      y = X.dot(self.w.T)+self.w0\n",
        "      # y = X.dot(self.w.T)+self.w0\n",
        "      # return np.sum((y - y_real)**2) / y_real.shape[0]\n",
        "      return np.sum((y - y_real)**2) / y_real.shape[0]+self.c*(np.sum(self.w**2))\n",
        "  def _mserror_grad(self, X, y_real):\n",
        "      #рассчёт градиента ошибки.\n",
        "      #2*delta.T.dot(X)/y_real.shape[0] - градиент по коэффициентам при факторах\n",
        "      #np.sum(2*delta)/y_real.shape[0] - производная(градиент) при нулевом коэффициенте\n",
        "      delta=(X.dot(self.w.T)+self.w0-y_real)\n",
        "      # delta=(X.dot(self.w.T)+self.w0-y_real)\n",
        "      return 2*delta.T.dot(X)/y_real.shape[0]+2*self.c*np.sum(self.w), np.sum(2*delta)/y_real.shape[0]"
      ],
      "execution_count": null,
      "outputs": []
    },
    {
      "cell_type": "code",
      "metadata": {
        "colab": {
          "base_uri": "https://localhost:8080/",
          "height": 394
        },
        "id": "EEiMgSEsCy7p",
        "outputId": "ccf02d75-8ce4-4c7f-f9d6-5227c0479faf"
      },
      "source": [
        "our_mod=polynomial_regression(3)\n",
        "our_mod.fit(x_data, f_data)\n",
        "our_mod2=our_polynomial_regression(5, 0.01)\n",
        "our_mod2.fit(x_data, f_data)\n",
        "sk_mod=polynomial_regression_sklearn(3)\n",
        "sk_mod.fit(x_data, f_data)\n",
        "print('Коэффициенты при факторах(наша модель):', our_mod.w)\n",
        "print('Коэффициенты при факторах(наша модель2):', our_mod2.w)\n",
        "print('Коэффициенты при факторах(sklearn):', sk_mod.coef_)\n",
        "print('Нулевые коэффициенты(интерцепты):',our_mod.w0, our_mod2.w0, sk_mod.intercept_)"
      ],
      "execution_count": null,
      "outputs": [
        {
          "output_type": "error",
          "ename": "AttributeError",
          "evalue": "ignored",
          "traceback": [
            "\u001b[0;31m---------------------------------------------------------------------------\u001b[0m",
            "\u001b[0;31mAttributeError\u001b[0m                            Traceback (most recent call last)",
            "\u001b[0;32m<ipython-input-15-40fc1e76add4>\u001b[0m in \u001b[0;36m<module>\u001b[0;34m()\u001b[0m\n\u001b[1;32m      2\u001b[0m \u001b[0mour_mod\u001b[0m\u001b[0;34m.\u001b[0m\u001b[0mfit\u001b[0m\u001b[0;34m(\u001b[0m\u001b[0mx_data\u001b[0m\u001b[0;34m,\u001b[0m \u001b[0mf_data\u001b[0m\u001b[0;34m)\u001b[0m\u001b[0;34m\u001b[0m\u001b[0;34m\u001b[0m\u001b[0m\n\u001b[1;32m      3\u001b[0m \u001b[0mour_mod2\u001b[0m\u001b[0;34m=\u001b[0m\u001b[0mour_polynomial_regression\u001b[0m\u001b[0;34m(\u001b[0m\u001b[0;36m5\u001b[0m\u001b[0;34m,\u001b[0m \u001b[0;36m0.01\u001b[0m\u001b[0;34m)\u001b[0m\u001b[0;34m\u001b[0m\u001b[0;34m\u001b[0m\u001b[0m\n\u001b[0;32m----> 4\u001b[0;31m \u001b[0mour_mod2\u001b[0m\u001b[0;34m.\u001b[0m\u001b[0mfit\u001b[0m\u001b[0;34m(\u001b[0m\u001b[0mx_data\u001b[0m\u001b[0;34m,\u001b[0m \u001b[0mf_data\u001b[0m\u001b[0;34m)\u001b[0m\u001b[0;34m\u001b[0m\u001b[0;34m\u001b[0m\u001b[0m\n\u001b[0m\u001b[1;32m      5\u001b[0m \u001b[0msk_mod\u001b[0m\u001b[0;34m=\u001b[0m\u001b[0mpolynomial_regression_sklearn\u001b[0m\u001b[0;34m(\u001b[0m\u001b[0;36m3\u001b[0m\u001b[0;34m)\u001b[0m\u001b[0;34m\u001b[0m\u001b[0;34m\u001b[0m\u001b[0m\n\u001b[1;32m      6\u001b[0m \u001b[0msk_mod\u001b[0m\u001b[0;34m.\u001b[0m\u001b[0mfit\u001b[0m\u001b[0;34m(\u001b[0m\u001b[0mx_data\u001b[0m\u001b[0;34m,\u001b[0m \u001b[0mf_data\u001b[0m\u001b[0;34m)\u001b[0m\u001b[0;34m\u001b[0m\u001b[0;34m\u001b[0m\u001b[0m\n",
            "\u001b[0;32m<ipython-input-11-20210d440e00>\u001b[0m in \u001b[0;36mfit\u001b[0;34m(self, x, y)\u001b[0m\n\u001b[1;32m     10\u001b[0m         \u001b[0;32mreturn\u001b[0m \u001b[0mnp\u001b[0m\u001b[0;34m.\u001b[0m\u001b[0mconcatenate\u001b[0m\u001b[0;34m(\u001b[0m\u001b[0;34m[\u001b[0m\u001b[0mx\u001b[0m\u001b[0;34m**\u001b[0m\u001b[0mi\u001b[0m \u001b[0;32mfor\u001b[0m \u001b[0mi\u001b[0m \u001b[0;32min\u001b[0m \u001b[0mrange\u001b[0m\u001b[0;34m(\u001b[0m\u001b[0;36m1\u001b[0m\u001b[0;34m,\u001b[0m \u001b[0mmax_power\u001b[0m\u001b[0;34m+\u001b[0m\u001b[0;36m1\u001b[0m\u001b[0;34m)\u001b[0m\u001b[0;34m]\u001b[0m\u001b[0;34m,\u001b[0m \u001b[0maxis\u001b[0m\u001b[0;34m=\u001b[0m\u001b[0;36m1\u001b[0m\u001b[0;34m)\u001b[0m\u001b[0;34m\u001b[0m\u001b[0;34m\u001b[0m\u001b[0m\n\u001b[1;32m     11\u001b[0m     \u001b[0;32mdef\u001b[0m \u001b[0mfit\u001b[0m\u001b[0;34m(\u001b[0m\u001b[0mself\u001b[0m\u001b[0;34m,\u001b[0m \u001b[0mx\u001b[0m\u001b[0;34m,\u001b[0m \u001b[0my\u001b[0m\u001b[0;34m)\u001b[0m\u001b[0;34m:\u001b[0m\u001b[0;34m\u001b[0m\u001b[0;34m\u001b[0m\u001b[0m\n\u001b[0;32m---> 12\u001b[0;31m         \u001b[0msuper\u001b[0m\u001b[0;34m(\u001b[0m\u001b[0;34m)\u001b[0m\u001b[0;34m.\u001b[0m\u001b[0mfit\u001b[0m\u001b[0;34m(\u001b[0m\u001b[0mself\u001b[0m\u001b[0;34m.\u001b[0m\u001b[0mgenerate_features\u001b[0m\u001b[0;34m(\u001b[0m\u001b[0mx\u001b[0m\u001b[0;34m,\u001b[0m \u001b[0mself\u001b[0m\u001b[0;34m.\u001b[0m\u001b[0mmax_power\u001b[0m\u001b[0;34m)\u001b[0m\u001b[0;34m,\u001b[0m \u001b[0my\u001b[0m\u001b[0;34m)\u001b[0m\u001b[0;34m\u001b[0m\u001b[0;34m\u001b[0m\u001b[0m\n\u001b[0m\u001b[1;32m     13\u001b[0m     \u001b[0;32mdef\u001b[0m \u001b[0mpredict\u001b[0m\u001b[0;34m(\u001b[0m\u001b[0mself\u001b[0m\u001b[0;34m,\u001b[0m \u001b[0mx\u001b[0m\u001b[0;34m)\u001b[0m\u001b[0;34m:\u001b[0m\u001b[0;34m\u001b[0m\u001b[0;34m\u001b[0m\u001b[0m\n\u001b[1;32m     14\u001b[0m         \u001b[0;32mreturn\u001b[0m \u001b[0msuper\u001b[0m\u001b[0;34m(\u001b[0m\u001b[0;34m)\u001b[0m\u001b[0;34m.\u001b[0m\u001b[0mpredict\u001b[0m\u001b[0;34m(\u001b[0m\u001b[0mself\u001b[0m\u001b[0;34m.\u001b[0m\u001b[0mgenerate_features\u001b[0m\u001b[0;34m(\u001b[0m\u001b[0mx\u001b[0m\u001b[0;34m,\u001b[0m \u001b[0mself\u001b[0m\u001b[0;34m.\u001b[0m\u001b[0mmax_power\u001b[0m\u001b[0;34m)\u001b[0m\u001b[0;34m)\u001b[0m\u001b[0;34m.\u001b[0m\u001b[0mflatten\u001b[0m\u001b[0;34m(\u001b[0m\u001b[0;34m)\u001b[0m\u001b[0;34m\u001b[0m\u001b[0;34m\u001b[0m\u001b[0m\n",
            "\u001b[0;32m<ipython-input-4-d3fc1d7ce85b>\u001b[0m in \u001b[0;36mfit\u001b[0;34m(self, X, Y)\u001b[0m\n\u001b[1;32m     36\u001b[0m         \u001b[0;32mif\u001b[0m \u001b[0mY\u001b[0m\u001b[0;34m.\u001b[0m\u001b[0mndim\u001b[0m\u001b[0;34m==\u001b[0m\u001b[0;36m1\u001b[0m\u001b[0;34m:\u001b[0m\u001b[0;34m\u001b[0m\u001b[0;34m\u001b[0m\u001b[0m\n\u001b[1;32m     37\u001b[0m             \u001b[0mY\u001b[0m\u001b[0;34m=\u001b[0m\u001b[0mY\u001b[0m\u001b[0;34m[\u001b[0m\u001b[0;34m:\u001b[0m\u001b[0;34m,\u001b[0m \u001b[0mnp\u001b[0m\u001b[0;34m.\u001b[0m\u001b[0mnewaxis\u001b[0m\u001b[0;34m]\u001b[0m\u001b[0;34m\u001b[0m\u001b[0;34m\u001b[0m\u001b[0m\n\u001b[0;32m---> 38\u001b[0;31m         \u001b[0mself\u001b[0m\u001b[0;34m.\u001b[0m\u001b[0m_optimize\u001b[0m\u001b[0;34m(\u001b[0m\u001b[0mX\u001b[0m\u001b[0;34m,\u001b[0m \u001b[0mY\u001b[0m\u001b[0;34m)\u001b[0m\u001b[0;34m\u001b[0m\u001b[0;34m\u001b[0m\u001b[0m\n\u001b[0m\u001b[1;32m     39\u001b[0m     \u001b[0;32mdef\u001b[0m \u001b[0mpredict\u001b[0m\u001b[0;34m(\u001b[0m\u001b[0mself\u001b[0m\u001b[0;34m,\u001b[0m \u001b[0mX\u001b[0m\u001b[0;34m)\u001b[0m\u001b[0;34m:\u001b[0m\u001b[0;34m\u001b[0m\u001b[0;34m\u001b[0m\u001b[0m\n\u001b[1;32m     40\u001b[0m         \u001b[0;32mreturn\u001b[0m \u001b[0;34m(\u001b[0m\u001b[0mX\u001b[0m\u001b[0;34m.\u001b[0m\u001b[0mdot\u001b[0m\u001b[0;34m(\u001b[0m\u001b[0mself\u001b[0m\u001b[0;34m.\u001b[0m\u001b[0mw\u001b[0m\u001b[0;34m.\u001b[0m\u001b[0mT\u001b[0m\u001b[0;34m)\u001b[0m\u001b[0;34m+\u001b[0m\u001b[0mself\u001b[0m\u001b[0;34m.\u001b[0m\u001b[0mw0\u001b[0m\u001b[0;34m)\u001b[0m\u001b[0;34m.\u001b[0m\u001b[0mflatten\u001b[0m\u001b[0;34m(\u001b[0m\u001b[0;34m)\u001b[0m\u001b[0;34m\u001b[0m\u001b[0;34m\u001b[0m\u001b[0m\n",
            "\u001b[0;32m<ipython-input-4-d3fc1d7ce85b>\u001b[0m in \u001b[0;36m_optimize\u001b[0;34m(self, X, Y)\u001b[0m\n\u001b[1;32m     22\u001b[0m         \u001b[0mself\u001b[0m\u001b[0;34m.\u001b[0m\u001b[0mw\u001b[0m \u001b[0;34m=\u001b[0m \u001b[0mnp\u001b[0m\u001b[0;34m.\u001b[0m\u001b[0mzeros\u001b[0m\u001b[0;34m(\u001b[0m\u001b[0;34m(\u001b[0m\u001b[0;36m1\u001b[0m\u001b[0;34m,\u001b[0m \u001b[0mX\u001b[0m\u001b[0;34m.\u001b[0m\u001b[0mshape\u001b[0m\u001b[0;34m[\u001b[0m\u001b[0;36m1\u001b[0m\u001b[0;34m]\u001b[0m\u001b[0;34m)\u001b[0m\u001b[0;34m)\u001b[0m\u001b[0;34m\u001b[0m\u001b[0;34m\u001b[0m\u001b[0m\n\u001b[1;32m     23\u001b[0m         \u001b[0mself\u001b[0m\u001b[0;34m.\u001b[0m\u001b[0mw0\u001b[0m\u001b[0;34m=\u001b[0m\u001b[0;36m0\u001b[0m\u001b[0;34m\u001b[0m\u001b[0;34m\u001b[0m\u001b[0m\n\u001b[0;32m---> 24\u001b[0;31m         \u001b[0;32mwhile\u001b[0m \u001b[0mweight_dist\u001b[0m \u001b[0;34m>\u001b[0m \u001b[0mself\u001b[0m\u001b[0;34m.\u001b[0m\u001b[0mmin_weight_dist\u001b[0m \u001b[0;32mand\u001b[0m \u001b[0miter_num\u001b[0m \u001b[0;34m<\u001b[0m \u001b[0mself\u001b[0m\u001b[0;34m.\u001b[0m\u001b[0mmax_iter\u001b[0m\u001b[0;34m:\u001b[0m\u001b[0;34m\u001b[0m\u001b[0;34m\u001b[0m\u001b[0m\n\u001b[0m\u001b[1;32m     25\u001b[0m             \u001b[0mgr_w\u001b[0m\u001b[0;34m,\u001b[0m \u001b[0mgr_w0\u001b[0m\u001b[0;34m=\u001b[0m\u001b[0mself\u001b[0m\u001b[0;34m.\u001b[0m\u001b[0m_mserror_grad\u001b[0m\u001b[0;34m(\u001b[0m\u001b[0mX\u001b[0m\u001b[0;34m,\u001b[0m \u001b[0mY\u001b[0m\u001b[0;34m)\u001b[0m\u001b[0;34m\u001b[0m\u001b[0;34m\u001b[0m\u001b[0m\n\u001b[1;32m     26\u001b[0m             \u001b[0;32mif\u001b[0m \u001b[0miter_num\u001b[0m\u001b[0;34m==\u001b[0m\u001b[0;36m0\u001b[0m\u001b[0;34m:\u001b[0m\u001b[0;34m\u001b[0m\u001b[0;34m\u001b[0m\u001b[0m\n",
            "\u001b[0;31mAttributeError\u001b[0m: 'our_polynomial_regression' object has no attribute 'min_weight_dist'"
          ]
        }
      ]
    },
    {
      "cell_type": "code",
      "metadata": {
        "colab": {
          "base_uri": "https://localhost:8080/",
          "height": 874
        },
        "id": "E-mtixe6C1yk",
        "outputId": "42e9e05e-d544-4ac1-856d-74b9aca57157"
      },
      "source": [
        "#Актуальные данные\n",
        "plt.figure(figsize=(20, 8))\n",
        "plt.xlabel('x')\n",
        "plt.ylabel('f(x)')\n",
        "plt.ylim(-5000, 5000)\n",
        "plt.xlim(-10,10)\n",
        "plt.plot(dots, f(dots), color='g')\n",
        "plt.scatter(x_data, f_data)\n",
        "\n",
        "#Наша модель\n",
        "model1 = polynomial_regression(3)\n",
        "model1.fit(x_data, f_data)\n",
        "plt.plot(dots, model1.predict(dots), color='r')\n",
        "\n",
        "#Наша модель l2\n",
        "model2 = our_polynomial_regression(5, 0.01)\n",
        "model2.fit(x_data, f_data)\n",
        "plt.plot(dots, model2.predict(dots), color='black')\n",
        "\n",
        "#Sklearn\n",
        "model3 = polynomial_regression_sklearn(3)\n",
        "model3.fit(x_data, f_data)\n",
        "plt.plot(dots, model3.predict(dots), 'm--', linewidth=2)"
      ],
      "execution_count": null,
      "outputs": [
        {
          "output_type": "error",
          "ename": "AttributeError",
          "evalue": "ignored",
          "traceback": [
            "\u001b[0;31m---------------------------------------------------------------------------\u001b[0m",
            "\u001b[0;31mAttributeError\u001b[0m                            Traceback (most recent call last)",
            "\u001b[0;32m<ipython-input-16-e5537d5445ab>\u001b[0m in \u001b[0;36m<module>\u001b[0;34m()\u001b[0m\n\u001b[1;32m     15\u001b[0m \u001b[0;31m#Наша модель l2\u001b[0m\u001b[0;34m\u001b[0m\u001b[0;34m\u001b[0m\u001b[0;34m\u001b[0m\u001b[0m\n\u001b[1;32m     16\u001b[0m \u001b[0mmodel2\u001b[0m \u001b[0;34m=\u001b[0m \u001b[0mour_polynomial_regression\u001b[0m\u001b[0;34m(\u001b[0m\u001b[0;36m5\u001b[0m\u001b[0;34m,\u001b[0m \u001b[0;36m0.01\u001b[0m\u001b[0;34m)\u001b[0m\u001b[0;34m\u001b[0m\u001b[0;34m\u001b[0m\u001b[0m\n\u001b[0;32m---> 17\u001b[0;31m \u001b[0mmodel2\u001b[0m\u001b[0;34m.\u001b[0m\u001b[0mfit\u001b[0m\u001b[0;34m(\u001b[0m\u001b[0mx_data\u001b[0m\u001b[0;34m,\u001b[0m \u001b[0mf_data\u001b[0m\u001b[0;34m)\u001b[0m\u001b[0;34m\u001b[0m\u001b[0;34m\u001b[0m\u001b[0m\n\u001b[0m\u001b[1;32m     18\u001b[0m \u001b[0mplt\u001b[0m\u001b[0;34m.\u001b[0m\u001b[0mplot\u001b[0m\u001b[0;34m(\u001b[0m\u001b[0mdots\u001b[0m\u001b[0;34m,\u001b[0m \u001b[0mmodel2\u001b[0m\u001b[0;34m.\u001b[0m\u001b[0mpredict\u001b[0m\u001b[0;34m(\u001b[0m\u001b[0mdots\u001b[0m\u001b[0;34m)\u001b[0m\u001b[0;34m,\u001b[0m \u001b[0mcolor\u001b[0m\u001b[0;34m=\u001b[0m\u001b[0;34m'black'\u001b[0m\u001b[0;34m)\u001b[0m\u001b[0;34m\u001b[0m\u001b[0;34m\u001b[0m\u001b[0m\n\u001b[1;32m     19\u001b[0m \u001b[0;34m\u001b[0m\u001b[0m\n",
            "\u001b[0;32m<ipython-input-11-20210d440e00>\u001b[0m in \u001b[0;36mfit\u001b[0;34m(self, x, y)\u001b[0m\n\u001b[1;32m     10\u001b[0m         \u001b[0;32mreturn\u001b[0m \u001b[0mnp\u001b[0m\u001b[0;34m.\u001b[0m\u001b[0mconcatenate\u001b[0m\u001b[0;34m(\u001b[0m\u001b[0;34m[\u001b[0m\u001b[0mx\u001b[0m\u001b[0;34m**\u001b[0m\u001b[0mi\u001b[0m \u001b[0;32mfor\u001b[0m \u001b[0mi\u001b[0m \u001b[0;32min\u001b[0m \u001b[0mrange\u001b[0m\u001b[0;34m(\u001b[0m\u001b[0;36m1\u001b[0m\u001b[0;34m,\u001b[0m \u001b[0mmax_power\u001b[0m\u001b[0;34m+\u001b[0m\u001b[0;36m1\u001b[0m\u001b[0;34m)\u001b[0m\u001b[0;34m]\u001b[0m\u001b[0;34m,\u001b[0m \u001b[0maxis\u001b[0m\u001b[0;34m=\u001b[0m\u001b[0;36m1\u001b[0m\u001b[0;34m)\u001b[0m\u001b[0;34m\u001b[0m\u001b[0;34m\u001b[0m\u001b[0m\n\u001b[1;32m     11\u001b[0m     \u001b[0;32mdef\u001b[0m \u001b[0mfit\u001b[0m\u001b[0;34m(\u001b[0m\u001b[0mself\u001b[0m\u001b[0;34m,\u001b[0m \u001b[0mx\u001b[0m\u001b[0;34m,\u001b[0m \u001b[0my\u001b[0m\u001b[0;34m)\u001b[0m\u001b[0;34m:\u001b[0m\u001b[0;34m\u001b[0m\u001b[0;34m\u001b[0m\u001b[0m\n\u001b[0;32m---> 12\u001b[0;31m         \u001b[0msuper\u001b[0m\u001b[0;34m(\u001b[0m\u001b[0;34m)\u001b[0m\u001b[0;34m.\u001b[0m\u001b[0mfit\u001b[0m\u001b[0;34m(\u001b[0m\u001b[0mself\u001b[0m\u001b[0;34m.\u001b[0m\u001b[0mgenerate_features\u001b[0m\u001b[0;34m(\u001b[0m\u001b[0mx\u001b[0m\u001b[0;34m,\u001b[0m \u001b[0mself\u001b[0m\u001b[0;34m.\u001b[0m\u001b[0mmax_power\u001b[0m\u001b[0;34m)\u001b[0m\u001b[0;34m,\u001b[0m \u001b[0my\u001b[0m\u001b[0;34m)\u001b[0m\u001b[0;34m\u001b[0m\u001b[0;34m\u001b[0m\u001b[0m\n\u001b[0m\u001b[1;32m     13\u001b[0m     \u001b[0;32mdef\u001b[0m \u001b[0mpredict\u001b[0m\u001b[0;34m(\u001b[0m\u001b[0mself\u001b[0m\u001b[0;34m,\u001b[0m \u001b[0mx\u001b[0m\u001b[0;34m)\u001b[0m\u001b[0;34m:\u001b[0m\u001b[0;34m\u001b[0m\u001b[0;34m\u001b[0m\u001b[0m\n\u001b[1;32m     14\u001b[0m         \u001b[0;32mreturn\u001b[0m \u001b[0msuper\u001b[0m\u001b[0;34m(\u001b[0m\u001b[0;34m)\u001b[0m\u001b[0;34m.\u001b[0m\u001b[0mpredict\u001b[0m\u001b[0;34m(\u001b[0m\u001b[0mself\u001b[0m\u001b[0;34m.\u001b[0m\u001b[0mgenerate_features\u001b[0m\u001b[0;34m(\u001b[0m\u001b[0mx\u001b[0m\u001b[0;34m,\u001b[0m \u001b[0mself\u001b[0m\u001b[0;34m.\u001b[0m\u001b[0mmax_power\u001b[0m\u001b[0;34m)\u001b[0m\u001b[0;34m)\u001b[0m\u001b[0;34m.\u001b[0m\u001b[0mflatten\u001b[0m\u001b[0;34m(\u001b[0m\u001b[0;34m)\u001b[0m\u001b[0;34m\u001b[0m\u001b[0;34m\u001b[0m\u001b[0m\n",
            "\u001b[0;32m<ipython-input-4-d3fc1d7ce85b>\u001b[0m in \u001b[0;36mfit\u001b[0;34m(self, X, Y)\u001b[0m\n\u001b[1;32m     36\u001b[0m         \u001b[0;32mif\u001b[0m \u001b[0mY\u001b[0m\u001b[0;34m.\u001b[0m\u001b[0mndim\u001b[0m\u001b[0;34m==\u001b[0m\u001b[0;36m1\u001b[0m\u001b[0;34m:\u001b[0m\u001b[0;34m\u001b[0m\u001b[0;34m\u001b[0m\u001b[0m\n\u001b[1;32m     37\u001b[0m             \u001b[0mY\u001b[0m\u001b[0;34m=\u001b[0m\u001b[0mY\u001b[0m\u001b[0;34m[\u001b[0m\u001b[0;34m:\u001b[0m\u001b[0;34m,\u001b[0m \u001b[0mnp\u001b[0m\u001b[0;34m.\u001b[0m\u001b[0mnewaxis\u001b[0m\u001b[0;34m]\u001b[0m\u001b[0;34m\u001b[0m\u001b[0;34m\u001b[0m\u001b[0m\n\u001b[0;32m---> 38\u001b[0;31m         \u001b[0mself\u001b[0m\u001b[0;34m.\u001b[0m\u001b[0m_optimize\u001b[0m\u001b[0;34m(\u001b[0m\u001b[0mX\u001b[0m\u001b[0;34m,\u001b[0m \u001b[0mY\u001b[0m\u001b[0;34m)\u001b[0m\u001b[0;34m\u001b[0m\u001b[0;34m\u001b[0m\u001b[0m\n\u001b[0m\u001b[1;32m     39\u001b[0m     \u001b[0;32mdef\u001b[0m \u001b[0mpredict\u001b[0m\u001b[0;34m(\u001b[0m\u001b[0mself\u001b[0m\u001b[0;34m,\u001b[0m \u001b[0mX\u001b[0m\u001b[0;34m)\u001b[0m\u001b[0;34m:\u001b[0m\u001b[0;34m\u001b[0m\u001b[0;34m\u001b[0m\u001b[0m\n\u001b[1;32m     40\u001b[0m         \u001b[0;32mreturn\u001b[0m \u001b[0;34m(\u001b[0m\u001b[0mX\u001b[0m\u001b[0;34m.\u001b[0m\u001b[0mdot\u001b[0m\u001b[0;34m(\u001b[0m\u001b[0mself\u001b[0m\u001b[0;34m.\u001b[0m\u001b[0mw\u001b[0m\u001b[0;34m.\u001b[0m\u001b[0mT\u001b[0m\u001b[0;34m)\u001b[0m\u001b[0;34m+\u001b[0m\u001b[0mself\u001b[0m\u001b[0;34m.\u001b[0m\u001b[0mw0\u001b[0m\u001b[0;34m)\u001b[0m\u001b[0;34m.\u001b[0m\u001b[0mflatten\u001b[0m\u001b[0;34m(\u001b[0m\u001b[0;34m)\u001b[0m\u001b[0;34m\u001b[0m\u001b[0;34m\u001b[0m\u001b[0m\n",
            "\u001b[0;32m<ipython-input-4-d3fc1d7ce85b>\u001b[0m in \u001b[0;36m_optimize\u001b[0;34m(self, X, Y)\u001b[0m\n\u001b[1;32m     22\u001b[0m         \u001b[0mself\u001b[0m\u001b[0;34m.\u001b[0m\u001b[0mw\u001b[0m \u001b[0;34m=\u001b[0m \u001b[0mnp\u001b[0m\u001b[0;34m.\u001b[0m\u001b[0mzeros\u001b[0m\u001b[0;34m(\u001b[0m\u001b[0;34m(\u001b[0m\u001b[0;36m1\u001b[0m\u001b[0;34m,\u001b[0m \u001b[0mX\u001b[0m\u001b[0;34m.\u001b[0m\u001b[0mshape\u001b[0m\u001b[0;34m[\u001b[0m\u001b[0;36m1\u001b[0m\u001b[0;34m]\u001b[0m\u001b[0;34m)\u001b[0m\u001b[0;34m)\u001b[0m\u001b[0;34m\u001b[0m\u001b[0;34m\u001b[0m\u001b[0m\n\u001b[1;32m     23\u001b[0m         \u001b[0mself\u001b[0m\u001b[0;34m.\u001b[0m\u001b[0mw0\u001b[0m\u001b[0;34m=\u001b[0m\u001b[0;36m0\u001b[0m\u001b[0;34m\u001b[0m\u001b[0;34m\u001b[0m\u001b[0m\n\u001b[0;32m---> 24\u001b[0;31m         \u001b[0;32mwhile\u001b[0m \u001b[0mweight_dist\u001b[0m \u001b[0;34m>\u001b[0m \u001b[0mself\u001b[0m\u001b[0;34m.\u001b[0m\u001b[0mmin_weight_dist\u001b[0m \u001b[0;32mand\u001b[0m \u001b[0miter_num\u001b[0m \u001b[0;34m<\u001b[0m \u001b[0mself\u001b[0m\u001b[0;34m.\u001b[0m\u001b[0mmax_iter\u001b[0m\u001b[0;34m:\u001b[0m\u001b[0;34m\u001b[0m\u001b[0;34m\u001b[0m\u001b[0m\n\u001b[0m\u001b[1;32m     25\u001b[0m             \u001b[0mgr_w\u001b[0m\u001b[0;34m,\u001b[0m \u001b[0mgr_w0\u001b[0m\u001b[0;34m=\u001b[0m\u001b[0mself\u001b[0m\u001b[0;34m.\u001b[0m\u001b[0m_mserror_grad\u001b[0m\u001b[0;34m(\u001b[0m\u001b[0mX\u001b[0m\u001b[0;34m,\u001b[0m \u001b[0mY\u001b[0m\u001b[0;34m)\u001b[0m\u001b[0;34m\u001b[0m\u001b[0;34m\u001b[0m\u001b[0m\n\u001b[1;32m     26\u001b[0m             \u001b[0;32mif\u001b[0m \u001b[0miter_num\u001b[0m\u001b[0;34m==\u001b[0m\u001b[0;36m0\u001b[0m\u001b[0;34m:\u001b[0m\u001b[0;34m\u001b[0m\u001b[0;34m\u001b[0m\u001b[0m\n",
            "\u001b[0;31mAttributeError\u001b[0m: 'our_polynomial_regression' object has no attribute 'min_weight_dist'"
          ]
        },
        {
          "output_type": "display_data",
          "data": {
            "image/png": "[encoded data removed]",
            "text/plain": [
              "<Figure size 1440x576 with 1 Axes>"
            ]
          },
          "metadata": {
            "tags": [],
            "needs_background": "light"
          }
        }
      ]
    },
    {
      "cell_type": "markdown",
      "metadata": {
        "id": "0wCniUZsDJFL"
      },
      "source": [
        "## Кросс-валидация"
      ]
    },
    {
      "cell_type": "code",
      "metadata": {
        "colab": {
          "base_uri": "https://localhost:8080/",
          "height": 244
        },
        "id": "f8T9oE57DLKX",
        "outputId": "1a3678c5-e138-4470-9d55-cf8593eac79a"
      },
      "source": [
        "#Посчитаем р-квадрат\n",
        "def r_square(y, y_real):\n",
        "    ss_total=np.sum((y_real-np.mean(y_real))**2)\n",
        "    ss_res=np.sum((y_real-y)**2)\n",
        "    return 1-ss_res/ss_total\n",
        "print(r_square(model1.predict(x_data), f_data))\n",
        "print(r_square(model2.predict(x_data), f_data))\n",
        "print(r_square(model3.predict(x_data), f_data))"
      ],
      "execution_count": null,
      "outputs": [
        {
          "output_type": "stream",
          "text": [
            "0.9221906609056247\n",
            "-0.010845536736936223\n"
          ],
          "name": "stdout"
        },
        {
          "output_type": "error",
          "ename": "NameError",
          "evalue": "ignored",
          "traceback": [
            "\u001b[0;31m---------------------------------------------------------------------------\u001b[0m",
            "\u001b[0;31mNameError\u001b[0m                                 Traceback (most recent call last)",
            "\u001b[0;32m<ipython-input-17-c9b7e5dd6739>\u001b[0m in \u001b[0;36m<module>\u001b[0;34m()\u001b[0m\n\u001b[1;32m      6\u001b[0m \u001b[0mprint\u001b[0m\u001b[0;34m(\u001b[0m\u001b[0mr_square\u001b[0m\u001b[0;34m(\u001b[0m\u001b[0mmodel1\u001b[0m\u001b[0;34m.\u001b[0m\u001b[0mpredict\u001b[0m\u001b[0;34m(\u001b[0m\u001b[0mx_data\u001b[0m\u001b[0;34m)\u001b[0m\u001b[0;34m,\u001b[0m \u001b[0mf_data\u001b[0m\u001b[0;34m)\u001b[0m\u001b[0;34m)\u001b[0m\u001b[0;34m\u001b[0m\u001b[0;34m\u001b[0m\u001b[0m\n\u001b[1;32m      7\u001b[0m \u001b[0mprint\u001b[0m\u001b[0;34m(\u001b[0m\u001b[0mr_square\u001b[0m\u001b[0;34m(\u001b[0m\u001b[0mmodel2\u001b[0m\u001b[0;34m.\u001b[0m\u001b[0mpredict\u001b[0m\u001b[0;34m(\u001b[0m\u001b[0mx_data\u001b[0m\u001b[0;34m)\u001b[0m\u001b[0;34m,\u001b[0m \u001b[0mf_data\u001b[0m\u001b[0;34m)\u001b[0m\u001b[0;34m)\u001b[0m\u001b[0;34m\u001b[0m\u001b[0;34m\u001b[0m\u001b[0m\n\u001b[0;32m----> 8\u001b[0;31m \u001b[0mprint\u001b[0m\u001b[0;34m(\u001b[0m\u001b[0mr_square\u001b[0m\u001b[0;34m(\u001b[0m\u001b[0mmodel3\u001b[0m\u001b[0;34m.\u001b[0m\u001b[0mpredict\u001b[0m\u001b[0;34m(\u001b[0m\u001b[0mx_data\u001b[0m\u001b[0;34m)\u001b[0m\u001b[0;34m,\u001b[0m \u001b[0mf_data\u001b[0m\u001b[0;34m)\u001b[0m\u001b[0;34m)\u001b[0m\u001b[0;34m\u001b[0m\u001b[0;34m\u001b[0m\u001b[0m\n\u001b[0m",
            "\u001b[0;31mNameError\u001b[0m: name 'model3' is not defined"
          ]
        }
      ]
    },
    {
      "cell_type": "code",
      "metadata": {
        "colab": {
          "base_uri": "https://localhost:8080/",
          "height": 394
        },
        "id": "E0W1SMHsDM__",
        "outputId": "9cf9313c-a5ad-4f0d-e037-6476c248683b"
      },
      "source": [
        "def cross(f_data, x_data, model, power_model):\n",
        "  indexes=np.arange(len(f_data))%5\n",
        "  y_actual=[]\n",
        "  y_predicted=[]\n",
        "  for i in range(5):\n",
        "      y_actual.append(f_data[indexes==i])\n",
        "      mod=model(power_model)\n",
        "      mod.fit(x_data[indexes!=i], f_data[indexes!=i])\n",
        "      y_predicted.append(mod.predict(x_data[indexes==i]))\n",
        "\n",
        "  y_actual=np.concatenate(y_actual)\n",
        "  y_predicted=np.concatenate(y_predicted)\n",
        "  print(r_square(y_predicted, y_actual), np.sum((y_actual-np.mean(y_actual))**2)/len(y_actual))\n",
        "\n",
        "cross(f_data, x_data, polynomial_regression, 3)\n",
        "cross(f_data, x_data, our_polynomial_regression, 3)\n",
        "cross(f_data, x_data, polynomial_regression_sklearn, 3)"
      ],
      "execution_count": null,
      "outputs": [
        {
          "output_type": "stream",
          "text": [
            "0.9087406038643006 4001515.716856538\n"
          ],
          "name": "stdout"
        },
        {
          "output_type": "error",
          "ename": "AttributeError",
          "evalue": "ignored",
          "traceback": [
            "\u001b[0;31m---------------------------------------------------------------------------\u001b[0m",
            "\u001b[0;31mAttributeError\u001b[0m                            Traceback (most recent call last)",
            "\u001b[0;32m<ipython-input-18-d0b6eedeea0b>\u001b[0m in \u001b[0;36m<module>\u001b[0;34m()\u001b[0m\n\u001b[1;32m     14\u001b[0m \u001b[0;34m\u001b[0m\u001b[0m\n\u001b[1;32m     15\u001b[0m \u001b[0mcross\u001b[0m\u001b[0;34m(\u001b[0m\u001b[0mf_data\u001b[0m\u001b[0;34m,\u001b[0m \u001b[0mx_data\u001b[0m\u001b[0;34m,\u001b[0m \u001b[0mpolynomial_regression\u001b[0m\u001b[0;34m,\u001b[0m \u001b[0;36m3\u001b[0m\u001b[0;34m)\u001b[0m\u001b[0;34m\u001b[0m\u001b[0;34m\u001b[0m\u001b[0m\n\u001b[0;32m---> 16\u001b[0;31m \u001b[0mcross\u001b[0m\u001b[0;34m(\u001b[0m\u001b[0mf_data\u001b[0m\u001b[0;34m,\u001b[0m \u001b[0mx_data\u001b[0m\u001b[0;34m,\u001b[0m \u001b[0mour_polynomial_regression\u001b[0m\u001b[0;34m,\u001b[0m \u001b[0;36m3\u001b[0m\u001b[0;34m)\u001b[0m\u001b[0;34m\u001b[0m\u001b[0;34m\u001b[0m\u001b[0m\n\u001b[0m\u001b[1;32m     17\u001b[0m \u001b[0mcross\u001b[0m\u001b[0;34m(\u001b[0m\u001b[0mf_data\u001b[0m\u001b[0;34m,\u001b[0m \u001b[0mx_data\u001b[0m\u001b[0;34m,\u001b[0m \u001b[0mpolynomial_regression_sklearn\u001b[0m\u001b[0;34m,\u001b[0m \u001b[0;36m3\u001b[0m\u001b[0;34m)\u001b[0m\u001b[0;34m\u001b[0m\u001b[0;34m\u001b[0m\u001b[0m\n",
            "\u001b[0;32m<ipython-input-18-d0b6eedeea0b>\u001b[0m in \u001b[0;36mcross\u001b[0;34m(f_data, x_data, model, power_model)\u001b[0m\n\u001b[1;32m      6\u001b[0m       \u001b[0my_actual\u001b[0m\u001b[0;34m.\u001b[0m\u001b[0mappend\u001b[0m\u001b[0;34m(\u001b[0m\u001b[0mf_data\u001b[0m\u001b[0;34m[\u001b[0m\u001b[0mindexes\u001b[0m\u001b[0;34m==\u001b[0m\u001b[0mi\u001b[0m\u001b[0;34m]\u001b[0m\u001b[0;34m)\u001b[0m\u001b[0;34m\u001b[0m\u001b[0;34m\u001b[0m\u001b[0m\n\u001b[1;32m      7\u001b[0m       \u001b[0mmod\u001b[0m\u001b[0;34m=\u001b[0m\u001b[0mmodel\u001b[0m\u001b[0;34m(\u001b[0m\u001b[0mpower_model\u001b[0m\u001b[0;34m)\u001b[0m\u001b[0;34m\u001b[0m\u001b[0;34m\u001b[0m\u001b[0m\n\u001b[0;32m----> 8\u001b[0;31m       \u001b[0mmod\u001b[0m\u001b[0;34m.\u001b[0m\u001b[0mfit\u001b[0m\u001b[0;34m(\u001b[0m\u001b[0mx_data\u001b[0m\u001b[0;34m[\u001b[0m\u001b[0mindexes\u001b[0m\u001b[0;34m!=\u001b[0m\u001b[0mi\u001b[0m\u001b[0;34m]\u001b[0m\u001b[0;34m,\u001b[0m \u001b[0mf_data\u001b[0m\u001b[0;34m[\u001b[0m\u001b[0mindexes\u001b[0m\u001b[0;34m!=\u001b[0m\u001b[0mi\u001b[0m\u001b[0;34m]\u001b[0m\u001b[0;34m)\u001b[0m\u001b[0;34m\u001b[0m\u001b[0;34m\u001b[0m\u001b[0m\n\u001b[0m\u001b[1;32m      9\u001b[0m       \u001b[0my_predicted\u001b[0m\u001b[0;34m.\u001b[0m\u001b[0mappend\u001b[0m\u001b[0;34m(\u001b[0m\u001b[0mmod\u001b[0m\u001b[0;34m.\u001b[0m\u001b[0mpredict\u001b[0m\u001b[0;34m(\u001b[0m\u001b[0mx_data\u001b[0m\u001b[0;34m[\u001b[0m\u001b[0mindexes\u001b[0m\u001b[0;34m==\u001b[0m\u001b[0mi\u001b[0m\u001b[0;34m]\u001b[0m\u001b[0;34m)\u001b[0m\u001b[0;34m)\u001b[0m\u001b[0;34m\u001b[0m\u001b[0;34m\u001b[0m\u001b[0m\n\u001b[1;32m     10\u001b[0m \u001b[0;34m\u001b[0m\u001b[0m\n",
            "\u001b[0;32m<ipython-input-11-20210d440e00>\u001b[0m in \u001b[0;36mfit\u001b[0;34m(self, x, y)\u001b[0m\n\u001b[1;32m     10\u001b[0m         \u001b[0;32mreturn\u001b[0m \u001b[0mnp\u001b[0m\u001b[0;34m.\u001b[0m\u001b[0mconcatenate\u001b[0m\u001b[0;34m(\u001b[0m\u001b[0;34m[\u001b[0m\u001b[0mx\u001b[0m\u001b[0;34m**\u001b[0m\u001b[0mi\u001b[0m \u001b[0;32mfor\u001b[0m \u001b[0mi\u001b[0m \u001b[0;32min\u001b[0m \u001b[0mrange\u001b[0m\u001b[0;34m(\u001b[0m\u001b[0;36m1\u001b[0m\u001b[0;34m,\u001b[0m \u001b[0mmax_power\u001b[0m\u001b[0;34m+\u001b[0m\u001b[0;36m1\u001b[0m\u001b[0;34m)\u001b[0m\u001b[0;34m]\u001b[0m\u001b[0;34m,\u001b[0m \u001b[0maxis\u001b[0m\u001b[0;34m=\u001b[0m\u001b[0;36m1\u001b[0m\u001b[0;34m)\u001b[0m\u001b[0;34m\u001b[0m\u001b[0;34m\u001b[0m\u001b[0m\n\u001b[1;32m     11\u001b[0m     \u001b[0;32mdef\u001b[0m \u001b[0mfit\u001b[0m\u001b[0;34m(\u001b[0m\u001b[0mself\u001b[0m\u001b[0;34m,\u001b[0m \u001b[0mx\u001b[0m\u001b[0;34m,\u001b[0m \u001b[0my\u001b[0m\u001b[0;34m)\u001b[0m\u001b[0;34m:\u001b[0m\u001b[0;34m\u001b[0m\u001b[0;34m\u001b[0m\u001b[0m\n\u001b[0;32m---> 12\u001b[0;31m         \u001b[0msuper\u001b[0m\u001b[0;34m(\u001b[0m\u001b[0;34m)\u001b[0m\u001b[0;34m.\u001b[0m\u001b[0mfit\u001b[0m\u001b[0;34m(\u001b[0m\u001b[0mself\u001b[0m\u001b[0;34m.\u001b[0m\u001b[0mgenerate_features\u001b[0m\u001b[0;34m(\u001b[0m\u001b[0mx\u001b[0m\u001b[0;34m,\u001b[0m \u001b[0mself\u001b[0m\u001b[0;34m.\u001b[0m\u001b[0mmax_power\u001b[0m\u001b[0;34m)\u001b[0m\u001b[0;34m,\u001b[0m \u001b[0my\u001b[0m\u001b[0;34m)\u001b[0m\u001b[0;34m\u001b[0m\u001b[0;34m\u001b[0m\u001b[0m\n\u001b[0m\u001b[1;32m     13\u001b[0m     \u001b[0;32mdef\u001b[0m \u001b[0mpredict\u001b[0m\u001b[0;34m(\u001b[0m\u001b[0mself\u001b[0m\u001b[0;34m,\u001b[0m \u001b[0mx\u001b[0m\u001b[0;34m)\u001b[0m\u001b[0;34m:\u001b[0m\u001b[0;34m\u001b[0m\u001b[0;34m\u001b[0m\u001b[0m\n\u001b[1;32m     14\u001b[0m         \u001b[0;32mreturn\u001b[0m \u001b[0msuper\u001b[0m\u001b[0;34m(\u001b[0m\u001b[0;34m)\u001b[0m\u001b[0;34m.\u001b[0m\u001b[0mpredict\u001b[0m\u001b[0;34m(\u001b[0m\u001b[0mself\u001b[0m\u001b[0;34m.\u001b[0m\u001b[0mgenerate_features\u001b[0m\u001b[0;34m(\u001b[0m\u001b[0mx\u001b[0m\u001b[0;34m,\u001b[0m \u001b[0mself\u001b[0m\u001b[0;34m.\u001b[0m\u001b[0mmax_power\u001b[0m\u001b[0;34m)\u001b[0m\u001b[0;34m)\u001b[0m\u001b[0;34m.\u001b[0m\u001b[0mflatten\u001b[0m\u001b[0;34m(\u001b[0m\u001b[0;34m)\u001b[0m\u001b[0;34m\u001b[0m\u001b[0;34m\u001b[0m\u001b[0m\n",
            "\u001b[0;32m<ipython-input-4-d3fc1d7ce85b>\u001b[0m in \u001b[0;36mfit\u001b[0;34m(self, X, Y)\u001b[0m\n\u001b[1;32m     36\u001b[0m         \u001b[0;32mif\u001b[0m \u001b[0mY\u001b[0m\u001b[0;34m.\u001b[0m\u001b[0mndim\u001b[0m\u001b[0;34m==\u001b[0m\u001b[0;36m1\u001b[0m\u001b[0;34m:\u001b[0m\u001b[0;34m\u001b[0m\u001b[0;34m\u001b[0m\u001b[0m\n\u001b[1;32m     37\u001b[0m             \u001b[0mY\u001b[0m\u001b[0;34m=\u001b[0m\u001b[0mY\u001b[0m\u001b[0;34m[\u001b[0m\u001b[0;34m:\u001b[0m\u001b[0;34m,\u001b[0m \u001b[0mnp\u001b[0m\u001b[0;34m.\u001b[0m\u001b[0mnewaxis\u001b[0m\u001b[0;34m]\u001b[0m\u001b[0;34m\u001b[0m\u001b[0;34m\u001b[0m\u001b[0m\n\u001b[0;32m---> 38\u001b[0;31m         \u001b[0mself\u001b[0m\u001b[0;34m.\u001b[0m\u001b[0m_optimize\u001b[0m\u001b[0;34m(\u001b[0m\u001b[0mX\u001b[0m\u001b[0;34m,\u001b[0m \u001b[0mY\u001b[0m\u001b[0;34m)\u001b[0m\u001b[0;34m\u001b[0m\u001b[0;34m\u001b[0m\u001b[0m\n\u001b[0m\u001b[1;32m     39\u001b[0m     \u001b[0;32mdef\u001b[0m \u001b[0mpredict\u001b[0m\u001b[0;34m(\u001b[0m\u001b[0mself\u001b[0m\u001b[0;34m,\u001b[0m \u001b[0mX\u001b[0m\u001b[0;34m)\u001b[0m\u001b[0;34m:\u001b[0m\u001b[0;34m\u001b[0m\u001b[0;34m\u001b[0m\u001b[0m\n\u001b[1;32m     40\u001b[0m         \u001b[0;32mreturn\u001b[0m \u001b[0;34m(\u001b[0m\u001b[0mX\u001b[0m\u001b[0;34m.\u001b[0m\u001b[0mdot\u001b[0m\u001b[0;34m(\u001b[0m\u001b[0mself\u001b[0m\u001b[0;34m.\u001b[0m\u001b[0mw\u001b[0m\u001b[0;34m.\u001b[0m\u001b[0mT\u001b[0m\u001b[0;34m)\u001b[0m\u001b[0;34m+\u001b[0m\u001b[0mself\u001b[0m\u001b[0;34m.\u001b[0m\u001b[0mw0\u001b[0m\u001b[0;34m)\u001b[0m\u001b[0;34m.\u001b[0m\u001b[0mflatten\u001b[0m\u001b[0;34m(\u001b[0m\u001b[0;34m)\u001b[0m\u001b[0;34m\u001b[0m\u001b[0;34m\u001b[0m\u001b[0m\n",
            "\u001b[0;32m<ipython-input-4-d3fc1d7ce85b>\u001b[0m in \u001b[0;36m_optimize\u001b[0;34m(self, X, Y)\u001b[0m\n\u001b[1;32m     22\u001b[0m         \u001b[0mself\u001b[0m\u001b[0;34m.\u001b[0m\u001b[0mw\u001b[0m \u001b[0;34m=\u001b[0m \u001b[0mnp\u001b[0m\u001b[0;34m.\u001b[0m\u001b[0mzeros\u001b[0m\u001b[0;34m(\u001b[0m\u001b[0;34m(\u001b[0m\u001b[0;36m1\u001b[0m\u001b[0;34m,\u001b[0m \u001b[0mX\u001b[0m\u001b[0;34m.\u001b[0m\u001b[0mshape\u001b[0m\u001b[0;34m[\u001b[0m\u001b[0;36m1\u001b[0m\u001b[0;34m]\u001b[0m\u001b[0;34m)\u001b[0m\u001b[0;34m)\u001b[0m\u001b[0;34m\u001b[0m\u001b[0;34m\u001b[0m\u001b[0m\n\u001b[1;32m     23\u001b[0m         \u001b[0mself\u001b[0m\u001b[0;34m.\u001b[0m\u001b[0mw0\u001b[0m\u001b[0;34m=\u001b[0m\u001b[0;36m0\u001b[0m\u001b[0;34m\u001b[0m\u001b[0;34m\u001b[0m\u001b[0m\n\u001b[0;32m---> 24\u001b[0;31m         \u001b[0;32mwhile\u001b[0m \u001b[0mweight_dist\u001b[0m \u001b[0;34m>\u001b[0m \u001b[0mself\u001b[0m\u001b[0;34m.\u001b[0m\u001b[0mmin_weight_dist\u001b[0m \u001b[0;32mand\u001b[0m \u001b[0miter_num\u001b[0m \u001b[0;34m<\u001b[0m \u001b[0mself\u001b[0m\u001b[0;34m.\u001b[0m\u001b[0mmax_iter\u001b[0m\u001b[0;34m:\u001b[0m\u001b[0;34m\u001b[0m\u001b[0;34m\u001b[0m\u001b[0m\n\u001b[0m\u001b[1;32m     25\u001b[0m             \u001b[0mgr_w\u001b[0m\u001b[0;34m,\u001b[0m \u001b[0mgr_w0\u001b[0m\u001b[0;34m=\u001b[0m\u001b[0mself\u001b[0m\u001b[0;34m.\u001b[0m\u001b[0m_mserror_grad\u001b[0m\u001b[0;34m(\u001b[0m\u001b[0mX\u001b[0m\u001b[0;34m,\u001b[0m \u001b[0mY\u001b[0m\u001b[0;34m)\u001b[0m\u001b[0;34m\u001b[0m\u001b[0;34m\u001b[0m\u001b[0m\n\u001b[1;32m     26\u001b[0m             \u001b[0;32mif\u001b[0m \u001b[0miter_num\u001b[0m\u001b[0;34m==\u001b[0m\u001b[0;36m0\u001b[0m\u001b[0;34m:\u001b[0m\u001b[0;34m\u001b[0m\u001b[0;34m\u001b[0m\u001b[0m\n",
            "\u001b[0;31mAttributeError\u001b[0m: 'our_polynomial_regression' object has no attribute 'min_weight_dist'"
          ]
        }
      ]
    },
    {
      "cell_type": "markdown",
      "metadata": {
        "id": "ddysMcGzCAZm"
      },
      "source": [
        "# Теория к заданию"
      ]
    },
    {
      "cell_type": "markdown",
      "metadata": {
        "id": "SaARRh8S627E"
      },
      "source": [
        "## <center><a class=\"anchor\" id=\"theor\">Теория </a><center>"
      ]
    },
    {
      "cell_type": "markdown",
      "metadata": {
        "id": "JLVfsJXviqs1"
      },
      "source": [
        "## Масштабирование признаков"
      ]
    },
    {
      "cell_type": "markdown",
      "metadata": {
        "id": "Eu5ocQDMiqs2"
      },
      "source": [
        "В машинном обучении при работе с линейными моделями полезной является практика _масштабирования признаков_. Многие методы машинного обучения, в том числе и линейные, наиболее эффективны в том случае, когда признаки имеют одинаковый масштаб. По сути масштабирование означает приведение признаков к какой-то единой шкале."
      ]
    },
    {
      "cell_type": "markdown",
      "metadata": {
        "id": "Gsw78QW7iqs3"
      },
      "source": [
        "Существует большое количество методов масштабирования, наиболее популярными из которых являются _нормализация_ и _стандартизация_.\n",
        "\n",
        "Метод нормализации заколючается в приведении признаков к масштабу в диапазоне [0-1].\n",
        "\n",
        "Для его реализации необходимо найти минимальное $min_{j} (x^{j}_{i})$ и максимальное $max_{j} (x^{j}_{i})$ значение признака на обучающей выборке. При этом отмасштабированное значение признака будет находиться по формуле\n",
        "\n",
        "$$x^{j}_{i} = \\frac{x^{j}_{i} - min_{j} (x^{j}_{i})}{max_{j} (x^{j}_{i})-min_{j} (x^{j}_{i})}.$$\n",
        "\n",
        "После преобразования значений признаков минимальное значение превратится в 0, а максимальное - в 1.\n",
        "\n",
        "Стандартизация заключается в получении своего рода значения сдвига каждого признака от среднего. Для ее реализации необходимо вычислить среднее значение признака\n",
        "\n",
        "$$\\mu_{j} = \\frac{1}{l}\\sum^{l}_{i=1}x^{j}_{i}$$\n",
        "\n",
        "и стандартное отклонение, которое находится путем суммирования квадратов отклонения значений признака на объектах выборки от среднего $\\mu_{j}$ и делением на число объектов выборки с последующим извлечением корня:\n",
        "\n",
        "$$\\sigma_{j} = \\sqrt{\\frac{1}{l}\\sum^{l}_{i=1}(x^{j}_{i}-\\mu_{j})^{2}}$$\n",
        "\n",
        "Чтобы отмасштабировать признак, каждое его значение преобразуется по формуле\n",
        "\n",
        "$$x^{j}_{i}=\\frac{x^{j}_{i} - \\mu_{j}}{\\sigma_{j}}.$$"
      ]
    },
    {
      "cell_type": "markdown",
      "metadata": {
        "id": "s32Rv-eFiqs4"
      },
      "source": [
        "Масштабирование является важным этапом подготовки данных перед применением методов машинного обучения.\n",
        "\n",
        "Важным и последним свойством масштабирования является факт, что после масштабирования признаков в линейных моделях веса при них могут интерпретироваться как мера значимости этих признаков.\n",
        "\n",
        "Существуют различные ситуации, когда целесообразно применять тот или иной метод масштабирования. Нормализовать полезно признаки, опирающиеся на величину значений - такие как расстояние. Стандартизировать полезно признаки для модели, которая опирается на распределение. В общем случае, когда выбор метода неочевиден, полезной практикой считается создавать масштабированные копии набора данных, с которыми работает специалист, и сравнивать друг с другом полученные после применения модели результаты для выявления оптимального метода масштабирования для имеющейся ситуации."
      ]
    },
    {
      "cell_type": "markdown",
      "metadata": {
        "id": "SMcddg8niqs5"
      },
      "source": [
        "## Стохастический градиентный спуск"
      ]
    },
    {
      "cell_type": "markdown",
      "metadata": {
        "id": "HkzFJVniiqs6"
      },
      "source": [
        "Вспомним метод градиентного спуска, рассмотренный ранее.\n",
        "\n",
        "На каждой итерации приближение получается вычитанием из предыдущего вектора градиента, умноженного на некоторый шаг:\n",
        "\n",
        "\n",
        "$$w^{k} = w^{k-1} - \\eta_{k}\\nabla Q(w^{k-1}, X).$$\n",
        "\n",
        "При этом выражение градиента в матричной форме выглядит так:\n",
        "\n",
        "$$\\nabla_{w}Q(w,X) = \\frac{2}{l}X^{T}(Xw-y).$$\n",
        "\n",
        "Если расписать $j$-ю компонетну этого градиента, то получим\n",
        "\n",
        "$$\\frac{\\partial Q}{\\partial w_{j}} = \\frac{2}{l}\\sum^{l}_{i=1}x^{j}_{i}(\\left \\langle w,x_{i} \\right \\rangle - y_{i}),$$\n",
        "\n",
        "то есть суммирование по всем $l$ объектам обучающей выборки. Здесь выражение под суммой показывает, как нужно изменить $j$-й вес, чтобы как можно сильнее улучшить качество __на объекте $x_{i}$__, а вся сумма показывает, как нужно изменить вес, чтобы улучшить качество на __всей выборке__.\n",
        "\n",
        "В этой формуле отражен один из главных недостатков градиентного спуска: если выборка большая по объему, то даже один шаг градиентного спуска будет занимать много вычислительных ресурсов и времени."
      ]
    },
    {
      "cell_type": "markdown",
      "metadata": {
        "id": "Xlcthp9Uiqs7"
      },
      "source": [
        "Стремление к оптимизации процесса привело к появлению _стохастического градиентного спуска_ (Stochastic gradient descent, SGD). Идея его основана на том, что на одной итерации мы вычитаем не вектор градиента, вычисленный по всей выборке, а вместо этого случайно выбираем один объект из обучающей выборки $x_{i}$ и вычисляем градиент только на этом объекте, то есть градиент только одного слагаемого в функционале ошибки и вычитаем именно этот градиент из текущего приближения вектора весов:\n",
        "\n",
        "$$w^{k} = w^{k-1} - \\eta_{k}\\nabla Q(w^{k-1}, \\{x_{i}\\}),$$\n",
        "\n",
        "то есть $\\nabla Q(w^{k-1}, X)$ заменяется на $\\nabla Q(w^{k-1}, \\{x_{i}\\})$."
      ]
    },
    {
      "cell_type": "markdown",
      "metadata": {
        "id": "2mKZbftTiqs9"
      },
      "source": [
        "Если в случае градиентного спуска мы стараемся на каждой итерации уменьшить ошибку на всей выборке, и по мере увеличения числа итераций ошибка падает монотонно, то в случае стохастического градиентного спуска мы уменьшаем на каждой итерации ошибку только на одном объекте, но при этом есть вероятность увеличить ее на другом объекте, поэтому график изменения ошибки может получаться немонотонным, и даже иметь пики (см. пример по ссылке [1] из списка литературы). То есть на какой-то итерации мы можем даже увеличить ошибку, но при этом в целом по ходу метода ошибка снижается, и рано или поздно мы выходим на нормальный уровень."
      ]
    },
    {
      "cell_type": "markdown",
      "metadata": {
        "id": "-BBJDLSQiqs-"
      },
      "source": [
        "Реализуем стохастический градиентный спуск своими руками."
      ]
    },
    {
      "cell_type": "code",
      "metadata": {
        "id": "c7NGnJrtiqs_"
      },
      "source": [
        "import numpy as np\n",
        "from sklearn import datasets\n",
        "import matplotlib.pyplot as plt\n",
        "\n",
        "%matplotlib inline"
      ],
      "execution_count": null,
      "outputs": []
    },
    {
      "cell_type": "code",
      "metadata": {
        "id": "L92vtZuDiqtD"
      },
      "source": [
        "# сгенерируем набор данных\n",
        "data, target, coef = datasets.make_regression(n_samples=1000, n_features = 2, n_informative = 2, n_targets = 1,\n",
        "                                              noise = 5, coef = True, random_state = 2)\n"
      ],
      "execution_count": null,
      "outputs": []
    },
    {
      "cell_type": "markdown",
      "metadata": {
        "id": "4mq1B_FniqtF"
      },
      "source": [
        "Отмасштабируем получившиеся признаки методом стандартизации."
      ]
    },
    {
      "cell_type": "code",
      "metadata": {
        "id": "rOKEKtFKiqtG"
      },
      "source": [
        "# Получим средние значения и стандартное отклонение по столбцам\n",
        "\n",
        "means = np.mean(data, axis=0)\n",
        "stds = np.std(data, axis=0)\n",
        "# параметр axis указывается для вычисления значений по столбцам, а не по всему массиву\n",
        "#(см. документацию в разделе источников)\n",
        "\n",
        "# вычтем каждое значение признака из среднего и поделим на стандартное отклонение\n",
        "for i in range(data.shape[0]):\n",
        "    for j in range(data.shape[1]):\n",
        "        data[i][j] = (data[i][j] - means[j])/stds[j]"
      ],
      "execution_count": null,
      "outputs": []
    },
    {
      "cell_type": "code",
      "metadata": {
        "id": "8BMCZ7uNiqtJ"
      },
      "source": [
        "# реализуем функцию, определяющую среднеквадратичную ошибку\n",
        "def mserror(X, w, y_pred):\n",
        "    y = X.dot(w)\n",
        "    return (sum((y - y_pred)**2)) / len(y)"
      ],
      "execution_count": null,
      "outputs": []
    },
    {
      "cell_type": "markdown",
      "metadata": {
        "id": "oFPTJccEiqtO"
      },
      "source": [
        "Подготовка данных и средств проверки закончена. Далее реализуем сам стохастический градиентный спуск."
      ]
    },
    {
      "cell_type": "code",
      "metadata": {
        "id": "hwIeP5Y4iqtQ"
      },
      "source": [
        "# инициализируем начальный вектор весов\n",
        "w = np.zeros(2)\n",
        "\n",
        "# список векторов весов после каждой итерации\n",
        "w_list = [w.copy()]\n",
        "\n",
        "# список значений ошибок после каждой итерации\n",
        "errors = []\n",
        "\n",
        "# шаг градиентного спуска\n",
        "eta = 0.01\n",
        "\n",
        "# максимальное число итераций\n",
        "max_iter = 1e5\n",
        "\n",
        "# критерий сходимости (разница весов, при которой алгоритм останавливается)\n",
        "min_weight_dist = 1e-8\n",
        "\n",
        "# зададим начальную разницу весов большим числом\n",
        "weight_dist = np.inf\n",
        "\n",
        "# счетчик итераций\n",
        "iter_num = 0\n",
        "\n",
        "np.random.seed(1234)\n",
        "\n",
        "# ход градиентного спуска\n",
        "while weight_dist > min_weight_dist and iter_num < max_iter:\n",
        "\n",
        "    # генерируем случайный индекс объекта выборки\n",
        "    train_ind = np.random.randint(data.shape[0])\n",
        "\n",
        "    new_w = w - 2 * eta * np.dot(data[train_ind].T, (np.dot(data[train_ind], w) - target[train_ind])) / target.shape[0]\n",
        "\n",
        "    weight_dist = np.linalg.norm(new_w - w, ord=2)\n",
        "\n",
        "    w_list.append(new_w.copy())\n",
        "    errors.append(mserror(data, new_w, target))\n",
        "\n",
        "    iter_num += 1\n",
        "    w = new_w\n",
        "\n",
        "w_list = np.array(w_list)\n",
        "\n",
        "print(f'В случае использования стохастического градиентного спуска функционал ошибки составляет {round(errors[-1], 4)}')"
      ],
      "execution_count": null,
      "outputs": []
    },
    {
      "cell_type": "markdown",
      "metadata": {
        "id": "B-cN_umsiqtU"
      },
      "source": [
        "Для стохастического градиентного спуска мы увеличили максимальное число итераций (max_iter) до 10000, что естественно, так как из-за специфики метода для достижения сходимости нужно большее количество шагов."
      ]
    },
    {
      "cell_type": "code",
      "metadata": {
        "id": "Mq8gHc1iiqtU"
      },
      "source": [
        "# Визуализируем изменение весов (красной точкой обозначены истинные веса, сгенерированные вначале)\n",
        "plt.figure(figsize=(13, 6))\n",
        "plt.title('Stochastic gradient descent')\n",
        "plt.xlabel(r'$w_1$')\n",
        "plt.ylabel(r'$w_2$')\n",
        "\n",
        "plt.scatter(w_list[:, 0], w_list[:, 1])\n",
        "plt.scatter(coef[0], coef[1], c='r')\n",
        "plt.plot(w_list[:, 0], w_list[:, 1])\n",
        "\n",
        "plt.show()"
      ],
      "execution_count": null,
      "outputs": []
    },
    {
      "cell_type": "code",
      "metadata": {
        "id": "MXCKz_wliqtZ"
      },
      "source": [
        "# Визуализируем изменение функционала ошибки\n",
        "plt.plot(range(len(errors)), errors)\n",
        "plt.title('MSE')\n",
        "plt.xlabel('Iteration number')\n",
        "plt.ylabel('MSE')"
      ],
      "execution_count": null,
      "outputs": []
    },
    {
      "cell_type": "markdown",
      "metadata": {
        "id": "QchXLomyiqte"
      },
      "source": [
        "Как и в случае градиентного спуска, вектор весов приближается к истинному. При этом падает и ошибка. Сравнить скорость ее падения для двух методов вам предстоит в домашнем задании.\n",
        "\n",
        "Добиться лучшей скорости сходимости в методе стохастического градиентного спуска можно варьируя величину шага или используя методы, подбирающие ее адаптивно."
      ]
    },
    {
      "cell_type": "markdown",
      "metadata": {
        "id": "a_19JViDiqtg"
      },
      "source": [
        "Среди преимуществ SGD можно выделить гораздо более быстрое вычисление одного шага по сравнению с обычным градиентным спуском и отсутствие необходимости хранить всю выборку в памяти при работе метода, что в свою очередь позволяет работать с очень большими выборками, которые невозможно поместить в память."
      ]
    },
    {
      "cell_type": "markdown",
      "metadata": {
        "id": "pZXExx-Yiqth"
      },
      "source": [
        "## Переобучение и методы борьбы с ним"
      ]
    },
    {
      "cell_type": "markdown",
      "metadata": {
        "id": "JB93X534iqth"
      },
      "source": [
        "Чтобы понять смысл переобучения и недообучения, начнем с примера. Допустим, у нас есть исходная известная зависимость 3-го порядка:\n",
        "\n",
        "$$f(x) = 0.6 - 13.2x - 5.3 x^{2} - 4.17x^{3}.$$\n",
        "\n",
        "Реализуем ее в виде python-функции и построим график."
      ]
    },
    {
      "cell_type": "code",
      "metadata": {
        "id": "-x7O02fBiqti"
      },
      "source": [
        "def f(x):\n",
        "    return 0.6 - 13.2 * x - 5.3 * x ** 2 - 4.17 * x ** 3"
      ],
      "execution_count": null,
      "outputs": []
    },
    {
      "cell_type": "code",
      "metadata": {
        "id": "iZU05q4miqtk"
      },
      "source": [
        "dots = np.linspace(-10, 10, 100)\n",
        "plt.xlabel('x')\n",
        "plt.ylabel('f(x)')\n",
        "plt.ylim(-5000, 5000)\n",
        "plt.xlim(-10,10)\n",
        "\n",
        "plt.plot(dots, f(dots), color='g')"
      ],
      "execution_count": null,
      "outputs": []
    },
    {
      "cell_type": "markdown",
      "metadata": {
        "id": "RY1HQExXiqtn"
      },
      "source": [
        "Теперь сгенерируем датасет из десяти случайных точек, подчиняющихся этой зависимости, с добавлением шума и нанесем на график."
      ]
    },
    {
      "cell_type": "code",
      "metadata": {
        "id": "D8aLmQt2iqto"
      },
      "source": [
        "np.random.seed(16)\n",
        "x_data = np.random.uniform(-10, 10, 10)\n",
        "f_data = [f(i) for i in x_data] + np.random.uniform(-1000, 1000, 10)"
      ],
      "execution_count": null,
      "outputs": []
    },
    {
      "cell_type": "code",
      "metadata": {
        "id": "nLgZXYlWo21x"
      },
      "source": [
        "x_data"
      ],
      "execution_count": null,
      "outputs": []
    },
    {
      "cell_type": "code",
      "metadata": {
        "id": "0jmZo89ko9pP"
      },
      "source": [],
      "execution_count": null,
      "outputs": []
    },
    {
      "cell_type": "code",
      "metadata": {
        "id": "Owxfodm0o9r3"
      },
      "source": [
        "np.reshape(x_data, (5, -1))"
      ],
      "execution_count": null,
      "outputs": []
    },
    {
      "cell_type": "code",
      "metadata": {
        "id": "dlP6oKzCo9vA"
      },
      "source": [],
      "execution_count": null,
      "outputs": []
    },
    {
      "cell_type": "code",
      "metadata": {
        "id": "OtY-zFVaiqtq"
      },
      "source": [
        "plt.xlabel('x')\n",
        "plt.ylabel('f(x)')\n",
        "plt.ylim(-5000, 5000)\n",
        "plt.xlim(-10,10)\n",
        "\n",
        "plt.plot(dots, f(dots), color='g')\n",
        "plt.scatter(x_data, f_data)"
      ],
      "execution_count": null,
      "outputs": []
    },
    {
      "cell_type": "markdown",
      "metadata": {
        "id": "zMHWU0yAiqt0"
      },
      "source": [
        "Теперь попробуем создать модель, способную восстановить исходную зависимость. Самым примитивным так называемый __константный алгоритм__, то есть модель вида\n",
        "\n",
        "$$a(x) = w_{0}.$$\n",
        "\n",
        "Зависимость такой модели от признаков будет иметь вид горизонтальной прямой, что, очевидно, не обобщает нашу зависимость в должном виде (см. график ниже)."
      ]
    },
    {
      "cell_type": "code",
      "metadata": {
        "id": "8mYrEwYtiqt0"
      },
      "source": [
        "plt.xlabel('x')\n",
        "plt.ylabel('f(x)')\n",
        "plt.ylim(-5000, 5000)\n",
        "plt.xlim(-10,10)\n",
        "\n",
        "plt.plot(dots, f(dots), color='g')\n",
        "plt.scatter(x_data, f_data)\n",
        "plt.plot(dots, [dots.mean()]*len(dots), color='r')"
      ],
      "execution_count": null,
      "outputs": []
    },
    {
      "cell_type": "markdown",
      "metadata": {
        "id": "JGkSELuTiqt3"
      },
      "source": [
        "Далее усложним семейство алгоритмов, применив линейную регрессию, которая в случае одного признака будет иметь вид\n",
        "\n",
        "$$a(x) = w_{0} + w_{1}x.$$\n",
        "\n",
        "Обучим соответствующую модель, применив для этого методы python \"из коробки\" для работы с линейной регрессией."
      ]
    },
    {
      "cell_type": "code",
      "metadata": {
        "id": "XIhKhnC0iqt4"
      },
      "source": [
        "from sklearn import linear_model\n",
        "\n",
        "# создадим модель\n",
        "linear_regressor = linear_model.LinearRegression()\n",
        "\n",
        "# обучим ее\n",
        "linear_regressor.fit(np.reshape(x_data, (-1, 1)), f_data)"
      ],
      "execution_count": null,
      "outputs": []
    },
    {
      "cell_type": "code",
      "metadata": {
        "id": "zFLiACBZiqt7"
      },
      "source": [
        "# выведем полученный вес при признаке и свободный коэффициент\n",
        "print(linear_regressor.coef_[0], linear_regressor.intercept_)"
      ],
      "execution_count": null,
      "outputs": []
    },
    {
      "cell_type": "markdown",
      "metadata": {
        "id": "1TEVNRsgiquB"
      },
      "source": [
        "Нанесем полученную после обучения модель на график"
      ]
    },
    {
      "cell_type": "code",
      "metadata": {
        "id": "TmbR6vRniquD"
      },
      "source": [
        "plt.xlabel('x')\n",
        "plt.ylabel('f(x)')\n",
        "plt.ylim(-5000, 5000)\n",
        "plt.xlim(-10,10)\n",
        "\n",
        "plt.plot(dots, f(dots), color='g')\n",
        "plt.scatter(x_data, f_data)\n",
        "plt.plot(dots, linear_regressor.predict(np.reshape(dots, (-1, 1))), color='r')"
      ],
      "execution_count": null,
      "outputs": []
    },
    {
      "cell_type": "markdown",
      "metadata": {
        "id": "OVSKKmTmiquJ"
      },
      "source": [
        "Мы обучили линейную модель, и видимо, что она, как и константная, плохо восстанавливает исходную зависимость. В данном случае можно говорить о __недообучении__. Хороший алгоритм не был построен, поскольку с помощью выбранного семейства алгоритмов невозможно восстановить исходную закономерность."
      ]
    },
    {
      "cell_type": "markdown",
      "metadata": {
        "id": "km9OjqjGiquK"
      },
      "source": [
        "Усложним используемое семейство алгоритмов до кубической зависимости\n",
        "\n",
        "$$a(x) = w_{0} + w_{1}x + w_{2}x^{2} + w_{3}x^{3}.$$\n",
        "\n",
        "Сделаем это путем искусственной генерации новой матрицы признаков, состоящей из исходных $x$, возведенных в степени до 3, используя `sklearn.preprocessing.PolynomialFeatures`."
      ]
    },
    {
      "cell_type": "code",
      "metadata": {
        "id": "iDLG2XuViquL"
      },
      "source": [
        "from sklearn.preprocessing import PolynomialFeatures\n",
        "from sklearn.pipeline import make_pipeline\n",
        "\n",
        "# создадим новую кубическую модель\n",
        "third_degree_regressor = make_pipeline(PolynomialFeatures(degree=3), linear_model.LinearRegression())\n",
        "\n",
        "# обучим ее\n",
        "third_degree_regressor.fit(np.reshape(x_data, (-1, 1)), f_data)"
      ],
      "execution_count": null,
      "outputs": []
    },
    {
      "cell_type": "code",
      "metadata": {
        "id": "9kY0H8KPiquS"
      },
      "source": [
        "# выведем полученные веса при признаках и свободный коэффициент\n",
        "print(third_degree_regressor.named_steps.linearregression.coef_)\n",
        "print(third_degree_regressor.named_steps.linearregression.intercept_)\n"
      ],
      "execution_count": null,
      "outputs": []
    },
    {
      "cell_type": "markdown",
      "metadata": {
        "id": "OBKM6B6wiquV"
      },
      "source": [
        "Нанесем полученную в итоге зависимость на график."
      ]
    },
    {
      "cell_type": "code",
      "metadata": {
        "id": "6rKHJTjJiquW"
      },
      "source": [
        "plt.xlabel('x')\n",
        "plt.ylabel('f(x)')\n",
        "plt.ylim(-5000, 5000)\n",
        "plt.xlim(-10,10)\n",
        "\n",
        "plt.plot(dots, f(dots), color='g')\n",
        "plt.scatter(x_data, f_data)\n",
        "plt.plot(dots, third_degree_regressor.predict(np.reshape(dots, (-1, 1))), color='r')"
      ],
      "execution_count": null,
      "outputs": []
    },
    {
      "cell_type": "markdown",
      "metadata": {
        "id": "9VJdL3rhiquY"
      },
      "source": [
        "Полученный алгоритм достаточно хорошо описывает данные, но не идеально. И в реальных условиях может возникнуть вопрос, можно ли добиться лучшего совпадения увеличением сложности алгоритма.\n",
        "\n",
        "Проиллюстрируем, что происходит в случае использования многочлена 8-й степени."
      ]
    },
    {
      "cell_type": "code",
      "metadata": {
        "id": "Vc8pOjbOiquZ"
      },
      "source": [
        "# создадим модель 8-й степени\n",
        "eighth_degree_regressor = make_pipeline(PolynomialFeatures(degree=8), linear_model.LinearRegression())\n",
        "\n",
        "# обучим ее\n",
        "eighth_degree_regressor.fit(np.reshape(x_data, (-1, 1)), f_data)"
      ],
      "execution_count": null,
      "outputs": []
    },
    {
      "cell_type": "markdown",
      "metadata": {
        "id": "y8dlT6n5iquc"
      },
      "source": [
        "Покажем получившийся график зависимости."
      ]
    },
    {
      "cell_type": "code",
      "metadata": {
        "scrolled": true,
        "id": "VW7kvdoFiqud"
      },
      "source": [
        "plt.xlabel('x')\n",
        "plt.ylabel('f(x)')\n",
        "plt.ylim(-5000, 5000)\n",
        "plt.xlim(-10,10)\n",
        "\n",
        "plt.plot(dots, f(dots), color='g')\n",
        "plt.scatter(x_data, f_data)\n",
        "plt.plot(dots, eighth_degree_regressor.predict(np.reshape(dots, (-1, 1))), color='r')"
      ],
      "execution_count": null,
      "outputs": []
    },
    {
      "cell_type": "markdown",
      "metadata": {
        "id": "JkFoaeMCiquk"
      },
      "source": [
        "Видно, что новая модель лучше описывает имеющиеся в обучающей выборке данные и дает фактически идеальные ответы на них, но про этом в целом зависимость сильно отличается от истинной. Поэтому если мы попробуем применить эту модель на новых данных, ответы будут расходиться с правильными. Такое явление и называется __переобучением__. Алгоритм слишком сильно подогнан под обучающую выборку, и за счет этого будет давать неадекватные ответы на новых точках."
      ]
    },
    {
      "cell_type": "markdown",
      "metadata": {
        "id": "CErR0qKOiquk"
      },
      "source": [
        "Таким образом, недообучение несет за собой плохое качество на обучении и на новых данных, а переобучение - хорошее качество на обучении и плохое на новых данных.\n",
        "\n",
        "Понятно, как бороться с недообучением - усложнять семейство алгоритмов. Возникает вопрос, как выявить переобучение и его избежать. В случае переобучения, как было сказано ранее, данные из обучающей выборки алгоритмом будут описываться хорошо, а новые данные - плохо, поэтому используя только обучающую выборку, невозможно заключить, хорошо обучен алгоритм или переобучен, так как оба они будут хорошо описывать известные данные."
      ]
    },
    {
      "cell_type": "markdown",
      "metadata": {
        "id": "g9MMDQHDiqul"
      },
      "source": [
        "Есть несколько методов оценки качества алгоритма и выявления переобучения:\n",
        "\n",
        "1. Не использовать всю выборку для обучения, а откладывать часть данных для проверки полученного алгоритма. Это называется _отложенной выборкой_. Данные делятся на обучающую и тестовую выборку в соотношении, например, 0.7 к 0.3, и затем на первой части алгоритм обучается, а на второй проверяется. Размер отложенной выборки в данном случае нужно подбирать с осторожностью, так как слишком маленькая тестовая выборка не будет обеспечивать должной точности оценки качества обучения, а слишком маленькия обучающая выборка приведет к снижению качества обучения, так как будет малорепрезентативна. Таким образом, главный минус этого метода - сильная зависимость результата от того, как мы выбираем отложенную выборку. Например, в пространстве объектов могут быть какие-то особые, отличающиеся от остальных по какому-то свойству объекты, и может так произойти, что после разбиения они не попадут в обучающую выборку, алгоритм на них не обучится, и качество обучения после проверки на этих объектах, попавших в тестовую выборку, будет плохим. Один из путей решения этой проблемы - многократное случайное разбиение выборки на тестовую и обучающую и использование в качестве оценки качества среднего значения ошибки полученной после каждого разбиения. Но и этот метод не гарантирует, что каждый объект побывает в обучающей выборке, так как разбиения случайные.\n",
        "\n",
        "\n",
        "2. _Кросс-валидация_ (усложненная версия метода отложенной выборки). Этот метод как раз вытекает из проблемы, описанной выше. Он является более системным подходом. В этом случае выборка разбивается на $k$ блоков, и затем каждый из них по очереди используется в качестве тестового, а остальная часть - в качестве обучающей выборки. После прохождения всей выборки таким образом получается $k$ показателей качества, и итоговая оценка качества обучения по кросс-валидации оценивается как средняя из этих $k$. В этом случае мы гарантируем, что все данные поучаствуют в обучении. Выбор количества блоков $k$ обычно зависит от размера выборки. Чем больше данных, тем меньше нужно блоков, так как во-первых в этом случае после разбиения даже на малое количество блоков у нас остается большой объем данных в обучающей выборке, что обеспечивает хорошее качество обучения, а во-вторых, разбиение на $k$ блоков означает обучение алгоритма $k$ раз, соответственно, чем их больше, тем больше получается вычислительная сложность процесса обучения модели. Обычно $k$ принимает значение от 3 до 10.\n",
        "\n",
        "\n",
        "3. Использовать меры сложности модели, позволяющие без дополнительной выборки выявить переобучение."
      ]
    },
    {
      "cell_type": "markdown",
      "metadata": {
        "id": "_I6dPoI0iqum"
      },
      "source": [
        "Одним из знаков, что произошло переобучение модели, или _мерой сложности_ является получение больших по модулю весов при признаках. Посмотрим, что получилось в нашей последней модели."
      ]
    },
    {
      "cell_type": "code",
      "metadata": {
        "id": "H4vCY2DJiqum"
      },
      "source": [
        "# выведем полученные веса при признаках и свободный коэффициент\n",
        "print(eighth_degree_regressor.named_steps.linearregression.coef_)\n",
        "print(eighth_degree_regressor.named_steps.linearregression.intercept_)"
      ],
      "execution_count": null,
      "outputs": []
    },
    {
      "cell_type": "markdown",
      "metadata": {
        "id": "3CveLhp1iqup"
      },
      "source": [
        "Видим веса 2 и 3 порядков в то время как в кубичесой модели и в исходной зависимости ничего подобного не было. Это и говорит нам о том, что в данном случае имеет место переобучение."
      ]
    },
    {
      "cell_type": "markdown",
      "metadata": {
        "id": "H_sCR6rXiqup"
      },
      "source": [
        "На этой особенности и основывается метод _регуляризации_ для борьбы с переобучением."
      ]
    },
    {
      "cell_type": "markdown",
      "metadata": {
        "id": "Ws1-N-_Qiqus"
      },
      "source": [
        "### Регуляризация"
      ]
    },
    {
      "cell_type": "markdown",
      "metadata": {
        "id": "8Zgvr4aEiqut"
      },
      "source": [
        "Метод регуляризации заключается в \"штрафовании\" модели за слишком большие веса путем добавления нового члена к среднеквадратичной ошибке:\n",
        "\n",
        "$$Q(w, X) + \\lambda ||w||^{2} \\rightarrow \\underset{w}{\\text{min}}.$$\n",
        "\n",
        "добавленный член $\\lambda ||w||^{2}$ - _квадратичный регуляризатор_, который представляет собой $L_{2}$-норму вектора весов, то есть сумму квадратов весов $\\sum^{d}_{j=1}w_{j}^{2}$, коэффицент $\\lambda$ при нем - коэффициент регуляризации. Чем больше его значение, тем меньшая сложность модели будет получаться в процессе такого обучения. Если увеличивать его, в какой-то момент оптимальным для модели окажется зануление всех весов. В то же время при слишком низких его значениях появляется вероятность чрезмерного усложнения модели и переобучения. Выбор оптимального значения этого коэфициента является отдельной задачей и заключается в многократном обучении модели с разными его значениями и сравнении их качества."
      ]
    },
    {
      "cell_type": "markdown",
      "metadata": {
        "id": "yP69lwhriqut"
      },
      "source": [
        "По сути, смысл регуляризации заключается, как и в обычном обучении, в минимизации функционала ошибки, только в данном случае добавляется условие непревышения нормой вектора весов некоторого значения $||w||^{2}\\leq C$, то есть ограничение весов, что и будет залогом избежания переобучения."
      ]
    },
    {
      "cell_type": "markdown",
      "metadata": {
        "id": "-OTMLxupiquu"
      },
      "source": [
        "Описанный выше метод с использованием $L_{2}$-нормы вектора весов в качестве регуляризатора называется _$L_{2}$-регуляризацией_. По аналогии существует также _$L_{1}$-регуляризация_, использующая в качестве регуляризатора $L_{1}$-норму вектора весов, то есть сумму модулей весов.\n",
        "\n",
        "$$||w||_{1} = \\sum^{d}_{j=1}|w_{j}|.$$"
      ]
    },
    {
      "cell_type": "markdown",
      "metadata": {
        "id": "EJFR2HDliqu1"
      },
      "source": [
        "$L_{2}$-регуляризатор представляет собой непрерывную гладкую функцию, поэтому его добавление не усложняет использование градиентных методов оптимизации, так как в каждой его точке существует производная. $L_{1}$-регуляризатор уже не является гладкой функцией, так как в нем есть модуль, у которого не существует производной в нуле. То есть его использование усложняет градиентные методы оптимизации, но в свою очередь он обладает интересной особенностью, заключающейся в занулении некоторых весов при его применении. Иными словами, он производит отбор признаков, позволяя оставлять только самые важные, отбрасывая остальные."
      ]
    },
    {
      "cell_type": "markdown",
      "metadata": {
        "id": "IjeEm_Geiqu2"
      },
      "source": [
        "$L_{1}$-регуляризация также называется Lasso, $L_{2}$-регуляризация иногда называется Ridge. По этим именам регуляризаторы можно найти в модуле `sklearn.linear_models`."
      ]
    },
    {
      "cell_type": "markdown",
      "metadata": {
        "id": "Lq5zA2Itiqu3"
      },
      "source": [
        "### Коэффициент детерминации"
      ]
    },
    {
      "cell_type": "markdown",
      "metadata": {
        "id": "1e7sgEO5iqu3"
      },
      "source": [
        "_Коэффициент детерминации_ $R^{2}$ является еще одной метрикой качества в задачах регрессии. Ранее мы говорили о средней абсолютной и среднеквадратичной ошибке. Коэффициент детерминации позволяет развить тему среднеквадратичной ошибки, интерпретируя ее.\n",
        "\n",
        "MSE не позволяет сама по себе сделать вывод о том, как хорошо модель решает задачу. Например, если целевая переманная принимает значения от 0 до 1, а MSE равняется 10, это плохой показатель, а когда целевая переменная варьируется от 1000 до 10000, такое же значение уже является очень хорошим. Для избавления от такой неясности и был введен коэффициент детерминации, который по сути является нормированной среднеквадратичной ошибкой и принимает значения от 0 до 1.\n",
        "\n",
        "$$R^{2} = 1 - \\frac{\\sum^{l}_{i=1}(a(x_{i}) - y_{i})^{2}}{\\sum^{l}_{i=1}(y_{i} - \\bar{y})^{2}},$$\n",
        "\n",
        "где $\\bar{y}=\\frac{1}{l}\\sum^{l}_{i=1}y_{i}$ - среднее значение целевой переменной.\n",
        "\n",
        "Коэффициент детерминации характеризует, какую долю дисперсии ответов объясняет модель. Если $R^{2}=1$, то модель идеально описывает данные, если же $R^{2}$ близко к нулю, то предсказания сопоставимы по качеству с константной моделью."
      ]
    },
    {
      "cell_type": "markdown",
      "metadata": {
        "id": "esNMM7hXiqu4"
      },
      "source": [
        "## Литература"
      ]
    },
    {
      "cell_type": "markdown",
      "metadata": {
        "id": "vPQPnl--iqu4"
      },
      "source": [
        "1. [Стохастический градиентный спуск](http://www.machinelearning.ru/wiki/index.php?title=%D0%A1%D1%82%D0%BE%D1%85%D0%B0%D1%81%D1%82%D0%B8%D1%87%D0%B5%D1%81%D0%BA%D0%B8%D0%B9_%D0%B3%D1%80%D0%B0%D0%B4%D0%B8%D0%B5%D0%BD%D1%82%D0%BD%D1%8B%D0%B9_%D1%81%D0%BF%D1%83%D1%81%D0%BA)\n",
        "2. [sklearn.datasets.make_regression](https://scikit-learn.org/stable/modules/generated/sklearn.datasets.make_regression.html)\n",
        "3. [numpy.mean](https://docs.scipy.org/doc/numpy-1.14.0/reference/generated/numpy.mean.html)\n",
        "4. [sklearn.linear_model.LinearRegression](https://scikit-learn.org/stable/modules/generated/sklearn.linear_model.LinearRegression.html)\n",
        "5. [sklearn.preprocessing.PolynomialFeatures](https://scikit-learn.org/stable/modules/generated/sklearn.preprocessing.PolynomialFeatures.html)\n",
        "6. [sklearn.pipeline.make_pipeline](https://scikit-learn.org/stable/modules/generated/sklearn.pipeline.make_pipeline.html)"
      ]
    },
    {
      "cell_type": "markdown",
      "metadata": {
        "id": "pv-pdIHpiqu5"
      },
      "source": [
        "## Для самостоятельной работы"
      ]
    },
    {
      "cell_type": "markdown",
      "metadata": {
        "id": "osNM_LLkiqu6"
      },
      "source": [
        "1. Сгенерировать датасет при помощи `sklearn.datasets.make_regression` и обучить линейную модель при помощи градиентного и стохастического градиентного спуска. Нанести среднеквадратичную ошибку для обоих методов на один график, сделать выводы о разнице скорости сходимости каждого из методов.\n",
        "2. Модифицировать решение первого задания путем добавления $L_{2}$-регуляризации (в функцию, считающую MSE, нужно добавить норму вектора весов) и сравнить результаты."
      ]
    }
  ]
}