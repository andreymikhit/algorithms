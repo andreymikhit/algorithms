{
  "nbformat": 4,
  "nbformat_minor": 0,
  "metadata": {
    "kernelspec": {
      "display_name": "Python 3",
      "language": "python",
      "name": "python3"
    },
    "language_info": {
      "codemirror_mode": {
        "name": "ipython",
        "version": 3
      },
      "file_extension": ".py",
      "mimetype": "text/x-python",
      "name": "python",
      "nbconvert_exporter": "python",
      "pygments_lexer": "ipython3",
      "version": "3.7.1"
    },
    "colab": {
      "provenance": []
    }
  },
  "cells": [
    {
      "cell_type": "markdown",
      "metadata": {
        "id": "UIAqr2CPdfJe"
      },
      "source": [
        "# Урок 8. Снижение размерности данных\n",
        "## ДЗ (17.05.2021)"
      ]
    },
    {
      "cell_type": "markdown",
      "metadata": {
        "id": "fT5drUQ9bcsW"
      },
      "source": [
        "* [Практическое задание. ДЗ.](#ex)\n",
        "    * [Задание](#ex)\n",
        "\n",
        "* [Теория](#theor)\n",
        "    * [Дополнительные материалы](#theor)"
      ]
    },
    {
      "cell_type": "markdown",
      "metadata": {
        "id": "zZtSaC2xbfOV"
      },
      "source": [
        "# <center><a class=\"anchor\" id=\"ex\">Практическое задание </a><center>"
      ]
    },
    {
      "cell_type": "markdown",
      "metadata": {
        "id": "J-0WGTWebhvs"
      },
      "source": [
        "## <a class=\"anchor\" id=\"ex1\">Задание </a>"
      ]
    },
    {
      "cell_type": "markdown",
      "metadata": {
        "id": "A0EXvReabmMj"
      },
      "source": [
        "Для любой модели из курса(кроме KNN) и данных на которых она строилась: примнить метод главных компонент к данным, и сравнить работу модели на исходных данных с работой на данных где в качестве признаков используются две главные компоненты."
      ]
    },
    {
      "cell_type": "markdown",
      "metadata": {
        "id": "D-ubP3o_b75J"
      },
      "source": [
        "### <a class=\"anchor\" id=\"ex1\">Решение </a>"
      ]
    },
    {
      "cell_type": "code",
      "metadata": {
        "id": "lCs0cg3Hb6yT"
      },
      "source": [
        "from sklearn.linear_model import LogisticRegression\n",
        "import warnings\n",
        "from sklearn.datasets import load_breast_cancer\n",
        "import matplotlib.pyplot as plt\n",
        "from sklearn import model_selection\n",
        "import numpy as np"
      ],
      "execution_count": null,
      "outputs": []
    },
    {
      "cell_type": "code",
      "metadata": {
        "id": "NBRdHoDrcZWU"
      },
      "source": [
        "X, y = load_breast_cancer(return_X_y=True)\n",
        "X_train, X_test, y_train, y_test = model_selection.train_test_split(X, y, test_size=0.25)\n",
        "\n",
        "def get_error(pred, y):\n",
        "    return np.sum((pred != y).astype(int)) / len(y)"
      ],
      "execution_count": null,
      "outputs": []
    },
    {
      "cell_type": "code",
      "metadata": {
        "id": "ziSiJF69vaen"
      },
      "source": [
        "#Рекоммендуемая реализация LogLoss\n",
        "def log_loss(pred, y, eps=1e-15): return -np.sum(y*np.log2(pred+eps)+(1-y+eps)*np.log2(1-pred+eps))/len(y)"
      ],
      "execution_count": null,
      "outputs": []
    },
    {
      "cell_type": "code",
      "metadata": {
        "id": "UCkBN1ZzveqQ"
      },
      "source": [
        "def lr_adaboost(X, y, N):\n",
        "\n",
        "    # Размер выборки\n",
        "    n_objects = len(X)\n",
        "\n",
        "    # Запишем количество классов в переменную\n",
        "    n_classes = len(np.unique((y)))\n",
        "\n",
        "    # Начальные веса\n",
        "    w = np.ones(n_objects) / n_objects\n",
        "\n",
        "    # Модели с весами будем записывать в список\n",
        "    models = []\n",
        "\n",
        "    # Размер выборки\n",
        "    n_objects = len(X)\n",
        "\n",
        "    # Запишем количество классов в переменную\n",
        "    n_classes = len(np.unique((y)))\n",
        "\n",
        "    # Модели с весами будем записывать в список\n",
        "    models = []\n",
        "\n",
        "    for n in range(N):\n",
        "\n",
        "      with warnings.catch_warnings():\n",
        "          warnings.simplefilter(\"ignore\")\n",
        "          clf = LogisticRegression(random_state=0)\n",
        "          clf.fit(X, y, w)\n",
        "\n",
        "          predictions_pr = clf.predict_proba(X)[:, 1]\n",
        "          predictions = clf.predict(X)\n",
        "\n",
        "          e = log_loss(predictions_pr, y)\n",
        "\n",
        "          # отбросим , если  ошибка больше 0.5\n",
        "          # Запишем условие в общем виде (применимо к небинарным классификаторам)\n",
        "          if e >= 1:\n",
        "            break\n",
        "\n",
        "          # Вычислим вес для дерева\n",
        "          alpha = 0.5 * np.log((1 - e) / e)\n",
        "\n",
        "          # Найдем индексы правильно классифицированных элементов\n",
        "          match = predictions == y\n",
        "\n",
        "          # Увеличим веса для неправильно классифицированных элементов\n",
        "          w[np.logical_not(match)] *= np.exp(alpha)\n",
        "          w[match] *= np.exp(-alpha)\n",
        "\n",
        "          # Нормализуем веса\n",
        "          w /= w.sum()\n",
        "\n",
        "          # Добавим дерево с весом в список\n",
        "          models.append((alpha, clf))\n",
        "\n",
        "    return models"
      ],
      "execution_count": null,
      "outputs": []
    },
    {
      "cell_type": "code",
      "metadata": {
        "id": "Xj6-yL1bvn5W"
      },
      "source": [
        "N = 10\n",
        "models_lr = lr_adaboost(X_train, y_train, N)"
      ],
      "execution_count": null,
      "outputs": []
    },
    {
      "cell_type": "code",
      "metadata": {
        "colab": {
          "base_uri": "https://localhost:8080/"
        },
        "id": "xjnUQCXovr4S",
        "outputId": "feaa7a69-084b-490c-9ade-74c8dba060a8"
      },
      "source": [
        "def predict(X, models, n_classes = 2):\n",
        "\n",
        "    n_objects = len(X)\n",
        "\n",
        "    # вначале обозначим предсказание нулевым массивом\n",
        "    y_pred = np.zeros((n_objects, n_classes))\n",
        "\n",
        "    for alpha, clf in models:\n",
        "        prediction = clf.predict(X)\n",
        "        # Для каждого предсказания будем прибавлять alpha к\n",
        "        # элементу с индексом предсказанного класса\n",
        "        y_pred[range(n_objects), prediction] += alpha\n",
        "\n",
        "    # выберем индексы с максимальными суммарными весами -\n",
        "    # получим предсказанные алгоритмом классы\n",
        "    y_pred = np.argmax(y_pred, axis=1)\n",
        "\n",
        "    return y_pred\n",
        "\n",
        "from sklearn.metrics import log_loss as lgs\n",
        "\n",
        "lgloss = lgs(y_train, predict(X_train, models_lr), eps=1e-15, normalize=True, sample_weight=None, labels=None)\n",
        "print(f'Точность алгоритма на обучающей выборке: {100-lgloss:.3f}')\n",
        "print(f'Точность алгоритма на обучающей выборке: {100-(log_loss(predict(X_train, models_lr), y_train)):.3f}')"
      ],
      "execution_count": null,
      "outputs": [
        {
          "output_type": "stream",
          "text": [
            "Точность алгоритма на обучающей выборке: 97.811\n",
            "Точность алгоритма на обучающей выборке: 96.842\n"
          ],
          "name": "stdout"
        }
      ]
    },
    {
      "cell_type": "code",
      "metadata": {
        "colab": {
          "base_uri": "https://localhost:8080/"
        },
        "id": "nnMYCtIHvwqU",
        "outputId": "0b48d19f-071f-423c-bbfb-6e28ac5e5e3e"
      },
      "source": [
        "print(f'Точность алгоритма на тестовой выборке: {100-(lgs(y_test, predict(X_test, models_lr))):.3f}')\n",
        "print(f'Точность алгоритма на тестовой выборке: {100-(log_loss(predict(X_test, models_lr), y_test)):.3f}')"
      ],
      "execution_count": null,
      "outputs": [
        {
          "output_type": "stream",
          "text": [
            "Точность алгоритма на тестовой выборке: 97.826\n",
            "Точность алгоритма на тестовой выборке: 96.864\n"
          ],
          "name": "stdout"
        }
      ]
    },
    {
      "cell_type": "code",
      "metadata": {
        "colab": {
          "base_uri": "https://localhost:8080/",
          "height": 297
        },
        "id": "4JJHthm_v0Iu",
        "outputId": "8257fc2c-1fd9-4728-d2bd-bc1a03f63541"
      },
      "source": [
        "train_errors_lr = []\n",
        "test_errors_lr = []\n",
        "\n",
        "with warnings.catch_warnings():\n",
        "    warnings.simplefilter(\"ignore\")\n",
        "    #и здесь обучаем модели\n",
        "    for n in range(1, 31):\n",
        "        mods_lr = lr_adaboost(X_train, y_train, n)\n",
        "        train_errors_lr.append(log_loss(predict(X_train, mods_lr), y_train))\n",
        "        test_errors_lr.append(log_loss(predict(X_test, mods_lr), y_test))\n",
        "x = list(range(1, 31))\n",
        "\n",
        "plt.xlim(0, 30)\n",
        "plt.plot(x, train_errors_lr, label='train errors')\n",
        "plt.plot(x, test_errors_lr, label='test errors')\n",
        "plt.xlabel('N')\n",
        "plt.ylabel('Errors')\n",
        "plt.legend(loc='upper right')"
      ],
      "execution_count": null,
      "outputs": [
        {
          "output_type": "execute_result",
          "data": {
            "text/plain": [
              "<matplotlib.legend.Legend at 0x7f1211151090>"
            ]
          },
          "metadata": {
            "tags": []
          },
          "execution_count": 9
        },
        {
          "output_type": "display_data",
          "data": {
            "image/png": "[encoded data removed]",
            "text/plain": [
              "<Figure size 432x288 with 1 Axes>"
            ]
          },
          "metadata": {
            "tags": [],
            "needs_background": "light"
          }
        }
      ]
    },
    {
      "cell_type": "code",
      "metadata": {
        "id": "PDAvCsfbv4yf"
      },
      "source": [
        "def pca(X_data):\n",
        "  X_ = X_data.astype(float)\n",
        "  mean=np.apply_along_axis(np.mean, 0, X_data)\n",
        "  std=np.apply_along_axis(np.std, 0, X_data)\n",
        "  X_normed=(X_data-mean[np.newaxis, :])/std[np.newaxis, :]\n",
        "  return X_normed\n",
        "\n",
        "X_normed = pca(X_train)"
      ],
      "execution_count": null,
      "outputs": []
    },
    {
      "cell_type": "code",
      "metadata": {
        "colab": {
          "base_uri": "https://localhost:8080/"
        },
        "id": "uvZSHvOYv_Ya",
        "outputId": "9c64b348-9a49-47be-91c5-8697b87a3150"
      },
      "source": [
        "# Найдем собственные векторы и собственные значения\n",
        "\n",
        "covariance_matrix = X_normed.T.dot(X_normed)\n",
        "\n",
        "eig_values, eig_vectors = np.linalg.eig(covariance_matrix)\n",
        "\n",
        "# сформируем список кортежей (собственное значение, собственный вектор)\n",
        "eig_pairs = [(np.abs(eig_values[i]), eig_vectors[:, i]) for i in range(len(eig_values))]\n",
        "\n",
        "# и отсортируем список по убыванию собственных значений\n",
        "eig_pairs.sort(key=lambda x: x[0], reverse=True)\n",
        "\n",
        "print('Собственные значения в порядке убывания:')\n",
        "for i in eig_pairs:\n",
        "    print(i[0])"
      ],
      "execution_count": null,
      "outputs": [
        {
          "output_type": "stream",
          "text": [
            "Собственные значения в порядке убывания:\n",
            "5815.2314470253295\n",
            "2310.8208416007787\n",
            "1196.9087464521244\n",
            "853.4529731562966\n",
            "645.2028830601638\n",
            "520.2734412132532\n",
            "288.55052703851203\n",
            "209.70695263577994\n",
            "181.3497852158989\n",
            "150.6282730606485\n",
            "129.40102011149932\n",
            "108.37817021462678\n",
            "89.21456806508635\n",
            "70.87216395275242\n",
            "42.96880688067115\n",
            "32.41960965952196\n",
            "24.966637182572942\n",
            "23.848741309342277\n",
            "19.4110605752631\n",
            "14.18290407689178\n",
            "12.149815088501159\n",
            "10.684781807292982\n",
            "9.503683349949075\n",
            "7.511507253580147\n",
            "4.805630101196791\n",
            "3.4633199484535195\n",
            "3.009421314426698\n",
            "0.7054990810202281\n",
            "0.32347182023535176\n",
            "0.053317748342057415\n"
          ],
          "name": "stdout"
        }
      ]
    },
    {
      "cell_type": "code",
      "metadata": {
        "colab": {
          "base_uri": "https://localhost:8080/"
        },
        "id": "5y9yPeiRwENX",
        "outputId": "0e6d2903-c326-41a5-fb20-faedc94f2d10"
      },
      "source": [
        "eig_sum = sum(eig_values)\n",
        "var_exp = [(i / eig_sum) * 100 for i in sorted(eig_values, reverse=True)]\n",
        "cum_var_exp = np.cumsum(var_exp)\n",
        "print(f'Доля дисперсии, описвыаемая каждой из компонент \\n{var_exp}')\n",
        "\n",
        "# а теперя оценим кумулятивную (то есть накапливаемую) дисперсию при учитывании каждой из компонент\n",
        "print(f'Кумулятивная доля дисперсии по компонентам \\n{cum_var_exp}')"
      ],
      "execution_count": null,
      "outputs": [
        {
          "output_type": "stream",
          "text": [
            "Доля дисперсии, описвыаемая каждой из компонент \n",
            "[45.502593482201284, 18.081540231617968, 9.365483149077647, 6.678035783695585, 5.0485358611906355, 4.070997192591961, 2.257828850066602, 1.6408994728934252, 1.4190124038802716, 1.1786249848251045, 1.0125275439084445, 0.8480295008969223, 0.6980795623246187, 0.5545552734957148, 0.33621914617113546, 0.2536745669759149, 0.19535709845518714, 0.1866098694001741, 0.1518862329832792, 0.11097734019477126, 0.0950689756533736, 0.08360549144986676, 0.07436371948316953, 0.058775487117215496, 0.037602739445984246, 0.027099530113094805, 0.023547897608972575, 0.005520337097184878, 0.002531078405597429, 0.00041719677888933773]\n",
            "Кумулятивная доля дисперсии по компонентам \n",
            "[ 45.50259348  63.58413371  72.94961686  79.62765265  84.67618851\n",
            "  88.7471857   91.00501455  92.64591402  94.06492643  95.24355141\n",
            "  96.25607896  97.10410846  97.80218802  98.35674329  98.69296244\n",
            "  98.94663701  99.1419941   99.32860397  99.48049021  99.59146755\n",
            "  99.68653652  99.77014201  99.84450573  99.90328122  99.94088396\n",
            "  99.96798349  99.99153139  99.99705172  99.9995828  100.        ]\n"
          ],
          "name": "stdout"
        }
      ]
    },
    {
      "cell_type": "code",
      "metadata": {
        "colab": {
          "base_uri": "https://localhost:8080/"
        },
        "id": "uAyVZhLqwHqI",
        "outputId": "289823f7-2579-44b1-b91d-d41fb4445f63"
      },
      "source": [
        "# Сформируем вектор весов из собственных векторов, соответствующих первым двум главным компонентам\n",
        "# хотя лучше брать как минимум 10 компонентов\n",
        "W = np.hstack((eig_pairs[0][1].reshape(len(eig_pairs),1), eig_pairs[1][1].reshape(len(eig_pairs),1)))\n",
        "\n",
        "print(f'Матрица весов W:\\n', W)"
      ],
      "execution_count": null,
      "outputs": [
        {
          "output_type": "stream",
          "text": [
            "Матрица весов W:\n",
            " [[ 0.2157179   0.2414459 ]\n",
            " [ 0.09834214  0.04283041]\n",
            " [ 0.22423548  0.22210229]\n",
            " [ 0.21679634  0.240055  ]\n",
            " [ 0.14867625 -0.18078997]\n",
            " [ 0.24070025 -0.14427688]\n",
            " [ 0.25703487 -0.0399141 ]\n",
            " [ 0.25686623  0.04467347]\n",
            " [ 0.14331102 -0.20312067]\n",
            " [ 0.07306675 -0.36689087]\n",
            " [ 0.20027444  0.1228889 ]\n",
            " [ 0.02350857 -0.07168934]\n",
            " [ 0.20739368  0.09854052]\n",
            " [ 0.2005462   0.16514792]\n",
            " [ 0.02513527 -0.18344049]\n",
            " [ 0.17942904 -0.21562292]\n",
            " [ 0.17178802 -0.16641733]\n",
            " [ 0.18798453 -0.09744136]\n",
            " [ 0.0541441  -0.18011633]\n",
            " [ 0.11494236 -0.26596309]\n",
            " [ 0.22436966  0.22417928]\n",
            " [ 0.10040627  0.02658787]\n",
            " [ 0.23370978  0.20103858]\n",
            " [ 0.22031019  0.22533095]\n",
            " [ 0.13146527 -0.18841448]\n",
            " [ 0.21069582 -0.15602628]\n",
            " [ 0.22663256 -0.09479019]\n",
            " [ 0.24668713  0.00574903]\n",
            " [ 0.12506245 -0.17505034]\n",
            " [ 0.13312117 -0.28383365]]\n"
          ],
          "name": "stdout"
        }
      ]
    },
    {
      "cell_type": "code",
      "metadata": {
        "id": "TPo7pFAqwKLB"
      },
      "source": [
        "# Сформируем новую матрицу \"объекты-признаки\"\n",
        "Z = X_normed.dot(W)"
      ],
      "execution_count": null,
      "outputs": []
    },
    {
      "cell_type": "code",
      "metadata": {
        "colab": {
          "base_uri": "https://localhost:8080/"
        },
        "id": "xqpHaRwEwODe",
        "outputId": "4feb45ba-b602-48cd-9d43-18b6cf6dd0e2"
      },
      "source": [
        "Z.T.dot(Z)"
      ],
      "execution_count": null,
      "outputs": [
        {
          "output_type": "execute_result",
          "data": {
            "text/plain": [
              "array([[5.81523145e+03, 4.54747351e-13],\n",
              "       [4.54747351e-13, 2.31082084e+03]])"
            ]
          },
          "metadata": {
            "tags": []
          },
          "execution_count": 15
        }
      ]
    },
    {
      "cell_type": "code",
      "metadata": {
        "id": "a2vMzpDrwSVM"
      },
      "source": [
        "X_train_pca = Z"
      ],
      "execution_count": null,
      "outputs": []
    },
    {
      "cell_type": "code",
      "metadata": {
        "id": "8tRn5QQzwVlG"
      },
      "source": [
        "X_test_normed = pca(X_test)\n",
        "X_test_pca = X_test_normed.dot(W)"
      ],
      "execution_count": null,
      "outputs": []
    },
    {
      "cell_type": "code",
      "metadata": {
        "id": "eiqCrbYIwX82"
      },
      "source": [
        "N = 10\n",
        "models_lr_pca = lr_adaboost(X_train_pca, y_train, N)"
      ],
      "execution_count": null,
      "outputs": []
    },
    {
      "cell_type": "code",
      "metadata": {
        "colab": {
          "base_uri": "https://localhost:8080/"
        },
        "id": "I9owSaYewZ8v",
        "outputId": "fdc4b86e-86cb-4e3a-9139-dc656683d626"
      },
      "source": [
        "lgloss = lgs(y_train, predict(X_train_pca, models_lr_pca), eps=1e-15, normalize=True, sample_weight=None, labels=None)\n",
        "print(f'Точность алгоритма на обучающей выборке: {100-lgloss:.3f}')\n",
        "print(f'Точность алгоритма на обучающей выборке: {100-(log_loss(predict(X_train_pca, models_lr_pca), y_train)):.3f}')"
      ],
      "execution_count": null,
      "outputs": [
        {
          "output_type": "stream",
          "text": [
            "Точность алгоритма на обучающей выборке: 97.487\n",
            "Точность алгоритма на обучающей выборке: 96.374\n"
          ],
          "name": "stdout"
        }
      ]
    },
    {
      "cell_type": "code",
      "metadata": {
        "colab": {
          "base_uri": "https://localhost:8080/"
        },
        "id": "zr4ipLztwczy",
        "outputId": "c41f48c8-9d87-48bc-8d8b-52e1a00f5ee1"
      },
      "source": [
        "print(f'Точность алгоритма на тестовой выборке: {100-(lgs(y_test, predict(X_test_pca, models_lr_pca))):.3f}')\n",
        "print(f'Точность алгоритма на тестовой выборке: {100-(log_loss(predict(X_test_pca, models_lr_pca), y_test)):.3f}')"
      ],
      "execution_count": null,
      "outputs": [
        {
          "output_type": "stream",
          "text": [
            "Точность алгоритма на тестовой выборке: 96.135\n",
            "Точность алгоритма на тестовой выборке: 94.425\n"
          ],
          "name": "stdout"
        }
      ]
    },
    {
      "cell_type": "markdown",
      "metadata": {
        "id": "gSZqGqt7bpRX"
      },
      "source": [
        "# <center><a class=\"anchor\" id=\"theor\">Теория </a><center>"
      ]
    },
    {
      "cell_type": "markdown",
      "metadata": {
        "id": "oOcLKigsdfJg"
      },
      "source": [
        "Большая размерность данных (под ней понимается размерность пространства признаков, то есть их количество) может серьезно усложнить задачу анализа таких данных и даже стать причиной некорректной работы некоторых алгоритмов. Кроме того, часто в исходных данных могут присутствовать лишние признаки, никак не связанные с целевой переменной. Поэтому часто встает задача понижения количества признаков, оставляя при этом самые значимые (наиболее сильно влияющие на значение целевого параметра) с отсечением менее значимых (наиболее слабо коррелирующих со значением целевого параметра) или с формированием новых признаков на основе старых. То есть ставится задача перехода от пространства большей размерности к пространству меньшей размерности с сохранением максимального количества полезной информации."
      ]
    },
    {
      "cell_type": "markdown",
      "metadata": {
        "id": "_Pa5-7u-dfJh"
      },
      "source": [
        "## Алгоритмы снижения размерности"
      ]
    },
    {
      "cell_type": "markdown",
      "metadata": {
        "id": "zspAp10fdfJi"
      },
      "source": [
        "Алгоритмы снижения размерности пространства признаков делятся на две группы - отбор признаков (то есть отбрасывание наименее важных признаков) и понижение размерности путем формирования новых признаков на основе старых."
      ]
    },
    {
      "cell_type": "markdown",
      "metadata": {
        "id": "Lmvx3YA5dfJj"
      },
      "source": [
        "### Отбор признаков"
      ]
    },
    {
      "cell_type": "markdown",
      "metadata": {
        "id": "isLulqvJdfJk"
      },
      "source": [
        "Самым простым и примитивным методом отбора является _одномерный отбор признаков_. Он заключается в оценке предсказательной силы каждого признака, то есть его информативности - насколько он коррелирует с целевой переменной. Затем отбираются либо заданное количество $k$ признаков, либо те признаки, информативность которых выше некоторого порога."
      ]
    },
    {
      "cell_type": "markdown",
      "metadata": {
        "id": "U547aIwTdfJl"
      },
      "source": [
        "Оценка предсказательной силы признака (или степени связи этого признака и целевой переменной) может проводиться разными методами, например:\n",
        "\n",
        "- в случае регрессии - _корреляция_ $$R_{j} = \\frac{\\sum_{i=1}^{l}(x_{ij} - \\bar{x}_{j})(y_{i} - \\bar{y})}{\\sqrt{\\sum_{i=1}^{l}(x_{ij} - \\bar{x}_{j})^{2}\\sum_{i=1}^{l}(y_{i} - \\bar{y})^{2}}},$$ где $\\bar{x_{j}}$ и $\\bar{y}$ - среднее значение $j$-го признака и целевой переменной, соответственно. Чем больше по модулю корреляция ($\\pm 1$), тем информативнее признак. Следует заметить, что этот метод учитывает только линейную связь между признаком и целевой переменной.\n",
        "\n",
        "\n",
        "- в случае задачи классификации - _взаимная информация (mutual information)_, моделирующая корреляцию между признаками и классами. Она использует в расчете вероятность того, что одновременно значение $j$-го признака $x_{ij}$ равно числу $v$ и значение целевой переменной $y_{i}=k$, или, другими словами, долю таких объектов от общего количества объектов в выборке $P(x=v,y=k)$. Тогда взаимная информация будет находиться как $$MI_{j}=\\sum_{v \\in X}\\sum_{k \\in Y}P(x=v,y=k)\\text{log}\\frac{P(x=v,y=k)}{P(x=v)P(y=k)}.$$ Здесь $P(x=v)$ и $P(y=k)$ - доли объектов, на которых значение признака равно $v$ и значение целевой переменной равно $k$, соответственно. Если признак и целевая переменная независимы, то взаимная информация обращается в ноль. В отличие от предыдущего метода, этот метод позволяет находять произвольные зависимости (в т.ч. нелинейные) в пространстве произвольной размерности.\n",
        "\n",
        "Такие методы позволяют оценить важность исключительно каждого признака отдельно, без учета влияния комбинаций признаков на целевую переменную, поэтому они и называются одномерными. На практике зачастую признаки влияют именно в совокупности, и по отдельности могут ошибочно быть расценены как некоррелирующие с целевой переменной, поэтому одномерные методы отбора не являются оптимальным методом в большинстве случаев."
      ]
    },
    {
      "cell_type": "markdown",
      "metadata": {
        "id": "DV5E5PnadfJl"
      },
      "source": [
        "Отдельной группой методов можно назвать так называемые _переборные методы_, которые дискретно оценивают качество модели, обученной на различных подмножествах признаков. При этом происходит полный перебор всех возможных вариантов. Обычно такие алгоритмы делятся на _жадные (greedy)_ и _нежадные (non-greedy)_. Полный список их можно найти в дополнительных материалах."
      ]
    },
    {
      "cell_type": "markdown",
      "metadata": {
        "id": "EOjQFkTgdfJm"
      },
      "source": [
        "Жадность алгоритмов заключаются в том, что если один из признаков включен в подмножество (или исключен в случае исключающего метода), в следующих итерациях поиска он уже не учитывается, так что алгоритм работает на меньшем объеме данных. Известные алгоритмы этого типа - _жадное включение_ и _жадное исключение_. В случае жадного включения на первой итерации аналогично одномерному отбору признаков находится признак, обладающий наибольшей предсказательной силой и добавляется в формирующуееся подмножество $\\{i_{1}\\}$. Далее происходит перебор оставшихся признаков с попеременным добавлением каждого из них в подмножество к первому и оценкой качества получаемой модели, обученной на подмножестве из этих двух признаков $\\{i_{1}, i_{2}\\}$. В итоге в подмножестве остается тот признак, при добавлении которого получается наилучшее качество. Далее эта процедура повторяется до момента, пока ошибка получаемой модели уменьшается. На каждой итерации в подмножество добавляется один признак, максимально улучшающий работу модели. Если на какой-то итерации при добавлении признаков ошибка не уменьшается, процесс останавливается.\n",
        "\n",
        "Плюсом такого алгоритма является относительная быстрота и возможность учета некоторых взаимодействий между признаками (как раз то, чего лишен одномерный отбор). Минусом же можно назвать вероятность застрять в локальном минимуме ошибки, если такой есть. В случае же когда есть единственный глобальный минимум, алгоритм найдет оптимальное решение.\n",
        "\n",
        "Есть также модификации этого алгоритма с многократным проходом по выборке и поочередным включением/исключением признаков из подмножества для учета совокупного влияния признаков."
      ]
    },
    {
      "cell_type": "markdown",
      "metadata": {
        "id": "Q5TOTIM4dfJo"
      },
      "source": [
        "Примером нежадного алгоритма может быть простой последовательный полный перебор всех возможных подмножеств признаков. Такой подбор позволяет найти наиболее оптимальное подмножество признаков, но, очевидно, он является достаточно трудоемким (нужно перебрать $2^{n}$ вариантов, где $n$ - число признаков), поэтому подходит только для датасетов с небольшим количеством признаков."
      ]
    },
    {
      "cell_type": "markdown",
      "metadata": {
        "id": "kqDrhuvidfJp"
      },
      "source": [
        "Еще одна группа методов отбора признаков - _встроенные в модели_. Они используют эвристики, заложенные в обучающие модели, для оценки важности признаков.\n",
        "\n",
        "- Например, в случае работы с линейными моделями мы имеем зависимость целевой переменной от взвешенной суммы признаков $$a(x) = \\sum_{i=1}^{n}w_{i}x^{i}.$$ Здесь, если признаки масштабированы, веса будут являться показателями информативности признаков: чем больше вес, тем больший вклад данный признак вносит в значение целевой переменной. На основе этого показателя можно проводить отбор признаков. Также, вспоминая уроки по линейным моделям, можно упомянуть, что использование $L_{1}$-регуляризации приводит к занулению весов наименее важных признаков, то есть к их отбрасыванию, при этом больший коэффициент регуляризации будет приводить к большему количеству зануленных весов."
      ]
    },
    {
      "cell_type": "markdown",
      "metadata": {
        "id": "iMFGIpqQdfJr"
      },
      "source": [
        "- В случае использования решающих деревьев и их композиций, где в каждой вершине происходит разбиение на два поддерева путем сравнивания значения одного признака с некоторым значением порога, важность признака можно оценивать по тому, насколько он уменьшает значение критерия информативности, по которому оценивается качество разбиения: $$Q(X_{m}, j, t) = H(X_{m}) - \\frac{|X_{l}|}{|X_{m}|}H(X_{l}) - \\frac{|X_{r}|}{|X_{m}|}H(X_{r}),$$ где $X_{m}$ - множество объектов, попавших в вершину на данном шаге, $X_{l}$ и $X_{r}$ - множества, попадающие в левое и правое поддерево, соответственно, после разбиения. $H(X)$ - критерий информативности.\n",
        "    \n",
        "    Чем сильнее падает критерий информативности при разбиении по данному признаку (то есть чем выше $Q$), тем этот признак важнее. Таким образом, важность $j$-го признака можно оценить путем вычисления суммы уменьшений критерия информативности по всем вершинам, в которых делалось разбиение по данному признаку. Чем больше эта сумма, тем важнее данный признак был при построении дерева. В случае композиций деревьев этот показатель суммируется по всем деревьям."
      ]
    },
    {
      "cell_type": "markdown",
      "metadata": {
        "id": "suyYET13dfJr"
      },
      "source": [
        "### Понижение размерности"
      ]
    },
    {
      "cell_type": "markdown",
      "metadata": {
        "id": "8w8aSllUdfJs"
      },
      "source": [
        "Кроме отбора признаков, который не всегда оптимален в плане сохранения максимума полезной информации, существуют еще методы понижения размерности путем формирования новых признаков на основе старых. Новых признаков при использовании такого метода должно быть меньше, чем исходных, при условии сохранения максимально возможного количества информации из исходных признаков. Например, объединение нескольких признаков в линейную комбинацию:\n",
        "\n",
        "$$z_{ij}=\\sum_{k=1}^{n}w_{jk}x_{ik},$$\n",
        "\n",
        "где $x_{ij}$ - исходные признаки, $z_{ij}$ - новые принаки."
      ]
    },
    {
      "cell_type": "markdown",
      "metadata": {
        "id": "U2iJ7XBhdfJt"
      },
      "source": [
        "Простейшим методов такого понижения размерности является метод _случайных проекций_, который заключается в преобразованиях, сохраняющих расстояния и снижающих размерности. Существование таких преобразований доказано для выборок, в которых объектов меньше, чем признаков. Веса при всех признаках в таком методе можно выбирать случайно. При этом не факт, что мы попадем в оптимальное преобразование, но практика показывает, что метод работает, если размерность нового пространства признаков\n",
        "\n",
        "$$d > \\frac{8\\text{ln}l}{\\varepsilon^{2}},$$\n",
        "\n",
        "где $l$ - количество объектов, $\\varepsilon$ - максимальное изменение расстояния между объектами (лемма о малом искажении или лемма Джонсона-Линденштрауса)."
      ]
    },
    {
      "cell_type": "markdown",
      "metadata": {
        "id": "7RKYQxgMdfJu"
      },
      "source": [
        "#### Метод главных компонент (PCA)"
      ]
    },
    {
      "cell_type": "markdown",
      "metadata": {
        "id": "A7frA6OrdfJv"
      },
      "source": [
        "Одним из наиболее известных и широко применяемых методов понижения размерности является _метод главных компонент (principal component analysis, PCA)_. Он заключается в приближении матрицы признаков матрицей меньшего ранга - так называемом низкоранговом приближении.\n",
        "\n",
        "Запишем показанную ранее формулу линейного преобразования признаков в матричном виде:\n",
        "\n",
        "$$Z = XW^{T},$$\n",
        "\n",
        "где $X$ - матрица \"объекты-признаки\", где по строкам отложены объекты, а по столбцам - значения признаков, $Z$ - матрица новых признаков, $W^{T}$ - транспонированная матрица весов. Приближение заключается формировании новой матрицы признаков $\\tilde{X}=ZW\\approx X$ с возможностью восстанавливания старых признаков по новым с максимальным уровнем точности, или, если говорить иначе, чтобы их различие было минимальным:\n",
        "\n",
        "$$\\|ZW - X\\|^{2} \\rightarrow \\underset{Z, W}{\\text{min}}.$$"
      ]
    },
    {
      "cell_type": "markdown",
      "metadata": {
        "id": "6oGhpkBfdfJv"
      },
      "source": [
        "При этом метод главных компонент предполагает, что матрица весов должна быть ортогональной, то есть произведение $WW^{T}$ должно равняться единичной матрице. Восстановленная матрица $ZW$ может иметь ранг меньший, чем исходная $X$, поэтому приближение будет называться низкоранговым."
      ]
    },
    {
      "cell_type": "markdown",
      "metadata": {
        "id": "P45TTDjedfJw"
      },
      "source": [
        "Геометрически метод можно представить как проецирование признаков на гиперплоскость с максимизацией дисперсии получаемой выборки."
      ]
    },
    {
      "cell_type": "markdown",
      "metadata": {
        "id": "3dV8i8cDdfJx"
      },
      "source": [
        "Если ранг матрицы исходных признаков $rank(X) \\geq d$, где $d$ - число новых признаков, то минимум функционала различия, описанного выше, достигается тогда, когда в качестве строк матрицы $W$ используются собственные векторы матрицы $X^{T}X$ , соответствующие максимальным собственным значениям $\\lambda_{1},...,\\lambda_{d}$. Максимальные собственные значения и называются главными компонентами, от чего пошло название метода. Первая главная компонента соответствует максимальному собственному значению и т.д."
      ]
    },
    {
      "cell_type": "markdown",
      "metadata": {
        "id": "VvLN4XJLdfJx"
      },
      "source": [
        "Некоторые полезные свойства метода:\n",
        "\n",
        "- Матрица $Z$ при этом будет такой, что $Z^{T}Z = \\Lambda = diag(\\lambda_{1},...,\\lambda_{d})$.\n",
        "\n",
        "\n",
        "- Минимизированный функционал ошибки будет равен $$\\|ZW - X\\|^{2} = \\|X\\|^{2} - tr\\Lambda,$$ где $tr\\Lambda,$ - след матрицы $\\Lambda$, то есть сумма всех собственных значений $\\lambda_{1},...,\\lambda_{d}$, а $\\|X\\|^{2}$ - сумма всех собственных значений исходной матрицы $\\lambda_{1},...,\\lambda_{n}$, таким образом $$\\|ZW - X\\|^{2} = \\sum_{j=d+1}^{n}\\lambda_{j},$$ то есть значение функционала ошибки будет равно сумме собственных значений, которые не были взяты в получаемое разложение. Поэтому логично брать в разложение максимальные собственные значения, оставляя минимальные.\n",
        "\n",
        "\n",
        "- Матрица $X^{T}X$ - матрица ковариации, то есть матрица, которая характеризует дисперсию выборки. Дисперсия выборки после проецирования будет равна собственному значению $\\lambda$, поэтому логично, что первым берется собственный вектор, соответствующий максимальному собственному значению - нам нужно сохранить максимум дисперсии."
      ]
    },
    {
      "cell_type": "markdown",
      "metadata": {
        "id": "-pPzjbW8dfJy"
      },
      "source": [
        "Таким образом, для реализации метода главных компонент нужно :\n",
        "- найти собственные значения матрицы $X^{T}X$;\n",
        "- отобрать $d$ максимальных;\n",
        "- составить матрицу $W^{T}$, столбцы которой будут являться собственными векторами, соответствующими отобранным собственным значениям, расположенным в порядке убывания;\n",
        "- получить новую матрицу \"объекты-признаки\", умножив исходную матрицу $X$ на матрицу весов $W$:\n",
        "\n",
        "$$Z=XW.$$"
      ]
    },
    {
      "cell_type": "markdown",
      "metadata": {
        "id": "LnYvDiOadfJz"
      },
      "source": [
        "#### PCA и SVD"
      ]
    },
    {
      "cell_type": "markdown",
      "metadata": {
        "id": "Thkg-tSXdfJ0"
      },
      "source": [
        "Сформулировав принцип реализации метода главных компонент, нельзя не заметить его родство с сингулярным разложением матриц (SVD). Вспомним, что сингулярное разложение матрицы - это разложение вида\n",
        "\n",
        "$$X=UDV^{T},$$\n",
        "\n",
        "где столбцы ортогональной матрицы $U$ - это собственные векторы матрицы $XX^{T}$, столбцы ортогональной матрицы $V$ - собственные векторы матрицы $X^{T}X$, а на главной диагонали диагональной матрицы $D$ расположены собственные значения матриц $XX^{T}$ и $X^{T}X$ (они равны и также называются сингулярными числами матрицы $X$).\n",
        "\n",
        "Если число новых признаков $d$ равно старому числу признаков $n$, то можно приравнять разложения\n",
        "\n",
        "$$X=ZW=UDV^{T}.$$\n",
        "\n",
        "При этом матрицы $W$ и $V^{T}$ состоят из собственных векторов матрицы $X^{T}X$, то есть они равны при $Z=UD$."
      ]
    },
    {
      "cell_type": "markdown",
      "metadata": {
        "id": "8tzfpn9zdfJ0"
      },
      "source": [
        "Получается, что метод главных компонент - в своем роде \"урезанная версия\" сингулярного разложения, из которого убрали минимальные собственные значения с соответствующими собственными векторами.\n",
        "Таким образом, для реализации понижения размерности методом главных компонент с помощью SVD нужно:\n",
        "- найти сингулярное разложение вектора $X$;\n",
        "- сформировать из столбцов матрицы $V$, соответствующих $d$ наибольшим сингулярным числам, матрицу весов $W$;\n",
        "- получить новую матрицу \"объекты-признаки\", умножив исходную матрицу $X$ на матрицу весов $W$:\n",
        "\n",
        "$$Z=XW.$$"
      ]
    },
    {
      "cell_type": "markdown",
      "metadata": {
        "id": "dWEQalcAdfJ1"
      },
      "source": [
        "Для закрепления теории реализуем PCA с помощью Python."
      ]
    },
    {
      "cell_type": "code",
      "metadata": {
        "id": "kSmUQy4ZdfJ2"
      },
      "source": [
        "import numpy as np\n",
        "from sklearn import datasets\n",
        "import matplotlib.pyplot as plt"
      ],
      "execution_count": null,
      "outputs": []
    },
    {
      "cell_type": "code",
      "metadata": {
        "id": "m3d93Gx2dfJ6",
        "colab": {
          "base_uri": "https://localhost:8080/"
        },
        "outputId": "8132b199-b478-45d9-9707-84d9f6a2c170"
      },
      "source": [
        "# Загрузим игрушечный датасет из sklearn\n",
        "iris = datasets.load_iris()\n",
        "X = iris.data\n",
        "\n",
        "print(X)"
      ],
      "execution_count": null,
      "outputs": [
        {
          "output_type": "stream",
          "text": [
            "[[5.1 3.5 1.4 0.2]\n",
            " [4.9 3.  1.4 0.2]\n",
            " [4.7 3.2 1.3 0.2]\n",
            " [4.6 3.1 1.5 0.2]\n",
            " [5.  3.6 1.4 0.2]\n",
            " [5.4 3.9 1.7 0.4]\n",
            " [4.6 3.4 1.4 0.3]\n",
            " [5.  3.4 1.5 0.2]\n",
            " [4.4 2.9 1.4 0.2]\n",
            " [4.9 3.1 1.5 0.1]\n",
            " [5.4 3.7 1.5 0.2]\n",
            " [4.8 3.4 1.6 0.2]\n",
            " [4.8 3.  1.4 0.1]\n",
            " [4.3 3.  1.1 0.1]\n",
            " [5.8 4.  1.2 0.2]\n",
            " [5.7 4.4 1.5 0.4]\n",
            " [5.4 3.9 1.3 0.4]\n",
            " [5.1 3.5 1.4 0.3]\n",
            " [5.7 3.8 1.7 0.3]\n",
            " [5.1 3.8 1.5 0.3]\n",
            " [5.4 3.4 1.7 0.2]\n",
            " [5.1 3.7 1.5 0.4]\n",
            " [4.6 3.6 1.  0.2]\n",
            " [5.1 3.3 1.7 0.5]\n",
            " [4.8 3.4 1.9 0.2]\n",
            " [5.  3.  1.6 0.2]\n",
            " [5.  3.4 1.6 0.4]\n",
            " [5.2 3.5 1.5 0.2]\n",
            " [5.2 3.4 1.4 0.2]\n",
            " [4.7 3.2 1.6 0.2]\n",
            " [4.8 3.1 1.6 0.2]\n",
            " [5.4 3.4 1.5 0.4]\n",
            " [5.2 4.1 1.5 0.1]\n",
            " [5.5 4.2 1.4 0.2]\n",
            " [4.9 3.1 1.5 0.2]\n",
            " [5.  3.2 1.2 0.2]\n",
            " [5.5 3.5 1.3 0.2]\n",
            " [4.9 3.6 1.4 0.1]\n",
            " [4.4 3.  1.3 0.2]\n",
            " [5.1 3.4 1.5 0.2]\n",
            " [5.  3.5 1.3 0.3]\n",
            " [4.5 2.3 1.3 0.3]\n",
            " [4.4 3.2 1.3 0.2]\n",
            " [5.  3.5 1.6 0.6]\n",
            " [5.1 3.8 1.9 0.4]\n",
            " [4.8 3.  1.4 0.3]\n",
            " [5.1 3.8 1.6 0.2]\n",
            " [4.6 3.2 1.4 0.2]\n",
            " [5.3 3.7 1.5 0.2]\n",
            " [5.  3.3 1.4 0.2]\n",
            " [7.  3.2 4.7 1.4]\n",
            " [6.4 3.2 4.5 1.5]\n",
            " [6.9 3.1 4.9 1.5]\n",
            " [5.5 2.3 4.  1.3]\n",
            " [6.5 2.8 4.6 1.5]\n",
            " [5.7 2.8 4.5 1.3]\n",
            " [6.3 3.3 4.7 1.6]\n",
            " [4.9 2.4 3.3 1. ]\n",
            " [6.6 2.9 4.6 1.3]\n",
            " [5.2 2.7 3.9 1.4]\n",
            " [5.  2.  3.5 1. ]\n",
            " [5.9 3.  4.2 1.5]\n",
            " [6.  2.2 4.  1. ]\n",
            " [6.1 2.9 4.7 1.4]\n",
            " [5.6 2.9 3.6 1.3]\n",
            " [6.7 3.1 4.4 1.4]\n",
            " [5.6 3.  4.5 1.5]\n",
            " [5.8 2.7 4.1 1. ]\n",
            " [6.2 2.2 4.5 1.5]\n",
            " [5.6 2.5 3.9 1.1]\n",
            " [5.9 3.2 4.8 1.8]\n",
            " [6.1 2.8 4.  1.3]\n",
            " [6.3 2.5 4.9 1.5]\n",
            " [6.1 2.8 4.7 1.2]\n",
            " [6.4 2.9 4.3 1.3]\n",
            " [6.6 3.  4.4 1.4]\n",
            " [6.8 2.8 4.8 1.4]\n",
            " [6.7 3.  5.  1.7]\n",
            " [6.  2.9 4.5 1.5]\n",
            " [5.7 2.6 3.5 1. ]\n",
            " [5.5 2.4 3.8 1.1]\n",
            " [5.5 2.4 3.7 1. ]\n",
            " [5.8 2.7 3.9 1.2]\n",
            " [6.  2.7 5.1 1.6]\n",
            " [5.4 3.  4.5 1.5]\n",
            " [6.  3.4 4.5 1.6]\n",
            " [6.7 3.1 4.7 1.5]\n",
            " [6.3 2.3 4.4 1.3]\n",
            " [5.6 3.  4.1 1.3]\n",
            " [5.5 2.5 4.  1.3]\n",
            " [5.5 2.6 4.4 1.2]\n",
            " [6.1 3.  4.6 1.4]\n",
            " [5.8 2.6 4.  1.2]\n",
            " [5.  2.3 3.3 1. ]\n",
            " [5.6 2.7 4.2 1.3]\n",
            " [5.7 3.  4.2 1.2]\n",
            " [5.7 2.9 4.2 1.3]\n",
            " [6.2 2.9 4.3 1.3]\n",
            " [5.1 2.5 3.  1.1]\n",
            " [5.7 2.8 4.1 1.3]\n",
            " [6.3 3.3 6.  2.5]\n",
            " [5.8 2.7 5.1 1.9]\n",
            " [7.1 3.  5.9 2.1]\n",
            " [6.3 2.9 5.6 1.8]\n",
            " [6.5 3.  5.8 2.2]\n",
            " [7.6 3.  6.6 2.1]\n",
            " [4.9 2.5 4.5 1.7]\n",
            " [7.3 2.9 6.3 1.8]\n",
            " [6.7 2.5 5.8 1.8]\n",
            " [7.2 3.6 6.1 2.5]\n",
            " [6.5 3.2 5.1 2. ]\n",
            " [6.4 2.7 5.3 1.9]\n",
            " [6.8 3.  5.5 2.1]\n",
            " [5.7 2.5 5.  2. ]\n",
            " [5.8 2.8 5.1 2.4]\n",
            " [6.4 3.2 5.3 2.3]\n",
            " [6.5 3.  5.5 1.8]\n",
            " [7.7 3.8 6.7 2.2]\n",
            " [7.7 2.6 6.9 2.3]\n",
            " [6.  2.2 5.  1.5]\n",
            " [6.9 3.2 5.7 2.3]\n",
            " [5.6 2.8 4.9 2. ]\n",
            " [7.7 2.8 6.7 2. ]\n",
            " [6.3 2.7 4.9 1.8]\n",
            " [6.7 3.3 5.7 2.1]\n",
            " [7.2 3.2 6.  1.8]\n",
            " [6.2 2.8 4.8 1.8]\n",
            " [6.1 3.  4.9 1.8]\n",
            " [6.4 2.8 5.6 2.1]\n",
            " [7.2 3.  5.8 1.6]\n",
            " [7.4 2.8 6.1 1.9]\n",
            " [7.9 3.8 6.4 2. ]\n",
            " [6.4 2.8 5.6 2.2]\n",
            " [6.3 2.8 5.1 1.5]\n",
            " [6.1 2.6 5.6 1.4]\n",
            " [7.7 3.  6.1 2.3]\n",
            " [6.3 3.4 5.6 2.4]\n",
            " [6.4 3.1 5.5 1.8]\n",
            " [6.  3.  4.8 1.8]\n",
            " [6.9 3.1 5.4 2.1]\n",
            " [6.7 3.1 5.6 2.4]\n",
            " [6.9 3.1 5.1 2.3]\n",
            " [5.8 2.7 5.1 1.9]\n",
            " [6.8 3.2 5.9 2.3]\n",
            " [6.7 3.3 5.7 2.5]\n",
            " [6.7 3.  5.2 2.3]\n",
            " [6.3 2.5 5.  1.9]\n",
            " [6.5 3.  5.2 2. ]\n",
            " [6.2 3.4 5.4 2.3]\n",
            " [5.9 3.  5.1 1.8]]\n"
          ],
          "name": "stdout"
        }
      ]
    },
    {
      "cell_type": "code",
      "metadata": {
        "id": "eE6X-RyIdfJ-"
      },
      "source": [
        "# Для начала отмасштабируем выборку\n",
        "X_ = X.astype(float)\n",
        "\n",
        "rows, cols = X_.shape\n",
        "\n",
        "# центрирование - вычитание из каждого значения среднего по строке\n",
        "means = X_.mean(0)\n",
        "for i in range(rows):\n",
        "    for j in range(cols):\n",
        "        X_[i, j] -= means[j]\n",
        "\n",
        "# деление каждого значения на стандартное отклонение\n",
        "std = np.std(X_, axis=0)\n",
        "for i in range(cols):\n",
        "    for j in range(rows):\n",
        "        X_[j][i] /= std[i]"
      ],
      "execution_count": null,
      "outputs": []
    },
    {
      "cell_type": "code",
      "metadata": {
        "id": "ItFOmLW9dfKB",
        "outputId": "0b507805-c106-4539-d15a-4dc8327b764f"
      },
      "source": [
        "# Найдем собственные векторы и собственные значения\n",
        "\n",
        "covariance_matrix = X_.T.dot(X_)\n",
        "\n",
        "eig_values, eig_vectors = np.linalg.eig(covariance_matrix)\n",
        "\n",
        "# сформируем список кортежей (собственное значение, собственный вектор)\n",
        "eig_pairs = [(np.abs(eig_values[i]), eig_vectors[:, i]) for i in range(len(eig_values))]\n",
        "\n",
        "# и отсортируем список по убыванию собственных значений\n",
        "eig_pairs.sort(key=lambda x: x[0], reverse=True)\n",
        "\n",
        "print('Собственные значения в порядке убывания:')\n",
        "for i in eig_pairs:\n",
        "    print(i[0])"
      ],
      "execution_count": null,
      "outputs": [
        {
          "output_type": "stream",
          "text": [
            "Собственные значения в порядке убывания:\n",
            "437.7746724797988\n",
            "137.10457072021055\n",
            "22.013531335697195\n",
            "3.107225464292886\n"
          ],
          "name": "stdout"
        }
      ]
    },
    {
      "cell_type": "markdown",
      "metadata": {
        "id": "9mdEDwm2dfKD"
      },
      "source": [
        "Оценим долю дисперсии, которая описывается найденными компонентами."
      ]
    },
    {
      "cell_type": "code",
      "metadata": {
        "id": "Ct-1I70mdfKE",
        "outputId": "ab04c5c2-649d-4f6f-e849-3791203481d2"
      },
      "source": [
        "eig_sum = sum(eig_values)\n",
        "var_exp = [(i / eig_sum) * 100 for i in sorted(eig_values, reverse=True)]\n",
        "cum_var_exp = np.cumsum(var_exp)\n",
        "print(f'Доля дисперсии, описвыаемая каждой из компонент \\n{var_exp}')\n",
        "\n",
        "# а теперя оценим кумулятивную (то есть накапливаемую) дисперсию при учитывании каждой из компонент\n",
        "print(f'Кумулятивная доля дисперсии по компонентам \\n{cum_var_exp}')"
      ],
      "execution_count": null,
      "outputs": [
        {
          "output_type": "stream",
          "text": [
            "Доля дисперсии, описвыаемая каждой из компонент \n",
            "[72.96244541329987, 22.850761786701778, 3.6689218892828697, 0.5178709107154814]\n",
            "Кумулятивная доля дисперсии по компонентам \n",
            "[ 72.96244541  95.8132072   99.48212909 100.        ]\n"
          ],
          "name": "stdout"
        }
      ]
    },
    {
      "cell_type": "markdown",
      "metadata": {
        "id": "NE15sfLtdfKH"
      },
      "source": [
        "Таким образом, первая главная компонента описывает почти 73% информации, а первые две в сумме - 95.8%. В то же время последняя компонента описывает всего 0.5% и может быть отброжена без страха значительных потерь в качестве нашего анализа. Мы отбросим последние две компоненты, оставив первые две."
      ]
    },
    {
      "cell_type": "code",
      "metadata": {
        "id": "z4xcGvf7dfKI",
        "outputId": "e406100f-3bd4-40fb-ce09-15db12e77a12"
      },
      "source": [
        "# Сформируем вектор весов из собственных векторов, соответствующих первым двум главным компонентам\n",
        "W = np.hstack((eig_pairs[0][1].reshape(4,1), eig_pairs[1][1].reshape(4,1)))\n",
        "\n",
        "print(f'Матрица весов W:\\n', W)"
      ],
      "execution_count": null,
      "outputs": [
        {
          "output_type": "stream",
          "text": [
            "Матрица весов W:\n",
            " [[ 0.52106591 -0.37741762]\n",
            " [-0.26934744 -0.92329566]\n",
            " [ 0.5804131  -0.02449161]\n",
            " [ 0.56485654 -0.06694199]]\n"
          ],
          "name": "stdout"
        }
      ]
    },
    {
      "cell_type": "code",
      "metadata": {
        "id": "n04tyd6xdfKL"
      },
      "source": [
        "# Сформируем новую матрицу \"объекты-признаки\"\n",
        "Z = X_.dot(W)"
      ],
      "execution_count": null,
      "outputs": []
    },
    {
      "cell_type": "code",
      "metadata": {
        "id": "CBqTYO6udfKO",
        "outputId": "8e8e6a9d-f8fa-4c1a-ea3f-84a9bd859bed"
      },
      "source": [
        "plt.figure()\n",
        "y = iris.target\n",
        "for c, i in zip(\"rgb\", [0, 1, 2]):\n",
        "    plt.scatter(Z[y==i, 0], Z[y==i, 1], c=c)\n",
        "plt.xlabel('Главная компонента 1')\n",
        "plt.ylabel('Главная компонента 2')\n",
        "plt.title('PCA датасета IRIS')\n",
        "plt.show()"
      ],
      "execution_count": null,
      "outputs": [
        {
          "output_type": "display_data",
          "data": {
            "image/png": "[encoded data removed]",
            "text/plain": [
              "<Figure size 432x288 with 1 Axes>"
            ]
          },
          "metadata": {
            "tags": [],
            "needs_background": "light"
          }
        }
      ]
    },
    {
      "cell_type": "markdown",
      "metadata": {
        "id": "Y7P4Be8PdfKQ"
      },
      "source": [
        "Таким образом, мы перешли от четырехмерного пространства признаков к двумерному и при этом классы остались разделимы в пространстве, то есть классификация возможна."
      ]
    },
    {
      "cell_type": "markdown",
      "metadata": {
        "id": "q896KWx0dfKR"
      },
      "source": [
        "PCA наиболее хорошо работает, когда собственные значения $\\lambda$ на каком-то участке графика распределения убывают скачкообразно (критерий крутого склона), другими словами, если существуют предпосылки к тому, что следует решать задачу в пространстве меньшей размерности. Если же они убывают монотонно, следует рассмотреть вариант использования других методов работы с пространством признаков."
      ]
    },
    {
      "cell_type": "markdown",
      "metadata": {
        "id": "y6YHvcPvdfKS"
      },
      "source": [
        "## Дополнительные материалы"
      ]
    },
    {
      "cell_type": "markdown",
      "metadata": {
        "id": "pQKbma5FdfKT"
      },
      "source": [
        "1. [Методы отбора признаков](https://habr.com/ru/company/aligntechnology/blog/303750/)\n",
        "2. [Взаимная информация](https://ru.wikipedia.org/wiki/%D0%92%D0%B7%D0%B0%D0%B8%D0%BC%D0%BD%D0%B0%D1%8F_%D0%B8%D0%BD%D1%84%D0%BE%D1%80%D0%BC%D0%B0%D1%86%D0%B8%D1%8F)\n",
        "3. [Методы понижения размерности](http://www.machinelearning.ru/wiki/images/0/06/SLT%2C_lecture_8.pdf)\n",
        "4. [Лемма о малом искажении](https://ru.wikipedia.org/wiki/%D0%9B%D0%B5%D0%BC%D0%BC%D0%B0_%D0%BE_%D0%BC%D0%B0%D0%BB%D0%BE%D0%BC_%D0%B8%D1%81%D0%BA%D0%B0%D0%B6%D0%B5%D0%BD%D0%B8%D0%B8)\n",
        "5. [PCA from Scratch in Python](https://github.com/bhattbhavesh91/pca-from-scratch-iris-dataset)"
      ]
    },
    {
      "cell_type": "markdown",
      "metadata": {
        "id": "LJqJSSgyghWZ"
      },
      "source": [
        "## Домашнее задание"
      ]
    },
    {
      "cell_type": "markdown",
      "metadata": {
        "id": "DyJOSDMJgkk2"
      },
      "source": [
        "1. Можно ли отобрать наиболее значимые признаки с помощью PCA?"
      ]
    },
    {
      "cell_type": "markdown",
      "metadata": {
        "id": "z3Oi5NQ2dfKU"
      },
      "source": [
        "## Для самостоятельной работы"
      ]
    },
    {
      "cell_type": "markdown",
      "metadata": {
        "id": "b-eNSDPndfKU"
      },
      "source": [
        "1. (*) Написать свою реализацию метода главных компонент с помощью сингулярного разложения с использованием функции [numpy.linalg.svd()](https://docs.scipy.org/doc/numpy/reference/generated/numpy.linalg.svd.html)\n",
        "2. (*) Обучить любую модель классификации на датасете IRIS до применения PCA и после него. Сравнить качество классификации по отложенной выборке.\n",
        "3. (*) Принять участие в одном или двух соревнованиях и прислать свой псевдоним на Kaggle и ссылку на github с решением задачи.\n",
        "\n",
        "по регрессии (https://www.kaggle.com/c/tutors-expected-math-exam-results)\n",
        "\n",
        "или классификации (https://www.kaggle.com/c/choose-tutors).\n",
        "\n",
        "В скрипте можно использовать только эти импорты:"
      ]
    },
    {
      "cell_type": "code",
      "metadata": {
        "id": "QvxFN6eta5kU"
      },
      "source": [
        "import numpy as np\n",
        "import pandas as pd\n",
        "from sklearn.model_selection import train_test_split\n",
        "import matplotlib.pyplot as plt\n",
        "import seaborn as sns"
      ],
      "execution_count": null,
      "outputs": []
    }
  ]
}