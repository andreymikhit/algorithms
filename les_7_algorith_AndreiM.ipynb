{
  "nbformat": 4,
  "nbformat_minor": 0,
  "metadata": {
    "colab": {
      "provenance": []
    },
    "kernelspec": {
      "display_name": "Python 3",
      "language": "python",
      "name": "python3"
    },
    "language_info": {
      "codemirror_mode": {
        "name": "ipython",
        "version": 3
      },
      "file_extension": ".py",
      "mimetype": "text/x-python",
      "name": "python",
      "nbconvert_exporter": "python",
      "pygments_lexer": "ipython3",
      "version": "3.7.1"
    }
  },
  "cells": [
    {
      "cell_type": "markdown",
      "metadata": {
        "id": "pkNPdXJtuf9t"
      },
      "source": [
        "# Классификация с помощью kNN. Кластеризация K-means\n",
        "## ДЗ (13.05.2021)"
      ]
    },
    {
      "cell_type": "markdown",
      "metadata": {
        "id": "XW8DQoLpylZV"
      },
      "source": [
        "* [Практическое задание. ДЗ.](#ex)\n",
        "    * [Задание](#ex)\n",
        "\n",
        "* [Теория](#theor)\n",
        "    * [Дополнительные материалы](#theor)"
      ]
    },
    {
      "cell_type": "markdown",
      "metadata": {
        "id": "84gFgOlizJ6I"
      },
      "source": [
        "## <center><a class=\"anchor\" id=\"ex\">Практическое задание </a><center>"
      ]
    },
    {
      "cell_type": "markdown",
      "metadata": {
        "id": "kEn2eQxELSpF"
      },
      "source": [
        "### <a class=\"anchor\" id=\"ex1\">Задание </a>"
      ]
    },
    {
      "cell_type": "markdown",
      "metadata": {
        "id": "HMV-k2sBRwZZ"
      },
      "source": [
        "_1._ Модифицировать реализацию kNN из методички так, чтобы больший вес получали наиболее близко расположенные объекты\n",
        "\n",
        "_2._ Реализовать иерархическую кластеризацию с любой из межкластерных метрик, кроме рассмотренной на вебинаре(Average Linkage Distance). Межкластерные метрики(Intercuster Distance) находятся здесь: https://www.geeksforgeeks.org/ml-intercluster-and-intracluster-distance/"
      ]
    },
    {
      "cell_type": "markdown",
      "metadata": {
        "id": "qFtQA-GQ4i9H"
      },
      "source": [
        "## **Модифицированная реализация kNN**"
      ]
    },
    {
      "cell_type": "code",
      "metadata": {
        "id": "wl4ThPjB4fPA"
      },
      "source": [
        "import numpy as np\n",
        "from sklearn import model_selection\n",
        "from sklearn.datasets import load_iris\n",
        "import matplotlib.pyplot as plt\n",
        "from matplotlib.colors import ListedColormap"
      ],
      "execution_count": null,
      "outputs": []
    },
    {
      "cell_type": "markdown",
      "metadata": {
        "id": "hhsu-yD_SrHG"
      },
      "source": [
        "Загрузим один из \"игрушечных\" датасетов из sklearn."
      ]
    },
    {
      "cell_type": "code",
      "metadata": {
        "id": "9PGrT829SrHH"
      },
      "source": [
        "X, y = load_iris(return_X_y=True)\n",
        "# Для наглядности возьмем только первые два признака (всего в датасете их 4)\n",
        "X = X[:, :2]"
      ],
      "execution_count": null,
      "outputs": []
    },
    {
      "cell_type": "markdown",
      "metadata": {
        "id": "mN5zKk3cSrHH"
      },
      "source": [
        "Выборка на обучающую и тестовую"
      ]
    },
    {
      "cell_type": "code",
      "metadata": {
        "id": "h49CU4UHSrHK"
      },
      "source": [
        "X_train, X_test, y_train, y_test = model_selection.train_test_split(X, y, test_size=0.2, random_state=1)"
      ],
      "execution_count": null,
      "outputs": []
    },
    {
      "cell_type": "code",
      "metadata": {
        "colab": {
          "base_uri": "https://localhost:8080/",
          "height": 448
        },
        "id": "CmQQLU1KSrHK",
        "outputId": "e8b82960-5570-4625-b5c9-bc8f2b9a828e"
      },
      "source": [
        "cmap = ListedColormap(['red', 'green', 'blue'])\n",
        "plt.figure(figsize=(7, 7))\n",
        "plt.scatter(X[:, 0], X[:, 1], c=y, cmap=cmap)"
      ],
      "execution_count": null,
      "outputs": [
        {
          "output_type": "execute_result",
          "data": {
            "text/plain": [
              "<matplotlib.collections.PathCollection at 0x7f20022eef90>"
            ]
          },
          "metadata": {
            "tags": []
          },
          "execution_count": 4
        },
        {
          "output_type": "display_data",
          "data": {
            "image/png": "[encoded data removed]",
            "text/plain": [
              "<Figure size 504x504 with 1 Axes>"
            ]
          },
          "metadata": {
            "tags": [],
            "needs_background": "light"
          }
        }
      ]
    },
    {
      "cell_type": "markdown",
      "metadata": {
        "id": "-Hn_BwgLSrHL"
      },
      "source": [
        "Используем евклидову метрику. Реализуем функцию для ее подсчета."
      ]
    },
    {
      "cell_type": "code",
      "metadata": {
        "id": "A-bMuEcASrHM"
      },
      "source": [
        "def e_metrics(x1, x2):\n",
        "    return np.sqrt(np.sum((x2-x1)**2))"
      ],
      "execution_count": null,
      "outputs": []
    },
    {
      "cell_type": "markdown",
      "metadata": {
        "id": "HVGjo2FDSrHM"
      },
      "source": [
        "Реализуем алгоритм поиска k ближайших соседей."
      ]
    },
    {
      "cell_type": "code",
      "metadata": {
        "id": "ijZkKCH-SrHM"
      },
      "source": [
        "def knn(x_train, y_train, x_test, k, wgt=False):\n",
        "    answers = []\n",
        "    for x in x_test:\n",
        "        test_distances = []\n",
        "        for i in range(len(x_train)):\n",
        "            # расчет расстояния от классифицируемого объекта до объекта обучающей выборки\n",
        "            distance = e_metrics(x, x_train[i])\n",
        "            # Записываем в список значение расстояния и ответа на объекте обучающей выборки\n",
        "            test_distances.append((distance, y_train[i]))\n",
        "        # создаем словарь со всеми возможными классами\n",
        "        classes = {class_item: 0 for class_item in set(y_train)}\n",
        "        # Сортируем список и среди первых k элементов подсчитаем частоту появления разных классов с учетом расстояния (если такое есть)\n",
        "        if wgt:\n",
        "              neighbors = sorted(test_distances)[0:k]\n",
        "              min_d = min(neighbors)[0]\n",
        "              max_d = max(neighbors)[0]\n",
        "              alpha = 0.001\n",
        "              for d in neighbors:\n",
        "                  weight = 1 - (d[0] - min_d)/(max_d - min_d)\n",
        "                  classes[d[1]] += weight if weight >= alpha else alpha\n",
        "        else:\n",
        "            for d in sorted(test_distances)[0:k]:\n",
        "                classes[d[1]] += 1\n",
        "        # Записываем в список ответов наиболее часто встречающийся класс\n",
        "        answers.append(sorted(classes, key=classes.get)[-1])\n",
        "    return answers"
      ],
      "execution_count": null,
      "outputs": []
    },
    {
      "cell_type": "markdown",
      "metadata": {
        "id": "wZObeATFSrHN"
      },
      "source": [
        "Функция для вычисления точности"
      ]
    },
    {
      "cell_type": "code",
      "metadata": {
        "id": "CW-nDKMrSrHN"
      },
      "source": [
        "def accuracy(pred, y):\n",
        "    return (sum(pred == y) / len(y))"
      ],
      "execution_count": null,
      "outputs": []
    },
    {
      "cell_type": "code",
      "metadata": {
        "colab": {
          "base_uri": "https://localhost:8080/"
        },
        "id": "Oh2gAaBUSrHN",
        "outputId": "04f4dd2f-3029-4f7d-f5b3-5d5c4704af2d"
      },
      "source": [
        "k = 15\n",
        "y_pred = knn(X_train, y_train, X_test, k)\n",
        "print(f'Точность алгоритма при k = {k}: {accuracy(y_pred, y_test):.3f}')\n",
        "y_pred_w = knn(X_train, y_train, X_test, k, wgt=True)\n",
        "print(f'Точность алгоритма с использованием весов при k = {k}: {accuracy(y_pred_w, y_test):.3f}')"
      ],
      "execution_count": null,
      "outputs": [
        {
          "output_type": "stream",
          "text": [
            "Точность алгоритма при k = 15: 0.833\n",
            "Точность алгоритма с использованием весов при k = 15: 0.867\n"
          ],
          "name": "stdout"
        }
      ]
    },
    {
      "cell_type": "markdown",
      "metadata": {
        "id": "erkKuMs8SrHO"
      },
      "source": [
        "График распределения классов"
      ]
    },
    {
      "cell_type": "code",
      "metadata": {
        "id": "DlMWlAXHSrHO"
      },
      "source": [
        "def get_graph(X_train, y_train, k):\n",
        "    cmap_light = ListedColormap(['#FFAAAA', '#AAFFAA','#00AAFF'])\n",
        "    h = .02\n",
        "\n",
        "    # Расчет пределов графика\n",
        "    x_min, x_max = X_train[:, 0].min() - 1, X_train[:, 0].max() + 1\n",
        "    y_min, y_max = X_train[:, 1].min() - 1, X_train[:, 1].max() + 1\n",
        "    xx, yy = np.meshgrid(np.arange(x_min, x_max, h), np.arange(y_min, y_max, h))\n",
        "\n",
        "    # Получим предсказания для всех точек\n",
        "    Z = knn(X_train, y_train, np.c_[xx.ravel(), yy.ravel()], k)\n",
        "\n",
        "    # Построим график\n",
        "    Z = np.array(Z).reshape(xx.shape)\n",
        "    plt.figure(figsize=(10,10))\n",
        "    plt.pcolormesh(xx, yy, Z, cmap=cmap_light)\n",
        "\n",
        "    # Добавим на график обучающую выборку\n",
        "    plt.scatter(X_train[:, 0], X_train[:, 1], c=y_train, cmap=cmap)\n",
        "    plt.xlim(xx.min(), xx.max())\n",
        "    plt.ylim(yy.min(), yy.max())\n",
        "    plt.title(f\"Трехклассовая kNN классификация при k = {k}\")\n",
        "    plt.show()"
      ],
      "execution_count": null,
      "outputs": []
    },
    {
      "cell_type": "code",
      "metadata": {
        "colab": {
          "base_uri": "https://localhost:8080/",
          "height": 607
        },
        "id": "Nsyk7xmSSrHO",
        "outputId": "09bae0d4-aa5b-4951-894e-0338aeb8774c"
      },
      "source": [
        "get_graph(X_train, y_train, k)"
      ],
      "execution_count": null,
      "outputs": [
        {
          "output_type": "display_data",
          "data": {
            "image/png": "[encoded data removed]",
            "text/plain": [
              "<Figure size 720x720 with 1 Axes>"
            ]
          },
          "metadata": {
            "tags": [],
            "needs_background": "light"
          }
        }
      ]
    },
    {
      "cell_type": "markdown",
      "metadata": {
        "id": "ZBaAFwwV4roO"
      },
      "source": [
        "## **Иерархическая кластеризаця с метрикой**"
      ]
    },
    {
      "cell_type": "code",
      "metadata": {
        "id": "f_m3JT09UsBr"
      },
      "source": [
        "from sklearn.datasets import make_blobs\n",
        "import random\n",
        "X, y = make_blobs(n_samples=100, random_state=1)"
      ],
      "execution_count": null,
      "outputs": []
    },
    {
      "cell_type": "markdown",
      "metadata": {
        "id": "4F0rDrkJUsCB"
      },
      "source": [
        "Изобразим точки на графике."
      ]
    },
    {
      "cell_type": "code",
      "metadata": {
        "colab": {
          "base_uri": "https://localhost:8080/",
          "height": 446
        },
        "id": "G506sbo8UsCB",
        "outputId": "58ac0a9f-fd45-4d18-ef23-64c34cbc9a90"
      },
      "source": [
        "plt.figure(figsize=(7,7))\n",
        "plt.scatter(X[:, 0], X[:, 1])"
      ],
      "execution_count": null,
      "outputs": [
        {
          "output_type": "execute_result",
          "data": {
            "text/plain": [
              "<matplotlib.collections.PathCollection at 0x7f2001cba290>"
            ]
          },
          "metadata": {
            "tags": []
          },
          "execution_count": 12
        },
        {
          "output_type": "display_data",
          "data": {
            "image/png": "[encoded data removed]",
            "text/plain": [
              "<Figure size 504x504 with 1 Axes>"
            ]
          },
          "metadata": {
            "tags": [],
            "needs_background": "light"
          }
        }
      ]
    },
    {
      "cell_type": "markdown",
      "metadata": {
        "id": "xoysZTNIUsCC"
      },
      "source": [
        "В качестве метрики расстояния будем использовать евклидово расстояние, функция для которого была написана ранее. В качестве центроидов выберем первые k элементов датасета. Реализуем основной цикл алгоритма."
      ]
    },
    {
      "cell_type": "code",
      "metadata": {
        "id": "vE9FNuhjUsCD"
      },
      "source": [
        "def kmeans(data, k, max_iterations, min_distance):\n",
        "    # Создадим словарь для классификации\n",
        "    classes = {i: [] for i in range(k)}\n",
        "\n",
        "    # инициализируем центроиды как первые k элементов датасета\n",
        "    centroids = [data[i] for i in range(k)]\n",
        "\n",
        "    for _ in range(max_iterations):\n",
        "        # классифицируем объекты по центроидам\n",
        "        for x in data:\n",
        "            # определим расстояния от объекта до каждого центроида\n",
        "            distances = [e_metrics(x, centroid) for centroid in centroids]\n",
        "            # отнесем объект к кластеру, до центроида которого наименьшее расстояние\n",
        "            classification = distances.index(min(distances))\n",
        "            classes[classification].append(x)\n",
        "\n",
        "        # сохраним предыдущие центроиды в отдельный список для последующего сравнения сновыми\n",
        "        old_centroids = centroids.copy()\n",
        "\n",
        "        # пересчитаем центроиды как среднее по кластерам\n",
        "        for classification in classes:\n",
        "            centroids[classification] = np.average(classes[classification], axis=0)\n",
        "\n",
        "        # сравним величину смещения центроидов с минимальной\n",
        "        optimal = True\n",
        "        for centroid in range(len(centroids)):\n",
        "            if np.sum(abs((centroids[centroid] - old_centroids[centroid]) / old_centroids * 100)) > min_distance:\n",
        "                optimal = False\n",
        "\n",
        "        # если все смещения меньше минимального, останавливаем алгоритм\n",
        "        if optimal:\n",
        "            break\n",
        "\n",
        "    return old_centroids, classes"
      ],
      "execution_count": null,
      "outputs": []
    },
    {
      "cell_type": "markdown",
      "metadata": {
        "id": "4YtNIONmUsCF"
      },
      "source": [
        "Напишем функцию для визуализации кластеров"
      ]
    },
    {
      "cell_type": "code",
      "metadata": {
        "id": "1O9RJtZZUsCF"
      },
      "source": [
        "def visualize(centroids, classes):\n",
        "    colors = ['r', 'g', 'b', 'm']\n",
        "\n",
        "    plt.figure(figsize=(7,7))\n",
        "\n",
        "    # нанесем на график центроиды\n",
        "    for centroid in centroids:\n",
        "        plt.scatter(centroid[0], centroid[1], marker='x', s=130, c='black')\n",
        "\n",
        "    # нанесем объекты раскрашенные по классам\n",
        "    for class_item in classes:\n",
        "        for x in classes[class_item]:\n",
        "            plt.scatter(x[0], x[1], color=colors[class_item])\n",
        "\n",
        "    plt.show()"
      ],
      "execution_count": null,
      "outputs": []
    },
    {
      "cell_type": "code",
      "metadata": {
        "id": "hGmHt617UsCF"
      },
      "source": [
        "# определим максимальное количество итераций\n",
        "max_iterations = 1\n",
        "\n",
        "# и минимальное расстояние между центроидами до пересчета и после него, при котором нужно остановить алгоритм\n",
        "min_distance = 1e-4\n",
        "\n",
        "# сразу определим известное нам количество кластеров\n",
        "k = 3"
      ],
      "execution_count": null,
      "outputs": []
    },
    {
      "cell_type": "markdown",
      "metadata": {
        "id": "yLL8Gxw7UsCG"
      },
      "source": [
        "Проверим результат алгоритма после одной итерации"
      ]
    },
    {
      "cell_type": "code",
      "metadata": {
        "colab": {
          "base_uri": "https://localhost:8080/",
          "height": 428
        },
        "id": "nSz4WrNQUsCG",
        "outputId": "4629b6f6-0bca-419e-d226-94f1349e5350"
      },
      "source": [
        "centroids, clusters = kmeans(X, k, max_iterations, min_distance)\n",
        "visualize(centroids, clusters)"
      ],
      "execution_count": null,
      "outputs": [
        {
          "output_type": "display_data",
          "data": {
            "image/png": "[encoded data removed]",
            "text/plain": [
              "<Figure size 504x504 with 1 Axes>"
            ]
          },
          "metadata": {
            "tags": [],
            "needs_background": "light"
          }
        }
      ]
    },
    {
      "cell_type": "markdown",
      "metadata": {
        "id": "OKhl5lyYUsCH"
      },
      "source": [
        "Проверим работу алгоритма при различном числе итераций."
      ]
    },
    {
      "cell_type": "code",
      "metadata": {
        "colab": {
          "base_uri": "https://localhost:8080/",
          "height": 428
        },
        "id": "_d0-bq-YUsCH",
        "outputId": "69aa5342-3f6d-4d43-9430-574cdc3de877"
      },
      "source": [
        "max_iterations = 3\n",
        "centroids, clusters = kmeans(X, k, max_iterations, min_distance)\n",
        "visualize(centroids, clusters)"
      ],
      "execution_count": null,
      "outputs": [
        {
          "output_type": "display_data",
          "data": {
            "image/png": "[encoded data removed]",
            "text/plain": [
              "<Figure size 504x504 with 1 Axes>"
            ]
          },
          "metadata": {
            "tags": [],
            "needs_background": "light"
          }
        }
      ]
    },
    {
      "cell_type": "code",
      "metadata": {
        "colab": {
          "base_uri": "https://localhost:8080/",
          "height": 428
        },
        "id": "DvhdxD0YUsCH",
        "outputId": "b09a8480-19d4-47d3-dc38-6e4762d24bd1"
      },
      "source": [
        "max_iterations = 5\n",
        "centroids, clusters = kmeans(X, k, max_iterations, min_distance)\n",
        "visualize(centroids, clusters)"
      ],
      "execution_count": null,
      "outputs": [
        {
          "output_type": "display_data",
          "data": {
            "image/png": "[encoded data removed]",
            "text/plain": [
              "<Figure size 504x504 with 1 Axes>"
            ]
          },
          "metadata": {
            "tags": [],
            "needs_background": "light"
          }
        }
      ]
    },
    {
      "cell_type": "code",
      "metadata": {
        "colab": {
          "base_uri": "https://localhost:8080/",
          "height": 428
        },
        "id": "Ioaw-_w9UsCI",
        "outputId": "cdeae9c0-b5b3-48b0-c3b9-1f271cdb65f9"
      },
      "source": [
        "max_iterations = 10\n",
        "centroids, clusters = kmeans(X, k, max_iterations, min_distance)\n",
        "visualize(centroids, clusters)"
      ],
      "execution_count": null,
      "outputs": [
        {
          "output_type": "display_data",
          "data": {
            "image/png": "[encoded data removed]",
            "text/plain": [
              "<Figure size 504x504 with 1 Axes>"
            ]
          },
          "metadata": {
            "tags": [],
            "needs_background": "light"
          }
        }
      ]
    },
    {
      "cell_type": "code",
      "metadata": {
        "colab": {
          "base_uri": "https://localhost:8080/",
          "height": 428
        },
        "id": "x9tuVUeeFmFb",
        "outputId": "c4c67b2e-6c2f-45e1-d4bd-4cfdb539e228"
      },
      "source": [
        "max_iterations = 25\n",
        "centroids, cluster = kmeans(X, 4, max_iterations, min_distance)\n",
        "visualize(centroids, clusters)"
      ],
      "execution_count": null,
      "outputs": [
        {
          "output_type": "display_data",
          "data": {
            "image/png": "[encoded data removed]",
            "text/plain": [
              "<Figure size 504x504 with 1 Axes>"
            ]
          },
          "metadata": {
            "tags": [],
            "needs_background": "light"
          }
        }
      ]
    },
    {
      "cell_type": "markdown",
      "metadata": {
        "id": "6ae6JP1qFdJH"
      },
      "source": [
        "Далее попробуем обнаружить, что кластер 3(нумерация кластеров идёт с нуля) \"лишний\" при помощи соотношений значения межкластерной дистанции к внутрикластерной. Подробнее про межкластерные и внутрикластерные расстояния: https://www.geeksforgeeks.org/ml-intercluster-and-intracluster-distance/"
      ]
    },
    {
      "cell_type": "code",
      "metadata": {
        "id": "dm3cUQkIGDmF"
      },
      "source": [
        "intracluster_max={}\n",
        "for k, v in clusters.items():\n",
        "  intracluster_max[k]=max((e_metrics(x, y) for i, x in enumerate(v) for y in v[i+1:]))"
      ],
      "execution_count": null,
      "outputs": []
    },
    {
      "cell_type": "markdown",
      "metadata": {
        "id": "NkE1o6-EHD5A"
      },
      "source": [
        "1) Внутрикластерная дистанция- максимальное расстояние, межкластерная- минимальное расстояние между объектами кластеров."
      ]
    },
    {
      "cell_type": "code",
      "metadata": {
        "colab": {
          "base_uri": "https://localhost:8080/"
        },
        "id": "FdPN9LJOKr4q",
        "outputId": "2488ddef-29dd-4a01-b406-69a2fb83be29"
      },
      "source": [
        "for k1, v1 in clusters.items():\n",
        "  for k2, v2 in clusters.items():\n",
        "    if k1==k2:\n",
        "      continue\n",
        "    interclass=min((e_metrics(x, y) for x in v1 for y in v2))\n",
        "    print(k1, k2, interclass/intracluster_max[k1])\n",
        "  print('='*20)"
      ],
      "execution_count": null,
      "outputs": [
        {
          "output_type": "stream",
          "text": [
            "0 1 2.0886149590579453\n",
            "0 2 2.2951374928106785\n",
            "0 3 1.8924640043579055\n",
            "====================\n",
            "1 0 1.2181005013691844\n",
            "1 2 0.025859988550444777\n",
            "1 3 0.0\n",
            "====================\n",
            "2 0 4.275849330087286\n",
            "2 1 0.08260708101853449\n",
            "2 3 0.0\n",
            "====================\n",
            "3 0 2.0541029840934235\n",
            "3 1 0.0\n",
            "3 2 0.0\n",
            "====================\n"
          ],
          "name": "stdout"
        }
      ]
    },
    {
      "cell_type": "markdown",
      "metadata": {
        "id": "mZJd-GVbHxlp"
      },
      "source": [
        "2) Внутрикластерная дистанция- максимальное расстояние, межкластерная- максимальное расстояние между объектами кластеров."
      ]
    },
    {
      "cell_type": "code",
      "metadata": {
        "colab": {
          "base_uri": "https://localhost:8080/"
        },
        "id": "Jd4N8F2VMjeI",
        "outputId": "4dcb6606-b9e8-4902-8085-f9761ff9c703"
      },
      "source": [
        "for k1, v1 in clusters.items():\n",
        "  for k2, v2 in clusters.items():\n",
        "    if k1==k2:\n",
        "      continue\n",
        "    interclass=max((e_metrics(x, y) for x in v1 for y in v2))\n",
        "    print(k1, k2, interclass/intracluster_max[k1])\n",
        "  print('='*20)"
      ],
      "execution_count": null,
      "outputs": [
        {
          "output_type": "stream",
          "text": [
            "0 1 4.061464005199554\n",
            "0 2 3.3828999105983386\n",
            "0 3 3.3717726506363954\n",
            "====================\n",
            "1 0 2.3686851995247142\n",
            "1 2 1.3259566780794048\n",
            "1 3 1.2047758699016846\n",
            "====================\n",
            "2 0 6.302354591737489\n",
            "2 1 4.235632607474156\n",
            "2 3 1.6386229328153492\n",
            "====================\n",
            "3 0 3.6597622186778263\n",
            "3 1 2.2422090884337624\n",
            "3 2 0.9546846252757046\n",
            "====================\n"
          ],
          "name": "stdout"
        }
      ]
    },
    {
      "cell_type": "code",
      "metadata": {
        "id": "_-PsLQYjM17x"
      },
      "source": [
        "intracluster_average={}\n",
        "for k, v in clusters.items():\n",
        "  intracluster_average[k]=sum((e_metrics(x, y) for i, x in enumerate(v) for j, y in enumerate(v) if i!=j))/((len(v)-1)*len(v))"
      ],
      "execution_count": null,
      "outputs": []
    },
    {
      "cell_type": "markdown",
      "metadata": {
        "id": "zZvC4ZkILO_c"
      },
      "source": [
        "3) Внутрикластерная дистанция- среднее расстояние, межкластерная- среднее расстояние между объектами кластеров."
      ]
    },
    {
      "cell_type": "code",
      "metadata": {
        "colab": {
          "base_uri": "https://localhost:8080/"
        },
        "id": "_1fb0ka9NkHo",
        "outputId": "00f169b9-8b93-4517-e714-582d6dae71f5"
      },
      "source": [
        "for k1, v1 in clusters.items():\n",
        "  for k2, v2 in clusters.items():\n",
        "    if k1==k2:\n",
        "      continue\n",
        "    interclass=sum((e_metrics(x, y) for x in v1 for y in v2))/(len(v1)*len(v2))\n",
        "    print(k1, k2, interclass/intracluster_average[k1])\n",
        "  print('='*20)"
      ],
      "execution_count": null,
      "outputs": [
        {
          "output_type": "stream",
          "text": [
            "0 1 8.204673859762574\n",
            "0 2 7.4835775382561405\n",
            "0 3 7.122150054605186\n",
            "====================\n",
            "1 0 8.76885953705822\n",
            "1 2 4.243739231405648\n",
            "1 3 3.382590059745421\n",
            "====================\n",
            "2 0 14.692163561193887\n",
            "2 1 7.795489486359045\n",
            "2 3 2.1967155789974004\n",
            "====================\n",
            "3 0 9.031581189617592\n",
            "3 1 4.013472097930217\n",
            "3 2 1.4188941862583622\n",
            "====================\n"
          ],
          "name": "stdout"
        }
      ]
    },
    {
      "cell_type": "markdown",
      "metadata": {
        "id": "SoIvoClZ6YIG"
      },
      "source": [
        "## **Иерархическая кластеризация Complete Linkage Distance**"
      ]
    },
    {
      "cell_type": "code",
      "metadata": {
        "id": "IRzs41TT6lmK"
      },
      "source": [
        "def max_dist(u_clast, v_clast):\n",
        "    return max((e_metrics(x, y) for x in u_clast for y in v_clast))#/(len(u_clast)*len(v_clast))\n",
        "\n",
        "\n",
        "def dist_matrix(clusters):\n",
        "  matrix=np.zeros((len(clusters), len(clusters)))\n",
        "  for i, u in enumerate(clusters):\n",
        "    for j, v in enumerate(clusters[i+1:], start=i+1):\n",
        "      matrix[[i, j], [j, i]]=max_dist(u, v)\n",
        "  return matrix"
      ],
      "execution_count": null,
      "outputs": []
    },
    {
      "cell_type": "code",
      "metadata": {
        "id": "uQx49abRC8DP"
      },
      "source": [
        "def indexes_to_combine(dist_matrix):\n",
        "  min_el=dist_matrix[np.triu_indices(dist_matrix.shape[0], 1)].min()\n",
        "  return np.argwhere(dist_matrix==min_el)[0], min_el"
      ],
      "execution_count": null,
      "outputs": []
    },
    {
      "cell_type": "code",
      "metadata": {
        "id": "WzqaOCYwDjIB"
      },
      "source": [
        "def exclude_clusters(i, j, dist_matrix):\n",
        "  mask=np.ones(dist_matrix.shape[0], dtype=bool)\n",
        "  mask[i]=False\n",
        "  mask[j]=False\n",
        "  return dist_matrix[mask, :][:, mask]\n",
        "\n",
        "def merge_clusters(i, j, clusters):\n",
        "  new_cluster=clusters[i]+clusters[j]\n",
        "  return new_cluster, [c for k, c in enumerate(clusters) if not k in [i, j]]\n",
        "\n",
        "def include_cluster(dist_mat, old_clusters, new_cluster):\n",
        "  new_col=np.array([max_dist(c, new_cluster) for c in old_clusters])[:, np.newaxis]\n",
        "  dist_mat=np.concatenate([dist_mat, new_col], axis=1)\n",
        "  new_row=np.concatenate([new_col.flatten(), [0]])[np.newaxis, :]\n",
        "  dist_mat=np.concatenate([dist_mat, new_row], axis=0)\n",
        "  return dist_mat"
      ],
      "execution_count": null,
      "outputs": []
    },
    {
      "cell_type": "code",
      "metadata": {
        "id": "jRv2zMmN83Ng"
      },
      "source": [
        "def hierarchy_clustering(cluster_list):\n",
        "  cluster_list=cluster_list[:]\n",
        "  dist_mat=dist_matrix(cluster_list)\n",
        "  cluster_numbers=list(range(len(cluster_list)))\n",
        "  z=[]\n",
        "  new_num=len(cluster_list)\n",
        "  while len(cluster_list)>1:\n",
        "    [i, j], min_val=indexes_to_combine(dist_mat)\n",
        "    dist_mat=exclude_clusters(i, j, dist_mat)\n",
        "    new_cluster, old_clusters=merge_clusters(i, j, cluster_list)\n",
        "    dist_mat=include_cluster(dist_mat, old_clusters, new_cluster)\n",
        "    z.append([cluster_numbers[i], cluster_numbers[j], min_val, len(new_cluster)])\n",
        "    print([cluster_numbers[i], cluster_numbers[j], min_val, len(new_cluster)])\n",
        "    cluster_list=old_clusters+[new_cluster]\n",
        "    cluster_numbers=[n for k, n in enumerate(cluster_numbers) if not k in [i, j]]+[new_num]\n",
        "    new_num+=1\n",
        "  return z\n"
      ],
      "execution_count": null,
      "outputs": []
    },
    {
      "cell_type": "code",
      "metadata": {
        "id": "lb5XtXu49kB2"
      },
      "source": [
        "cluster_keys=list(clusters.keys())\n",
        "cluster_data=[clusters[k] for k in cluster_keys]"
      ],
      "execution_count": null,
      "outputs": []
    },
    {
      "cell_type": "code",
      "metadata": {
        "colab": {
          "base_uri": "https://localhost:8080/"
        },
        "id": "7awPVreUBz6P",
        "outputId": "90d11393-88aa-44e6-846b-46cd37d488f1"
      },
      "source": [
        "dist_matrix(cluster_data)"
      ],
      "execution_count": null,
      "outputs": [
        {
          "output_type": "execute_result",
          "data": {
            "text/plain": [
              "array([[ 0.        , 18.0863922 , 15.06463051, 15.01507892],\n",
              "       [18.0863922 ,  0.        , 10.12450811,  9.19921689],\n",
              "       [15.06463051, 10.12450811,  0.        ,  3.9168296 ],\n",
              "       [15.01507892,  9.19921689,  3.9168296 ,  0.        ]])"
            ]
          },
          "metadata": {
            "tags": []
          },
          "execution_count": 31
        }
      ]
    },
    {
      "cell_type": "code",
      "metadata": {
        "id": "8exMkAGl9tvF",
        "colab": {
          "base_uri": "https://localhost:8080/"
        },
        "outputId": "cc9310ea-df95-471e-a0e6-fc69185a5436"
      },
      "source": [
        "Z=hierarchy_clustering(cluster_data)"
      ],
      "execution_count": null,
      "outputs": [
        {
          "output_type": "stream",
          "text": [
            "[2, 3, 3.916829600863291, 815]\n",
            "[1, 4, 10.124508111718242, 1650]\n",
            "[0, 5, 18.086392197542647, 2500]\n"
          ],
          "name": "stdout"
        }
      ]
    },
    {
      "cell_type": "code",
      "metadata": {
        "id": "7bJgbV2w9wDf",
        "colab": {
          "base_uri": "https://localhost:8080/",
          "height": 460
        },
        "outputId": "2fe1211d-3085-438e-f630-a91926aba429"
      },
      "source": [
        "from scipy.cluster.hierarchy import dendrogram\n",
        "from sklearn.datasets import load_iris\n",
        "from sklearn.cluster import AgglomerativeClustering\n",
        "plt.title('Hierarchical Clustering Dendrogram')\n",
        "plt.xlabel(\"Number/ index of points in node\")\n",
        "hierarchy.dendrogram(Z, labels= ['r', 'g', 'b', 'm'])"
      ],
      "execution_count": null,
      "outputs": [
        {
          "output_type": "execute_result",
          "data": {
            "text/plain": [
              "{'color_list': ['g', 'g', 'b'],\n",
              " 'dcoord': [[0.0, 3.916829600863291, 3.916829600863291, 0.0],\n",
              "  [0.0, 10.124508111718242, 10.124508111718242, 3.916829600863291],\n",
              "  [0.0, 18.086392197542647, 18.086392197542647, 10.124508111718242]],\n",
              " 'icoord': [[25.0, 25.0, 35.0, 35.0],\n",
              "  [15.0, 15.0, 30.0, 30.0],\n",
              "  [5.0, 5.0, 22.5, 22.5]],\n",
              " 'ivl': ['r', 'g', 'b', 'm'],\n",
              " 'leaves': [0, 1, 2, 3]}"
            ]
          },
          "metadata": {
            "tags": []
          },
          "execution_count": 78
        },
        {
          "output_type": "display_data",
          "data": {
            "image/png": "[encoded data removed]",
            "text/plain": [
              "<Figure size 432x288 with 1 Axes>"
            ]
          },
          "metadata": {
            "tags": [],
            "needs_background": "light"
          }
        }
      ]
    },
    {
      "cell_type": "markdown",
      "metadata": {
        "id": "ayZar6smSFGu"
      },
      "source": [
        "## <center><a class=\"anchor\" id=\"ex\">Теория </a><center>"
      ]
    },
    {
      "cell_type": "markdown",
      "metadata": {
        "id": "JWKvWqaKuf9v"
      },
      "source": [
        "В этом уроке речь пойдет о так называемых _метрических алгоритмах_, то есть об алгоритмах, построенных на вычислении расстояний между объектами. Для начала нам нужно определить, какими способами эти расстояния можно вычислять."
      ]
    },
    {
      "cell_type": "markdown",
      "metadata": {
        "id": "zDVBc3sfuf9w"
      },
      "source": [
        "## Меры и метрики расстояния между объектами"
      ]
    },
    {
      "cell_type": "markdown",
      "metadata": {
        "id": "tr0vgrRduf9x"
      },
      "source": [
        "Понятие метрических пространств, метрик и некоторые их примеры уже рассматривались вами на курсе по линейной алгебре в рамках обучения по профессии. В этом разделе мы вспомним, какие могут быть метрики и их применение в плоскости машинного обучения."
      ]
    },
    {
      "cell_type": "markdown",
      "metadata": {
        "id": "xwD8b7Truf9y"
      },
      "source": [
        "Метрика является функцией, задающей расстояние в метрическом пространстве. Как мы помним из курса линейной алгебры, она должна удовлетворять трем аксиомам:\n",
        "\n",
        "1. $\\rho(x, y) \\geq 0, \\rho(x, y) = 0 \\Leftrightarrow x = y;$\n",
        "2. $\\rho(x, y) = \\rho (y, x);$\n",
        "3. $\\rho(x, y) \\leq \\rho(x, z) + \\rho(z, y).$"
      ]
    },
    {
      "cell_type": "markdown",
      "metadata": {
        "id": "jLK_Bvxiuf9z"
      },
      "source": [
        "Евклидова метрика\n",
        "\n",
        "$$\\rho(x, y) = \\sqrt{\\sum_{i=1}^{n}(x_{i}-y_{i})^{2}}$$\n",
        "\n",
        "и манхэттенская метрика\n",
        "\n",
        "$$\\rho(x, y) = \\sum_{i=1}^{n}|x_{i}-y_{i}|$$\n",
        "\n",
        "уже должны быть вам знакомы.\n",
        "\n",
        "Также можно показать обобщение этих двух метрик - метрика Минковского:\n",
        "\n",
        "$$\\rho(x, y) = \\left ( \\sum_{i=1}^{n}|x_{i}-y_{i}|^{q} \\right )^{\\frac{1}{q}}.$$\n",
        "\n",
        "При этом при $q = 1$ получаем манхэттенскую ($L_{1}$) метрику, при $q = 2$ - евклидову ($L_{2}$) метрику."
      ]
    },
    {
      "cell_type": "markdown",
      "metadata": {
        "id": "6VHDuUyFuf9z"
      },
      "source": [
        "Кроме этого, в метрических алгоритмах часто используются так называемые меры близости. В отличие от метрик, которые тем меньше, чем объекты более похожи, меры близости увеличиваются при увеличении похожести (близости) объектов."
      ]
    },
    {
      "cell_type": "markdown",
      "metadata": {
        "id": "E5Qvkxxauf90"
      },
      "source": [
        "Примером такой функции может быть _косинусное сходство (косинусная мера)_:\n",
        "\n",
        "$$\\text{cos}\\theta = \\frac{\\left \\langle x, y \\right \\rangle}{||x||\\cdot||y||} = \\frac{\\sum_{i=1}^{n}x_{i}y_{i}}{\\sqrt{\\sum_{i=1}^{n}x_{i}^{2}}\\sqrt{\\sum_{i=1}^{n}y_{i}^{2}}}.$$"
      ]
    },
    {
      "cell_type": "markdown",
      "metadata": {
        "id": "mUl9cSZ9uf91"
      },
      "source": [
        "Из этой функции также вытекает _косинусное расстояние_:\n",
        "\n",
        "$$\\rho_{cos}(x, y) = 1 - \\text{cos}\\theta = 1 - \\frac{\\sum_{i=1}^{n}x_{i}y_{i}}{\\sqrt{\\sum_{i=1}^{n}x_{i}^{2}}\\sqrt{\\sum_{i=1}^{n}y_{i}^{2}}}.$$\n",
        "\n",
        "Именно такая формула используется в функции `scipy.spatial.distance.cosine()` из библиотеки scipy, возвращающая косинусное расстояние между двумя векторами."
      ]
    },
    {
      "cell_type": "markdown",
      "metadata": {
        "id": "BVefMMeWuf91"
      },
      "source": [
        "Косинусная мера часто используется в анализе текстов."
      ]
    },
    {
      "cell_type": "markdown",
      "metadata": {
        "id": "x3S2TJ8luf92"
      },
      "source": [
        "Кроме косинусной меры в прикладных задачах монут использоваться и другие функции - коэффициент Дайса, коэффициент Жаккара, коэффициент перекрытия (см. доп. материалы)."
      ]
    },
    {
      "cell_type": "markdown",
      "metadata": {
        "id": "GzwjKFWpuf93"
      },
      "source": [
        "Формула нахождения косинусной меры похожа на _коэффициент корреляции_, который также может быть использован как мера близости и используется обычно в рекомендательных системах:\n",
        "\n",
        "$$r = \\frac{\\sum_{i=1}^{n}((x_{i} - \\bar{x})(y_{i} - \\bar{y}))}{\\sqrt{\\sum_{i=1}^{n}(x_{i} - \\bar{x})^{2}}\\sqrt{\\sum_{i=1}^{n}(y_{i} - \\bar{y})^{2}}}.$$"
      ]
    },
    {
      "cell_type": "markdown",
      "metadata": {
        "id": "29Ii-h2Auf94"
      },
      "source": [
        "## Алгоритм kNN"
      ]
    },
    {
      "cell_type": "markdown",
      "metadata": {
        "id": "-gROL4l_uf94"
      },
      "source": [
        "Начнем обсуждение метрических алгоритмов с алгоритма kNN. Данный алгоритм является еще одним способом решения задачи классификации. Расшифровывается его название как \"k ближайших соседей (k nearest neighbours)\"."
      ]
    },
    {
      "cell_type": "markdown",
      "metadata": {
        "id": "EqQdBzZyuf95"
      },
      "source": [
        "Суть его довольно проста и заключается в принципе отнесения объекту к тому классу, представители которого преобладают рядом с ним. Таким образом, упрощенно алгоритм классификации выглядит следующим образом:\n",
        "\n",
        "- найти расстояние от объекта $u$ до каждого из объектов $x$ обучающей выборки;\n",
        "- выбрать $k$ объектов, расстояние до которых минимально;\n",
        "- отнести объект к классу, к которому относится большинство из выбранных $k$ ближайших соседей:\n",
        "\n",
        "$$a(u) = \\underset{y}{\\text{argmax}}\\sum_{i=1}^{k}[y_{u}^{(i)}=y],$$\n",
        "\n",
        "то есть провести голосование.\n",
        "\n",
        "При этом метод можно адаптировать под регрессию: в этом случае находится не метка класса, а среднее значение ответа среди $k$ соседей."
      ]
    },
    {
      "cell_type": "markdown",
      "metadata": {
        "id": "MSwxja77uf96"
      },
      "source": [
        "Интересной особенностью метода является то, что на этапе обучения не строится модель, а просто запоминается обучающая выборка. Вычисления начинаются именно на этапе решения задачи классификации конкретного объекта (поэтому этот алгоритм можно назвать ленивым)."
      ]
    },
    {
      "cell_type": "markdown",
      "metadata": {
        "id": "Y_6VaBrnuf96"
      },
      "source": [
        "Логичным усовершенствованием алгоритма kNN является добавление соседям весов (так называемое \"взвешенное голосование\"), зависящих от их порядкового номера или расстояния до классифицируемого объекта (чем ближе объект обучающей выборки, тем больше его вес).\n",
        "\n",
        "От номера соседа $i$ веса можно определять как:\n",
        "\n",
        "- $w(i) = q^{i}$,   $q \\in (0,1)$;\n",
        "\n",
        "\n",
        "- $w(i) = \\frac{1}{i}$;\n",
        "\n",
        "\n",
        "- $w(i) = \\frac{1}{(i+a)^{b}}$;\n",
        "\n",
        "\n",
        "- $w(i) = \\frac{k + 1 - i}{k}$.\n",
        "\n",
        "\n",
        "От расстояния $d$ веса можно определять как:\n",
        "\n",
        "- $w(d) = q^{d}$,   $q \\in (0,1)$;\n",
        "\n",
        "\n",
        "- $w(d) = \\frac{1}{(d+a)^{b}}$, брать вес $\\frac{1}{d}$ по аналогии с номером соседа - неудачное решение, так как при $d = 0$ вес будет бесконечно большим, что приводит к переобучению\n",
        "\n",
        "\n",
        "- $w(d) = \\begin{cases}\n",
        "\\frac{d(z_{k}, x) - d(z_{i}, x)}{d(z_{k}, x) - d(z_{1}, x)}, & d(z_{k}, x) \\neq d(z_{1}, x) \\\\\n",
        "1, & d(z_{k}, x) = d(z_{1}, x)\n",
        "\\end{cases}$.\n",
        "\n",
        "Существуют и другие способы вычисления весов."
      ]
    },
    {
      "cell_type": "markdown",
      "metadata": {
        "id": "NYubreR8uf97"
      },
      "source": [
        "Часто перед работой по алгоритму kNN требуется проводить нормализацию признаков, так как они могут иметь разные единицы измерения, что может искажать расстояние между объектами."
      ]
    },
    {
      "cell_type": "markdown",
      "metadata": {
        "id": "4xYJJr-Wuf98"
      },
      "source": [
        "В общем и целом получается, что при работе с алгоритмом kNN исследователю требуется подобрать три параметра - количество соседей k, метрика расстояния и способ вычисления весов. Для получения лучшего качества работы алгоритма эти параметры нужно подбирать на отложенной выборке или при помощи кросс-валидации."
      ]
    },
    {
      "cell_type": "markdown",
      "metadata": {
        "id": "ANWmZgT2uf99"
      },
      "source": [
        "Реализуем алгоритм kNN с помощью Python."
      ]
    },
    {
      "cell_type": "code",
      "metadata": {
        "id": "ChmkZ71kuf9-"
      },
      "source": [
        "import numpy as np\n",
        "from sklearn import model_selection\n",
        "from sklearn.datasets import load_iris\n",
        "import matplotlib.pyplot as plt\n",
        "from matplotlib.colors import ListedColormap"
      ],
      "execution_count": null,
      "outputs": []
    },
    {
      "cell_type": "code",
      "metadata": {
        "id": "z6qqD1jpP2ne"
      },
      "source": [],
      "execution_count": null,
      "outputs": []
    },
    {
      "cell_type": "code",
      "metadata": {
        "id": "AjhVvSkZ5ThE"
      },
      "source": [],
      "execution_count": null,
      "outputs": []
    },
    {
      "cell_type": "markdown",
      "metadata": {
        "id": "V5FaldH6uf-B"
      },
      "source": [
        "Загрузим один из \"игрушечных\" датасетов из sklearn."
      ]
    },
    {
      "cell_type": "code",
      "metadata": {
        "id": "_49Y22E9uf-C"
      },
      "source": [
        "X, y = load_iris(return_X_y=True)\n",
        "\n",
        "# Для наглядности возьмем только первые два признака (всего в датасете их 4)\n",
        "X = X[:, :2]"
      ],
      "execution_count": null,
      "outputs": []
    },
    {
      "cell_type": "markdown",
      "metadata": {
        "id": "ZpwmydFPuf-F"
      },
      "source": [
        "Разделим выборку на обучающую и тестовую"
      ]
    },
    {
      "cell_type": "code",
      "metadata": {
        "id": "ACYClLghuf-F"
      },
      "source": [
        "X_train, X_test, y_train, y_test = model_selection.train_test_split(X, y, test_size=0.2, random_state=1)"
      ],
      "execution_count": null,
      "outputs": []
    },
    {
      "cell_type": "code",
      "metadata": {
        "colab": {
          "base_uri": "https://localhost:8080/",
          "height": 448
        },
        "id": "Johgj2p6uf-J",
        "outputId": "5812db91-dc06-48be-8e11-7b5124dcb984"
      },
      "source": [
        "cmap = ListedColormap(['red', 'green', 'blue'])\n",
        "plt.figure(figsize=(7, 7))\n",
        "plt.scatter(X[:, 0], X[:, 1], c=y, cmap=cmap)"
      ],
      "execution_count": null,
      "outputs": [
        {
          "output_type": "execute_result",
          "data": {
            "text/plain": [
              "<matplotlib.collections.PathCollection at 0x7f1fff920e10>"
            ]
          },
          "metadata": {
            "tags": []
          },
          "execution_count": 37
        },
        {
          "output_type": "display_data",
          "data": {
            "image/png": "[encoded data removed]",
            "text/plain": [
              "<Figure size 504x504 with 1 Axes>"
            ]
          },
          "metadata": {
            "tags": [],
            "needs_background": "light"
          }
        }
      ]
    },
    {
      "cell_type": "markdown",
      "metadata": {
        "id": "59xP1kfUuf-O"
      },
      "source": [
        "Используем евклидову метрику. Реализуем функцию для ее подсчета."
      ]
    },
    {
      "cell_type": "code",
      "metadata": {
        "id": "MKipIKeGuf-P"
      },
      "source": [
        "def e_metrics(x1, x2):\n",
        "\n",
        "    distance = 0\n",
        "    for i in range(len(x1)):\n",
        "        distance += np.square(x1[i] - x2[i])\n",
        "\n",
        "    return np.sqrt(distance)"
      ],
      "execution_count": null,
      "outputs": []
    },
    {
      "cell_type": "markdown",
      "metadata": {
        "id": "1tvFJ8-ouf-T"
      },
      "source": [
        "Реализуем алгоритм поиска k ближайших соседей."
      ]
    },
    {
      "cell_type": "code",
      "metadata": {
        "id": "rWf07K12DNi3"
      },
      "source": [],
      "execution_count": null,
      "outputs": []
    },
    {
      "cell_type": "code",
      "metadata": {
        "id": "LIKuDr9huf-V"
      },
      "source": [
        "def knn(x_train, y_train, x_test, k):\n",
        "\n",
        "    answers = []\n",
        "    for x in x_test:\n",
        "        test_distances = []\n",
        "\n",
        "        for i in range(len(x_train)):\n",
        "\n",
        "            # расчет расстояния от классифицируемого объекта до\n",
        "            # объекта обучающей выборки\n",
        "            distance = e_metrics(x, x_train[i])\n",
        "\n",
        "            # Записываем в список значение расстояния и ответа на объекте обучающей выборки\n",
        "            test_distances.append((distance, y_train[i]))\n",
        "\n",
        "        # создаем словарь со всеми возможными классами\n",
        "        classes = {class_item: 0 for class_item in set(y_train)}\n",
        "\n",
        "        # Сортируем список и среди первых k элементов подсчитаем частоту появления разных классов\n",
        "        for d in sorted(test_distances)[0:k]:\n",
        "            classes[d[1]] += 1\n",
        "\n",
        "        # Записываем в список ответов наиболее часто встречающийся класс\n",
        "        answers.append(sorted(classes, key=classes.get)[-1])\n",
        "    return answers"
      ],
      "execution_count": null,
      "outputs": []
    },
    {
      "cell_type": "markdown",
      "metadata": {
        "id": "7DVrbUPyuf-X"
      },
      "source": [
        "Напишем функцию для вычисления точности"
      ]
    },
    {
      "cell_type": "code",
      "metadata": {
        "id": "eK2Bn_7ouf-Y"
      },
      "source": [
        "def accuracy(pred, y):\n",
        "    return (sum(pred == y) / len(y))"
      ],
      "execution_count": null,
      "outputs": []
    },
    {
      "cell_type": "markdown",
      "metadata": {
        "id": "SprqYVBQuf-a"
      },
      "source": [
        "Проверим работу алгоритма при различных k"
      ]
    },
    {
      "cell_type": "code",
      "metadata": {
        "colab": {
          "base_uri": "https://localhost:8080/"
        },
        "id": "8K98g57quf-a",
        "outputId": "8fcfe226-ecc4-4adb-97a5-f7a16df037bf"
      },
      "source": [
        "k = 1\n",
        "\n",
        "y_pred = knn(X_train, y_train, X_test, k)\n",
        "\n",
        "print(f'Точность алгоритма при k = {k}: {accuracy(y_pred, y_test):.3f}')"
      ],
      "execution_count": null,
      "outputs": [
        {
          "output_type": "stream",
          "text": [
            "Точность алгоритма при k = 1: 0.667\n"
          ],
          "name": "stdout"
        }
      ]
    },
    {
      "cell_type": "markdown",
      "metadata": {
        "id": "YahR_F7xuf-d"
      },
      "source": [
        "Построим график распределения классов."
      ]
    },
    {
      "cell_type": "code",
      "metadata": {
        "id": "vN4DDyMauf-e"
      },
      "source": [
        "def get_graph(X_train, y_train, k):\n",
        "    cmap_light = ListedColormap(['#FFAAAA', '#AAFFAA','#00AAFF'])\n",
        "\n",
        "    h = .02\n",
        "\n",
        "    # Расчет пределов графика\n",
        "    x_min, x_max = X_train[:, 0].min() - 1, X_train[:, 0].max() + 1\n",
        "    y_min, y_max = X_train[:, 1].min() - 1, X_train[:, 1].max() + 1\n",
        "    xx, yy = np.meshgrid(np.arange(x_min, x_max, h), np.arange(y_min, y_max, h))\n",
        "\n",
        "    # Получим предсказания для всех точек\n",
        "    Z = knn(X_train, y_train, np.c_[xx.ravel(), yy.ravel()], k)\n",
        "\n",
        "    # Построим график\n",
        "    Z = np.array(Z).reshape(xx.shape)\n",
        "    plt.figure(figsize=(7,7))\n",
        "    plt.pcolormesh(xx, yy, Z, cmap=cmap_light)\n",
        "\n",
        "    # Добавим на график обучающую выборку\n",
        "    plt.scatter(X_train[:, 0], X_train[:, 1], c=y_train, cmap=cmap)\n",
        "    plt.xlim(xx.min(), xx.max())\n",
        "    plt.ylim(yy.min(), yy.max())\n",
        "    plt.title(f\"Трехклассовая kNN классификация при k = {k}\")\n",
        "    plt.show()"
      ],
      "execution_count": null,
      "outputs": []
    },
    {
      "cell_type": "code",
      "metadata": {
        "colab": {
          "base_uri": "https://localhost:8080/",
          "height": 444
        },
        "id": "B0twiiFZuf-i",
        "outputId": "01eed84d-de0e-4cc1-b329-0d5bf5bc9847"
      },
      "source": [
        "get_graph(X_train, y_train, k)"
      ],
      "execution_count": null,
      "outputs": [
        {
          "output_type": "display_data",
          "data": {
            "image/png": "[encoded data removed]",
            "text/plain": [
              "<Figure size 504x504 with 1 Axes>"
            ]
          },
          "metadata": {
            "tags": [],
            "needs_background": "light"
          }
        }
      ]
    },
    {
      "cell_type": "code",
      "metadata": {
        "colab": {
          "base_uri": "https://localhost:8080/"
        },
        "id": "_HyO60dnuf-l",
        "outputId": "9f1fe26b-81c4-4421-d81f-422323e9e355"
      },
      "source": [
        "k = 3\n",
        "\n",
        "y_pred = knn(X_train, y_train, X_test, k)\n",
        "\n",
        "print(f'Точность алгоритма при k = {k}: {accuracy(y_pred, y_test):.3f}')"
      ],
      "execution_count": null,
      "outputs": [
        {
          "output_type": "stream",
          "text": [
            "Точность алгоритма при k = 3: 0.733\n"
          ],
          "name": "stdout"
        }
      ]
    },
    {
      "cell_type": "code",
      "metadata": {
        "colab": {
          "base_uri": "https://localhost:8080/",
          "height": 444
        },
        "id": "zuxShjfxuf-n",
        "outputId": "0d4f885d-4e43-4c5d-ecd6-94100660fb7d"
      },
      "source": [
        "get_graph(X_train, y_train, k)"
      ],
      "execution_count": null,
      "outputs": [
        {
          "output_type": "display_data",
          "data": {
            "image/png": "[encoded data removed]",
            "text/plain": [
              "<Figure size 504x504 with 1 Axes>"
            ]
          },
          "metadata": {
            "tags": [],
            "needs_background": "light"
          }
        }
      ]
    },
    {
      "cell_type": "code",
      "metadata": {
        "colab": {
          "base_uri": "https://localhost:8080/"
        },
        "id": "v276kSfFuf-q",
        "outputId": "c73ee401-f517-4cb7-e7b2-39abaa563837"
      },
      "source": [
        "k = 5\n",
        "\n",
        "y_pred = knn(X_train, y_train, X_test, k)\n",
        "\n",
        "print(f'Точность алгоритма при k = {k}: {accuracy(y_pred, y_test):.3f}')"
      ],
      "execution_count": null,
      "outputs": [
        {
          "output_type": "stream",
          "text": [
            "Точность алгоритма при k = 5: 0.867\n"
          ],
          "name": "stdout"
        }
      ]
    },
    {
      "cell_type": "code",
      "metadata": {
        "colab": {
          "base_uri": "https://localhost:8080/",
          "height": 444
        },
        "id": "N0uMulUpuf-u",
        "outputId": "25a94004-1e18-411d-e491-8a0508dd8cc8"
      },
      "source": [
        "get_graph(X_train, y_train, k)"
      ],
      "execution_count": null,
      "outputs": [
        {
          "output_type": "display_data",
          "data": {
            "image/png": "[encoded data removed]",
            "text/plain": [
              "<Figure size 504x504 with 1 Axes>"
            ]
          },
          "metadata": {
            "tags": [],
            "needs_background": "light"
          }
        }
      ]
    },
    {
      "cell_type": "code",
      "metadata": {
        "colab": {
          "base_uri": "https://localhost:8080/"
        },
        "id": "i-FpThNiuf-0",
        "outputId": "6a65a9a9-5ca1-4326-c757-2e2128cf0527"
      },
      "source": [
        "k = 10\n",
        "\n",
        "y_pred = knn(X_train, y_train, X_test, k)\n",
        "\n",
        "print(f'Точность алгоритма при k = {k}: {accuracy(y_pred, y_test):.3f}')"
      ],
      "execution_count": null,
      "outputs": [
        {
          "output_type": "stream",
          "text": [
            "Точность алгоритма при k = 10: 0.833\n"
          ],
          "name": "stdout"
        }
      ]
    },
    {
      "cell_type": "code",
      "metadata": {
        "id": "U1nSITJluf-3",
        "colab": {
          "base_uri": "https://localhost:8080/",
          "height": 444
        },
        "outputId": "b73e95db-4a2e-45b9-a089-3599dd5336f6"
      },
      "source": [
        "get_graph(X_train, y_train, k)"
      ],
      "execution_count": null,
      "outputs": [
        {
          "output_type": "display_data",
          "data": {
            "image/png": "[encoded data removed]",
            "text/plain": [
              "<Figure size 504x504 with 1 Axes>"
            ]
          },
          "metadata": {
            "tags": [],
            "needs_background": "light"
          }
        }
      ]
    },
    {
      "cell_type": "markdown",
      "metadata": {
        "id": "QHVr1RTKuf-6"
      },
      "source": [
        "При увеличении k мы на графиках наблюдаем, как алгоритм меньше концентрируется на выбросах, однако, точность на тестовой выборке при этом увеличивается."
      ]
    },
    {
      "cell_type": "markdown",
      "metadata": {
        "id": "qbAXUnqUuf-7"
      },
      "source": [
        "Рассматриваемый метод, несмотря на положительные стороны в виде легкости интерпретации, простоты и удобства использования, обладает некоторыми минусами, в частности, он плохо работает на датасетах с большим количеством признаков.\n",
        "\n",
        "Например, если мы имеем три объекта, при этом второй отличается от первого только значением одного признака, но значительно, а третий отличается от первого незначительно в каждом признаке, расстояния от первого объекта до второго и третьего могут совпадать. Несущественные различия в каждом признаке могут иметь большее значение, чем большое различие в одном признаке. Такое поведение в ряде случаев будет нежелательным.\n",
        "\n",
        "Второй пример - случай, когда количество признаком сравнимо с количеством объектов. В этом случае может возникнуть ситуация, когда расстояния между любыми двумя объектами почти одинаковы. В двумерном пространстве (на плоскости) три точки могут располагаться по вершинам равностороннего треугольника, при этом расстояния между ними будут равны; в трехмерном пространстве то же самое справедливо для четырех точек на вершинах тетраэдра - расстояние между любыми двумя точками будет одинаково. В общем случае это означает, что в $n$-мерном пространстве можно выбрать $n+1$ точку так, чтобы расстояние между любыми двумя точками было одинаковым.\n",
        "\n",
        "Третий пример - так называемое \"проклятие размерности\". Суть его заключается в том, что при наличии $n$ бинарных признаков в пространстве признаков будет возможно $2^{n}$ различных объектов вида $x = (0,1,0,0,1,...,1)$, и размер обучающей выборки, необходимый, чтобы описать все пространство объектов (то есть все возможные комбинации таких признаков) также будет порядка $2^{n}$. Чтобы покрыть не все пространство, а долю объектов $\\alpha$ (то есть долю объема $\\alpha$) нужно будет описать гиперкуб с длиной ребра $e_{p} = \\alpha^{n}$. Например, в 10-мерном пространстве признаков чтобы покрыть 1% объема нужно взять гиперкуб с длиной $e_{10}(0,01) = 0.63$, то есть взять окрестность длиной больше половины ребра исходного пространства. Чем больше признаков, тем меньше будет область, которая покрывается во время поиска на заданном расстоянии. Таким образом, при сохранении требований по точности нахождения объекта в пространстве, количество требуемых данных для этого при увеличении количества признаков растет экспоненциально (подробнее про это явление см. в доп. материалах)."
      ]
    },
    {
      "cell_type": "markdown",
      "metadata": {
        "id": "b6H4U6Fcuf-8"
      },
      "source": [
        "## Обучение без учителя. Кластеризация. K-means"
      ]
    },
    {
      "cell_type": "markdown",
      "metadata": {
        "id": "X38-NciTuf-9"
      },
      "source": [
        "До этого мы рассматривали методы обучения с учителем, то есть задачи, в которых изначально есть размеченная обучающая выборка данных с известными ответами на них и тестовая выборка, на которой проверяется качество алгоритма. В этом разделе речь пойдет об _обучении без учителя (unsupervised learning)_ - случае, когда в роли обучающей выборки выступает просто набор объектов $x_{1},...,x_{l}$, и он же выступает в роли тестовой выборки, а задача состоит в проставлении меток $y_{1},...,y_{l}$ так, что бы объекты с одной и той же меткой были похожи, а с разными - нет. То есть все объекты в пространстве признаков нужно разделить на группы, найти структуру в данных. Это и называется _кластеризацией_. Если раньше мы имели примеры ответов $y$, то сейчас их нет, и нужно строить свои отображения $x \\rightarrow y$, отвечающие некоторым свойствам, например, тому, что похожие объекты отображаются в одну метку, а непохожие - в разные. По-простому задачу кластеризации можно сформулировать так: имеется множество точек, которые скапливаются в сгустки, нужно найти возможность относить точки к тому или иному сгустку и предсказывать, в какой сгусток попадет новая точка."
      ]
    },
    {
      "cell_type": "markdown",
      "metadata": {
        "id": "9cba7q4vuf--"
      },
      "source": [
        "Примерами кластеризации может быть группирование новостей по темам, музыки по жанрам, клиентов по типу поведения и т.д."
      ]
    },
    {
      "cell_type": "markdown",
      "metadata": {
        "id": "L5fLWrfFuf-_"
      },
      "source": [
        "Логично возникает вопрос, как измерять качество кластеризации. Есть большое количество инструментов оценки качества кластеризации, они разделяются на _внутренние_ (основанные только на свойствах выборки и кластеров) и _внешние_ (использующие данные об истинном распределении объектов по кластерам, если оно известно)."
      ]
    },
    {
      "cell_type": "markdown",
      "metadata": {
        "id": "O1Oyn7heuf_A"
      },
      "source": [
        "Примерами внутренних метрик могут быть:\n",
        "\n",
        "- Внутрикластерное расстояние (также называется компактностью кластеров, cluster cohesion): $$\\sum_{k=1}^{K}\\sum_{i=1}^{l}[a(x_{i})=k]\\rho(x_{i}, c_{k}),$$ где $K$ - количество кластеров, $c_{k}$ - центр кластера. Этот функционал нужно минимизировать, так как в идеальном случае все объекты в одном кластере одинаковы, и расстояние между ними равно нулю.\n",
        "\n",
        "\n",
        "- Межкластерное расстояние (отделимость кластеров, cluster separation): $$\\sum_{i,j=1}^{l}[a(x_{i}) \\neq a(x_{j})]\\rho(x_{i}, x_{j}).$$ Этот функционал наоборот нужно максимизировать, так как объекты из разных кластеров должны максимально различаться, то есть иметь максимальное расстояние между собой.\n",
        "\n",
        "    - Часто используются те же формулы, но включающие не расстояние ρ, а его квадрат, получая квадратичное внутрикластерное и межкластерное расстояние:\n",
        "\n",
        "    $$\\sum_{k=1}^{K}\\sum_{i=1}^{l}[a(x_{i})=k]\\rho^{2}(x_{i}, c_{k}),$$\n",
        "    $$\\sum_{i,j=1}^{l}[a(x_{i}) \\neq a(x_{j})]\\rho^{2}(x_{i}, x_{j}).$$\n",
        "\n",
        "\n",
        "- Среднее внутрикластерное расстояние (среднее расстояние внутри каждого кластера, просуммированное по всем кластерам) и среднее межкластерное расстояние (минимизируется и максимизируется, соответственно, по аналогии с двумя первыми функционалами):\n",
        "\n",
        "    $$\\sum_{k=1}^{K}\\frac{1}{|k|}\\sum_{i=1}^{l}[a(x_{i})=k]\\rho(x_{i}, c_{k}),$$\n",
        "    $$\\frac{1}{K}\\sum_{i,j=1}^{l}[a(x_{i}) \\neq a(x_{j})]\\rho(x_{i}, x_{j}),$$ где $|k|$ - количество элементов в кластере под номером $k$.\n",
        "\n",
        "    - По аналогии с квадратичным внутрикластерным и межкластерным расстоянием - среднее квадратичное внутрикластерное и межкластерное расстояние.\n",
        "\n",
        "    $$\\sum_{k=1}^{K}\\frac{1}{|k|}\\sum_{i=1}^{l}[a(x_{i})=k]\\rho^{2}(x_{i}, c_{k}),$$\n",
        "    $$\\frac{1}{K}\\sum_{i,j=1}^{l}[a(x_{i}) \\neq a(x_{j})]\\rho^{2}(x_{i}, x_{j}).$$\n",
        "\n",
        "- Отношение внутрикластерного и межкластерного расстояний (или средних), минимизируется.\n",
        "\n",
        "\n",
        "- Индекс Данна (Dunn Index): $$\\frac{\\text{min}_{1\\leq k \\leq k' \\leq K}d(c_{k},c_{k'})}{\\text{max}_{1\\leq k \\leq K} d(k)},$$ где $d(c_{k},c_{k'})$ - расстояние между кластерами $k$ и $k'$ (между их центрами), $d(k)$ - внутрикластерное расстояние для кластера $k$. Этот функционал требуется максимизировать."
      ]
    },
    {
      "cell_type": "markdown",
      "metadata": {
        "id": "86Fs9Fbeuf_A"
      },
      "source": [
        "Внешние метрики используются, если есть дополнительные знания о кластеризуемой выборке, например, известно истинное распределение по кластерам. Задачу можно рассматривать как задачу многоклассовой классификации с использованием соответствующих метрик. В этом случае примерами могут быть:\n",
        "\n",
        "- Rand Index: $$Rand = \\frac{TP+FN}{TP+TN+FP+FN}, $$ входящие в формулу обозначения мы встречали при изучении классификации и матриц ошибок. Здесь это количество пар объектов $(x_{i}.x_{j})$, которые принадлежат одному кластеру и одному классу (TP), одному кластеру, но разным классам (TN), разным кластерам, но одному классу (FP), разным кластерам и разным классам (FN). Этот индекс оценивает, сколько пар объектов, находившихся в одном классе, и пар объектов, находившихся в разных классах, сохранили это состояние после работы алгоритма. Он принимает значение от 0 до 1, где 1 - полное совпадение полученных кластеров и исходными классами, 0 - полное отсутствие совпадений.\n",
        "\n",
        "\n",
        "- Jaccard Index: $$Jaccard = \\frac{TP}{TP+TN+FP}.$$ Этот индекс похож на предыдущий, но он не учитывает пары объектов, находящихся в разных кластерах и разных классах. Имеет такую же область определения, как и Rand Index.\n",
        "\n",
        "\n",
        "- F-мера: $$\\sum_{j}\\frac{l_{j}}{l}\\underset{i}{\\text{max}}\\left(\\frac{2\\cdot precision(i,j) \\cdot recall(i,j)}{precision(i,j) + recall(i,j)}\\right),$$ здесь используются также знакомые из темы классификации параметры точности (precision) и полноты (recall). В данном случае они определяются как: $$precision(i,j)=\\frac{l_{ij}}{l_{i}},$$ $$recall(i,j)=\\frac{l_{ij}}{l_{j}},$$ где $l_{ij}$ - количество объектов $x_{n}$, принадлежащих кластеру $k_{i}$ и классу $c_{j}$; $l_{i} = |k_{i}|$ - размер кластера $k_{i}$; $l_{j} = |c_{j}|$ - размер класса $c_{j}$."
      ]
    },
    {
      "cell_type": "markdown",
      "metadata": {
        "id": "5POKW_CGuf_B"
      },
      "source": [
        "Про другие внутренние и внешние метрики качества кластеризации можно почитать в дополнительных материалах."
      ]
    },
    {
      "cell_type": "markdown",
      "metadata": {
        "id": "oq8LyMncuf_B"
      },
      "source": [
        "### Алгоритм K-means (K-средних)"
      ]
    },
    {
      "cell_type": "markdown",
      "metadata": {
        "id": "Slqzj4Siuf_C"
      },
      "source": [
        "Одним из самых простых и популярных алгоритмов кластеризации является алгоритм _K-means (K-средних)_. Заключается он в следующих шагах:\n",
        "\n",
        "1. Выбрать количество кластеров $k$, на которые будут делиться данные.\n",
        "\n",
        "\n",
        "2. Случайным образом выбрать в пространстве данных $k$ точек $c_{k}$ (центроидов) - центров будущих кластеров.\n",
        "\n",
        "\n",
        "3. Для каждой точки из выборки посчитать, к какому из центроидов она ближе.\n",
        "\n",
        "\n",
        "4. Переместить каждый центроид в центр выборки, отнесенной к этому центроиду, определив его как среднее арифметическое всех точек кластера:\n",
        "\n",
        "$$c_{k} = \\frac{\\sum_{i=1}^{l}[a(x_{i})=k]x_{i}}{\\sum_{i=1}^{l}[a(x_{i}) = k]}.$$\n",
        "\n",
        "\n",
        "5. Повторить шаги 4-5 до сходимости алгоритма (обычно это оценивается по величине смещения центроида после каждого шага - сходимость означает непревышение смещения какого-то заданного значения).\n",
        "\n",
        "Результат работы алгоритма значительно зависит от начального выбора центроидов. Существует много методик их выбора, наиболее удачным из которых считается k-means++. Он заключается в последовательном выборе начальных приближений так, что вероятность выбрать в качестве центроида следующую точку пропорциональна квадрату расстояния от нее до ближайшего центроида."
      ]
    },
    {
      "cell_type": "markdown",
      "metadata": {
        "id": "2v7sbNMFuf_D"
      },
      "source": [
        "Проблемой метода также является необходимость знать число кластеров, на которые будет делиться выборка. В случае, когда это число неизвестно, вариантом ее решения может быть последовательная кластеризация на разное число кластеров (например, от 1 до 10) с последующим анализом качества работы алгоритма, например, по сумме квадратов внутрикластерных расстояний $$\\sum_{k=1}^{K}\\sum_{i \\in C_{k}}\\rho(x_{i}, c_{k})^{2}$$ - выбирается такое число кластеров, начиная с которого при увеличении количества кластеров функционал падает незначительно."
      ]
    },
    {
      "cell_type": "markdown",
      "metadata": {
        "id": "nEhfY3kMuf_E"
      },
      "source": [
        "Сделаем простую реализацию алгоритма K-means своими руками на Python."
      ]
    },
    {
      "cell_type": "markdown",
      "metadata": {
        "id": "xDbkTkTYuf_F"
      },
      "source": [
        "Вначале сгенерируем три облака точек с помощью инструментов `sklearn`."
      ]
    },
    {
      "cell_type": "code",
      "metadata": {
        "id": "qRhCTQdZuf_G"
      },
      "source": [
        "from sklearn.datasets import make_blobs\n",
        "import random\n",
        "\n",
        "X, y = make_blobs(n_samples=100, random_state=1)"
      ],
      "execution_count": null,
      "outputs": []
    },
    {
      "cell_type": "markdown",
      "metadata": {
        "id": "Vv0J1xcDuf_H"
      },
      "source": [
        "Изобразим точки на графике."
      ]
    },
    {
      "cell_type": "code",
      "metadata": {
        "id": "I6VqFOARuf_I",
        "colab": {
          "base_uri": "https://localhost:8080/",
          "height": 446
        },
        "outputId": "e9411283-d15e-4960-a245-6a880e11511a"
      },
      "source": [
        "plt.figure(figsize=(7,7))\n",
        "plt.scatter(X[:, 0], X[:, 1])"
      ],
      "execution_count": null,
      "outputs": [
        {
          "output_type": "execute_result",
          "data": {
            "text/plain": [
              "<matplotlib.collections.PathCollection at 0x7f1ff6f5b590>"
            ]
          },
          "metadata": {
            "tags": []
          },
          "execution_count": 51
        },
        {
          "output_type": "display_data",
          "data": {
            "image/png": "[encoded data removed]",
            "text/plain": [
              "<Figure size 504x504 with 1 Axes>"
            ]
          },
          "metadata": {
            "tags": [],
            "needs_background": "light"
          }
        }
      ]
    },
    {
      "cell_type": "markdown",
      "metadata": {
        "id": "a421abi0uf_L"
      },
      "source": [
        "В качестве метрики расстояния будем использовать евклидово расстояние, функция для которого была написана ранее. В качестве центроидов выберем первые k элементов датасета. Реализуем основной цикл алгоритма."
      ]
    },
    {
      "cell_type": "code",
      "metadata": {
        "id": "7LSTomiyuf_L"
      },
      "source": [
        "def kmeans(data, k, max_iterations, min_distance):\n",
        "    # Создадим словарь для классификации\n",
        "    classes = {i: [] for i in range(k)}\n",
        "\n",
        "    # инициализируем центроиды как первые k элементов датасета\n",
        "    centroids = [data[i] for i in range(k)]\n",
        "\n",
        "    for _ in range(max_iterations):\n",
        "        # классифицируем объекты по центроидам\n",
        "        for x in data:\n",
        "            # определим расстояния от объекта до каждого центроида\n",
        "            distances = [e_metrics(x, centroid) for centroid in centroids]\n",
        "            # отнесем объект к кластеру, до центроида которого наименьшее расстояние\n",
        "            classification = distances.index(min(distances))\n",
        "            classes[classification].append(x)\n",
        "\n",
        "        # сохраним предыдущие центроиды в отдельный список для последующего сравнения сновыми\n",
        "        old_centroids = centroids.copy()\n",
        "\n",
        "        # пересчитаем центроиды как среднее по кластерам\n",
        "        for classification in classes:\n",
        "            centroids[classification] = np.average(classes[classification], axis=0)\n",
        "\n",
        "        # сравним величину смещения центроидов с минимальной\n",
        "        optimal = True\n",
        "        for centroid in range(len(centroids)):\n",
        "            if np.sum(abs((centroids[centroid] - old_centroids[centroid]) / old_centroids * 100)) > min_distance:\n",
        "                optimal = False\n",
        "\n",
        "        # если все смещения меньше минимального, останавливаем алгоритм\n",
        "        if optimal:\n",
        "            break\n",
        "\n",
        "    return old_centroids, classes"
      ],
      "execution_count": null,
      "outputs": []
    },
    {
      "cell_type": "markdown",
      "metadata": {
        "id": "hF5nlCxFuf_O"
      },
      "source": [
        "Напишем функцию для визуализации кластеров"
      ]
    },
    {
      "cell_type": "code",
      "metadata": {
        "id": "D5RysDcPuf_O"
      },
      "source": [
        "def visualize(centroids, classes):\n",
        "    colors = ['r', 'g', 'b']\n",
        "\n",
        "    plt.figure(figsize=(7,7))\n",
        "\n",
        "    # нанесем на график центроиды\n",
        "    for centroid in centroids:\n",
        "        plt.scatter(centroid[0], centroid[1], marker='x', s=130, c='black')\n",
        "\n",
        "    # нанесем объекты раскрашенные по классам\n",
        "    for class_item in classes:\n",
        "        for x in classes[class_item]:\n",
        "            plt.scatter(x[0], x[1], color=colors[class_item])\n",
        "\n",
        "    plt.show()"
      ],
      "execution_count": null,
      "outputs": []
    },
    {
      "cell_type": "code",
      "metadata": {
        "id": "Hsy8q0FOuf_Q"
      },
      "source": [
        "# определим максимальное количество итераций\n",
        "max_iterations = 1\n",
        "\n",
        "# и минимальное расстояние между центроидами до пересчета и после него, при котором нужно остановить алгоритм\n",
        "min_distance = 1e-4\n",
        "\n",
        "# сразу определим известное нам количество кластеров\n",
        "k = 3"
      ],
      "execution_count": null,
      "outputs": []
    },
    {
      "cell_type": "markdown",
      "metadata": {
        "id": "ykFQU-1guf_S"
      },
      "source": [
        "Проверим результат алгоритма после одной итерации"
      ]
    },
    {
      "cell_type": "code",
      "metadata": {
        "id": "DzJTqoBuuf_T",
        "colab": {
          "base_uri": "https://localhost:8080/",
          "height": 428
        },
        "outputId": "80f22077-c42b-48f5-b6ad-ae083ff017a7"
      },
      "source": [
        "centroids, clusters = kmeans(X, k, max_iterations, min_distance)\n",
        "\n",
        "visualize(centroids, clusters)"
      ],
      "execution_count": null,
      "outputs": [
        {
          "output_type": "display_data",
          "data": {
            "image/png": "[encoded data removed]",
            "text/plain": [
              "<Figure size 504x504 with 1 Axes>"
            ]
          },
          "metadata": {
            "tags": [],
            "needs_background": "light"
          }
        }
      ]
    },
    {
      "cell_type": "markdown",
      "metadata": {
        "id": "3_Zi1CuPuf_W"
      },
      "source": [
        "Проверим работу алгоритма при различном числе итераций."
      ]
    },
    {
      "cell_type": "code",
      "metadata": {
        "id": "Rt7c3Vdxuf_X",
        "colab": {
          "base_uri": "https://localhost:8080/",
          "height": 428
        },
        "outputId": "617d9544-2ad6-47df-d8a4-c7d838abb8c2"
      },
      "source": [
        "max_iterations = 3\n",
        "\n",
        "centroids, clusters = kmeans(X, k, max_iterations, min_distance)\n",
        "\n",
        "visualize(centroids, clusters)"
      ],
      "execution_count": null,
      "outputs": [
        {
          "output_type": "display_data",
          "data": {
            "image/png": "[encoded data removed]",
            "text/plain": [
              "<Figure size 504x504 with 1 Axes>"
            ]
          },
          "metadata": {
            "tags": [],
            "needs_background": "light"
          }
        }
      ]
    },
    {
      "cell_type": "code",
      "metadata": {
        "id": "YfMBMBlQuf_a",
        "colab": {
          "base_uri": "https://localhost:8080/",
          "height": 428
        },
        "outputId": "1d9b2072-5824-43e5-900c-837528e82b40"
      },
      "source": [
        "max_iterations = 5\n",
        "\n",
        "centroids, clusters = kmeans(X, k, max_iterations, min_distance)\n",
        "\n",
        "visualize(centroids, clusters)"
      ],
      "execution_count": null,
      "outputs": [
        {
          "output_type": "display_data",
          "data": {
            "image/png": "[encoded data removed]",
            "text/plain": [
              "<Figure size 504x504 with 1 Axes>"
            ]
          },
          "metadata": {
            "tags": [],
            "needs_background": "light"
          }
        }
      ]
    },
    {
      "cell_type": "code",
      "metadata": {
        "id": "tfdoJFyUuf_c",
        "colab": {
          "base_uri": "https://localhost:8080/",
          "height": 428
        },
        "outputId": "39bf711e-a64a-40fe-b78f-d24071f76b92"
      },
      "source": [
        "max_iterations = 10\n",
        "\n",
        "centroids, clusters = kmeans(X, k, max_iterations, min_distance)\n",
        "\n",
        "visualize(centroids, clusters)"
      ],
      "execution_count": null,
      "outputs": [
        {
          "output_type": "display_data",
          "data": {
            "image/png": "[encoded data removed]",
            "text/plain": [
              "<Figure size 504x504 with 1 Axes>"
            ]
          },
          "metadata": {
            "tags": [],
            "needs_background": "light"
          }
        }
      ]
    },
    {
      "cell_type": "markdown",
      "metadata": {
        "id": "K_E1dFmeuf_e"
      },
      "source": [
        "Видно, как при увеличении количества итераций центроиды перемещаются в центр образующихся кластеров."
      ]
    },
    {
      "cell_type": "markdown",
      "metadata": {
        "id": "Fb9vr5iXuf_e"
      },
      "source": [
        "Как и говорилось ранее, метод K-means очень чувствителен к выбору начальных центров кластеров, и это является одним из его основных минусов, среди которых также сложность работы с разными формами кластеров (они, например, могут быть вытянутыми, образовывать фигуры и т.п.). В связи с этим существуют другие методы кластеризации, о которых можно прочитать в дополнительных материалах. Там же есть сравнение работы алгоритмов с кластерами различных форм."
      ]
    },
    {
      "cell_type": "markdown",
      "metadata": {
        "id": "L_LkljD0uf_f"
      },
      "source": [
        "## Дополнительные матриалы"
      ]
    },
    {
      "cell_type": "markdown",
      "metadata": {
        "id": "zw4kpwm0uf_f"
      },
      "source": [
        "1. Факторный, дискриминантный и кластерный анализ: Пер. с англ./Дж.-О. Ким, Ч. У. Мьюллер, У. Р. Клекка и др.; Под ред. И. С. Енюкова. — М.: Финансы и статистика, 1989.— 215 с.\n",
        "2. [Об использовании мер сходства при анализе документации](http://ceur-ws.org/Vol-803/paper18.pdf)\n",
        "3. [KNN Algorithm](https://medium.com/datadriveninvestor/knn-algorithm-and-implementation-from-scratch-b9f9b739c28f)\n",
        "4. [Проклятие размерности](http://www.machinelearning.ru/wiki/index.php?title=%D0%9F%D1%80%D0%BE%D0%BA%D0%BB%D1%8F%D1%82%D0%B8%D0%B5_%D1%80%D0%B0%D0%B7%D0%BC%D0%B5%D1%80%D0%BD%D0%BE%D1%81%D1%82%D0%B8); ([Иллюстрация](https://www.youtube.com/watch?v=R2hQIJb0Lis))\n",
        "5. [Оценка качества кластеризации](http://neerc.ifmo.ru/wiki/index.php?title=%D0%9E%D1%86%D0%B5%D0%BD%D0%BA%D0%B0_%D0%BA%D0%B0%D1%87%D0%B5%D1%81%D1%82%D0%B2%D0%B0_%D0%B2_%D0%B7%D0%B0%D0%B4%D0%B0%D1%87%D0%B5_%D0%BA%D0%BB%D0%B0%D1%81%D1%82%D0%B5%D1%80%D0%B8%D0%B7%D0%B0%D1%86%D0%B8%D0%B8)\n",
        "6. [Обзор алгоритмов кластеризации данных](https://habr.com/ru/post/101338/)\n",
        "7. [Работа алгоритмов кластеризации на классах разной формы](https://scikit-learn.org/stable/modules/clustering.html)"
      ]
    },
    {
      "cell_type": "markdown",
      "metadata": {
        "id": "Pbdck_49kFg4"
      },
      "source": [
        "## Домашнее задание"
      ]
    },
    {
      "cell_type": "markdown",
      "metadata": {
        "id": "i0kCm5_ikI2G"
      },
      "source": [
        "1. К алгоритму kNN, представленному на уроке, реализовать добавление весов для соседей по любому из показанных на уроке принципов."
      ]
    },
    {
      "cell_type": "markdown",
      "metadata": {
        "id": "8w2JSt56z9eF"
      },
      "source": [
        "## Для самостоятельной работы"
      ]
    },
    {
      "cell_type": "markdown",
      "metadata": {
        "id": "W5b_7P2gz_0r"
      },
      "source": [
        "1. (*) Написать функцию подсчета метрики качества кластеризации как среднее квадратичное внутриклассовое расстояние и построить график ее зависимости от количества кластеров k (взять от 1 до 10) для выборки данных из этого урока (создать датасет, как в методичке)."
      ]
    }
  ]
}