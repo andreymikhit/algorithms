{
  "nbformat": 4,
  "nbformat_minor": 0,
  "metadata": {
    "colab": {
      "provenance": [],
      "collapsed_sections": [
        "Rg5ilDbTbshs",
        "Z2tMUhhXbsjK"
      ]
    },
    "kernelspec": {
      "display_name": "Python 3",
      "language": "python",
      "name": "python3"
    },
    "language_info": {
      "codemirror_mode": {
        "name": "ipython",
        "version": 3
      },
      "file_extension": ".py",
      "mimetype": "text/x-python",
      "name": "python",
      "nbconvert_exporter": "python",
      "pygments_lexer": "ipython3",
      "version": "3.7.1"
    }
  },
  "cells": [
    {
      "cell_type": "markdown",
      "metadata": {
        "id": "41AitfhKbsha"
      },
      "source": [
        "# Урок 6. Градиентный бустинг\n",
        "## ДЗ (10.05.2021)"
      ]
    },
    {
      "cell_type": "markdown",
      "metadata": {
        "id": "pZe01L525KII"
      },
      "source": [
        "* [Практическое задание. ДЗ.](#ex)\n",
        "    * [Задание](#ex)\n",
        "\n",
        "* [Теория](#theor)\n",
        "    * [Дополнительные материалы](#theor)"
      ]
    },
    {
      "cell_type": "markdown",
      "metadata": {
        "id": "Fxz8nDck5Tgu"
      },
      "source": [
        "## <center><a class=\"anchor\" id=\"ex\">Практическое задание </a><center>"
      ]
    },
    {
      "cell_type": "markdown",
      "metadata": {
        "id": "kJ0PFFn15Whu"
      },
      "source": [
        "### <a class=\"anchor\" id=\"ex1\">Задание </a>"
      ]
    },
    {
      "cell_type": "markdown",
      "metadata": {
        "id": "RjmNIdLhXN5f"
      },
      "source": [
        "Домашнее задание: Реализовать адаптивный бустинг использующий Логистическую Регрессию и меру ошибок LogLoss. Сравнить с точностью адаптивного бустинга на деревьях решений. Для сбора предсказаний можно использовать ту же функцию predict что и для бустинга на деревьях\n",
        "Подробности в файле \"Адаптивный бустинг.ipynb\""
      ]
    },
    {
      "cell_type": "markdown",
      "metadata": {
        "id": "MOGOQj2gbshe"
      },
      "source": [
        "В этом уроке мы продолжаем тему ансамблей алгоритмов, рассматривая еще один их вид - _градиентный бустинг_."
      ]
    },
    {
      "cell_type": "markdown",
      "metadata": {
        "id": "NTW1uqTSbshf"
      },
      "source": [
        "Вспоминая тему предыдущего урока, случайные леса, напомним, что случайный лес - это ансамбль деревьев небольшой глубины, строящихся независимо друг от друга. В независимости построения деревьев кроется и плюс и минус алгоритма: с одной стороны, построение деревьев можно распараллеливать и, например, организовывать на разных ядрах процессора, с другой стороны, следствием их независимости является тот факт, что для решения сложных задач требуется очень большое количество деревьев. В этих случаях случаях (при большой выборке или большом количестве признаков) обучение случайного леса может требовать очень много ресурсов, а если для ограничения их потребления слишком ограничивать глубину деревьев, они могут не уловить все закономерности в данных и иметь большой сдвиг (и, следовательно, ошибку)."
      ]
    },
    {
      "cell_type": "markdown",
      "metadata": {
        "id": "1y67OFwjbshg"
      },
      "source": [
        "Бустинг является своеобразным решением этой проблемы: он заключается в последовательном построении ансамбля, когда деревья строятся одно за другим, и при этом каждое следующее дерево строится таким образом, чтобы исправлять ошибки уже построенного на данный момент ансамбля. При таком подходе базовые алгоритмы могут быть достаточно простыми, то есть можно использовать неглубокие деревья."
      ]
    },
    {
      "cell_type": "markdown",
      "metadata": {
        "id": "AFE9DS-K5hjD"
      },
      "source": [
        "### <a class=\"anchor\" id=\"ex1\">Решение </a>"
      ]
    },
    {
      "cell_type": "code",
      "metadata": {
        "id": "INV_rvWyYNwH"
      },
      "source": [
        "# Пролходили на уроке ...\n",
        "# ***********************\n",
        "from sklearn.tree import DecisionTreeClassifier\n",
        "from sklearn.datasets import load_breast_cancer\n",
        "import matplotlib.pyplot as plt\n",
        "from sklearn import model_selection\n",
        "import numpy as np"
      ],
      "execution_count": null,
      "outputs": []
    },
    {
      "cell_type": "code",
      "metadata": {
        "id": "Cei8vmTyYPMn"
      },
      "source": [
        "X, y = load_breast_cancer(return_X_y=True)\n",
        "X_train, X_test, y_train, y_test = model_selection.train_test_split(X, y, test_size=0.25)\n",
        "def get_error(pred, y):\n",
        "    return np.sum((pred != y).astype(int)) / len(y)"
      ],
      "execution_count": null,
      "outputs": []
    },
    {
      "cell_type": "code",
      "metadata": {
        "id": "DZy7fME5YSkP"
      },
      "source": [
        "def adaboost(X, y, N):\n",
        "\n",
        "    # Размер выборки\n",
        "    n_objects = len(X)\n",
        "\n",
        "    # Запишем количество классов в переменную\n",
        "    n_classes = len(np.unique((y)))\n",
        "\n",
        "    # Начальные веса деревьев\n",
        "    w = np.ones(n_objects) / n_objects\n",
        "\n",
        "    # Деревья с весами будем записывать в список\n",
        "    models = []\n",
        "\n",
        "    for n in range(N):\n",
        "        # Зададим дерево и обучим его\n",
        "        clf = DecisionTreeClassifier(max_depth=1)\n",
        "        clf.fit(X, y, w)\n",
        "\n",
        "        predictions = clf.predict(X)\n",
        "        e = get_error(predictions, y)\n",
        "        # отбросим дерево, если его ошибка больше 0.5\n",
        "        # Запишем условие в общем виде (применимо к небинарным классификаторам)\n",
        "        if e >= 1 - 1/n_classes:\n",
        "            break\n",
        "\n",
        "        # Вычислим вес для дерева\n",
        "        alpha = 0.5 * np.log((1 - e) / e)\n",
        "\n",
        "        # Найдем индексы правильно классифицированных элементов\n",
        "        match = predictions == y\n",
        "\n",
        "        # Увеличим веса для неправильно классифицированных элементов\n",
        "        w[np.logical_not(match)] *= np.exp(alpha)\n",
        "        w[match] *= np.exp(-alpha)\n",
        "\n",
        "        # Нормализуем веса\n",
        "        w /= w.sum()\n",
        "\n",
        "        # Добавим дерево с весом в список\n",
        "        models.append((alpha, clf))\n",
        "\n",
        "    return models"
      ],
      "execution_count": null,
      "outputs": []
    },
    {
      "cell_type": "code",
      "metadata": {
        "id": "co-bkfW4YU6Z"
      },
      "source": [
        "N = 50\n",
        "models = adaboost(X_train, y_train, N)"
      ],
      "execution_count": null,
      "outputs": []
    },
    {
      "cell_type": "code",
      "metadata": {
        "colab": {
          "base_uri": "https://localhost:8080/"
        },
        "id": "EoFjkBpgYX8w",
        "outputId": "9b2b8160-45e4-402c-d1ce-402438f5f5ff"
      },
      "source": [
        "def predict(X, models, n_classes = 2):\n",
        "\n",
        "    n_objects = len(X)\n",
        "\n",
        "    # вначале обозначим предсказание нулевым массивом\n",
        "    y_pred = np.zeros((n_objects, n_classes))\n",
        "\n",
        "    for alpha, clf in models:\n",
        "        prediction = clf.predict(X)\n",
        "        # Для каждого предсказания будем прибавлять alpha к\n",
        "        # элементу с индексом предсказанного класса\n",
        "        y_pred[range(n_objects), prediction] += alpha\n",
        "\n",
        "    # выберем индексы с максимальными суммарными весами -\n",
        "    # получим предсказанные алгоритмом классы\n",
        "    y_pred = np.argmax(y_pred, axis=1)\n",
        "\n",
        "    return y_pred\n",
        "\n",
        "print(f'Точность алгоритма на обучающей выборке: {(1 - get_error(predict(X_train, models), y_train)) * 100:.3f}')\n",
        "\n",
        "print(f'Точность алгоритма на тестовой выборке: {(1 - get_error(predict(X_test, models), y_test)) * 100:.3f}')"
      ],
      "execution_count": null,
      "outputs": [
        {
          "output_type": "stream",
          "text": [
            "Точность алгоритма на обучающей выборке: 96.244\n",
            "Точность алгоритма на тестовой выборке: 95.105\n"
          ],
          "name": "stdout"
        }
      ]
    },
    {
      "cell_type": "code",
      "metadata": {
        "colab": {
          "base_uri": "https://localhost:8080/",
          "height": 298
        },
        "id": "LLNNVchjYa7o",
        "outputId": "e5278573-d725-446a-a9e5-e260d6027987"
      },
      "source": [
        "train_errors = []\n",
        "test_errors = []\n",
        "\n",
        "for n in range(1, 31):\n",
        "    mods = adaboost(X_train, y_train, n)\n",
        "    train_errors.append(get_error(predict(X_train, mods), y_train))\n",
        "    test_errors.append(get_error(predict(X_test, mods), y_test))\n",
        "x = list(range(1, 31))\n",
        "\n",
        "plt.xlim(0, 30)\n",
        "plt.plot(x, train_errors, label='train errors')\n",
        "plt.plot(x, test_errors, label='test errors')\n",
        "plt.xlabel('N')\n",
        "plt.ylabel('Errors')\n",
        "plt.legend(loc='upper right')"
      ],
      "execution_count": null,
      "outputs": [
        {
          "output_type": "execute_result",
          "data": {
            "text/plain": [
              "<matplotlib.legend.Legend at 0x7f0de932d390>"
            ]
          },
          "metadata": {
            "tags": []
          },
          "execution_count": 6
        },
        {
          "output_type": "display_data",
          "data": {
            "image/png": "[encoded data removed]",
            "text/plain": [
              "<Figure size 432x288 with 1 Axes>"
            ]
          },
          "metadata": {
            "tags": []
          }
        }
      ]
    },
    {
      "cell_type": "code",
      "metadata": {
        "id": "A79GEibbYrYp"
      },
      "source": [
        "# Домашнее задание\n",
        "# ****************"
      ],
      "execution_count": null,
      "outputs": []
    },
    {
      "cell_type": "code",
      "metadata": {
        "id": "6reOXMMbXv5Z"
      },
      "source": [
        "#Рекоммендуемая реализация LogLoss\n",
        "def log_loss(pred, y, eps=1e-15): return -np.sum(y*np.log2(pred+eps)+(1-y+eps)*np.log2(1-pred+eps))/len(y)"
      ],
      "execution_count": null,
      "outputs": []
    },
    {
      "cell_type": "code",
      "metadata": {
        "id": "qi4bZbH3YBdg"
      },
      "source": [
        "from sklearn.linear_model import LogisticRegression\n",
        "\n",
        "def lr_adaboost(X, y, N):\n",
        "\n",
        "    # Размер выборки\n",
        "    n_objects = len(X)\n",
        "\n",
        "    # Запишем количество классов в переменную\n",
        "    n_classes = len(np.unique((y)))\n",
        "\n",
        "    # Модели с весами будем записывать в список\n",
        "    models = []\n",
        "\n",
        "    for n in range(N):\n",
        "\n",
        "        clf = LogisticRegression(random_state=0)\n",
        "        clf.fit(X, y)\n",
        "\n",
        "        predictions = clf.predict_proba(X)[:, 1]\n",
        "\n",
        "\n",
        "        e = log_loss(predictions, y)\n",
        "\n",
        "        # отбросим , если  ошибка больше 0.5\n",
        "        # Запишем условие в общем виде (применимо к небинарным классификаторам)\n",
        "        if e >= 1 - 1/n_classes:\n",
        "            break\n",
        "\n",
        "        # Вычислим вес для модели\n",
        "        alpha = 0.5 * np.log((1 - e) / e)\n",
        "\n",
        "        # Добавим модель с весом в список\n",
        "        models.append((alpha, clf))\n",
        "\n",
        "    return models"
      ],
      "execution_count": null,
      "outputs": []
    },
    {
      "cell_type": "code",
      "metadata": {
        "id": "FNqbjrnrYD84"
      },
      "source": [
        "N = 10\n",
        "#Для подавления предупреждений о недостаточной сходимости можно использовать:\n",
        "import warnings\n",
        "with warnings.catch_warnings():\n",
        "    warnings.simplefilter(\"ignore\")\n",
        "    #и здесь обучаем модели\n",
        "\n",
        "    models_lr = lr_adaboost(X_train, y_train, N)"
      ],
      "execution_count": null,
      "outputs": []
    },
    {
      "cell_type": "code",
      "metadata": {
        "colab": {
          "base_uri": "https://localhost:8080/"
        },
        "id": "5A1x_ickXygR",
        "outputId": "15f0c023-dc0d-4db5-8e5a-53da66ba9c94"
      },
      "source": [
        "def predict(X, models, n_classes = 2):\n",
        "\n",
        "    n_objects = len(X)\n",
        "\n",
        "    # вначале обозначим предсказание нулевым массивом\n",
        "    y_pred = np.zeros((n_objects, n_classes))\n",
        "\n",
        "    for alpha, clf in models:\n",
        "        prediction = clf.predict(X)\n",
        "        # Для каждого предсказания будем прибавлять alpha к\n",
        "        # элементу с индексом предсказанного класса\n",
        "        y_pred[range(n_objects), prediction] += alpha\n",
        "\n",
        "    # выберем индексы с максимальными суммарными весами -\n",
        "    # получим предсказанные алгоритмом классы\n",
        "    y_pred = np.argmax(y_pred, axis=1)\n",
        "\n",
        "    return y_pred\n",
        "\n",
        "from sklearn.metrics import log_loss as lgs\n",
        "\n",
        "lgloss = lgs(y_train, predict(X_train, models_lr), eps=1e-15, normalize=True, sample_weight=None, labels=None)\n",
        "print(f'Точность алгоритма на обучающей выборке: {100-lgloss:.3f}')\n",
        "print(f'Точность алгоритма на обучающей выборке: {100-(log_loss(predict(X_train, models_lr), y_train)):.3f}')"
      ],
      "execution_count": null,
      "outputs": [
        {
          "output_type": "stream",
          "text": [
            "Точность алгоритма на обучающей выборке: 97.973\n",
            "Точность алгоритма на обучающей выборке: 97.076\n"
          ],
          "name": "stdout"
        }
      ]
    },
    {
      "cell_type": "code",
      "metadata": {
        "colab": {
          "base_uri": "https://localhost:8080/"
        },
        "id": "AHFv3SVxZK7J",
        "outputId": "88c18330-fade-44f7-cf0c-c5acdd864e73"
      },
      "source": [
        "print(f'Точность алгоритма на тестовой выборке: {100-(lgs(y_test, predict(X_test, models_lr))):.3f}')\n",
        "print(f'Точность алгоритма на тестовой выборке: {100-(log_loss(predict(X_test, models_lr), y_test)):.3f}')"
      ],
      "execution_count": null,
      "outputs": [
        {
          "output_type": "stream",
          "text": [
            "Точность алгоритма на тестовой выборке: 99.034\n",
            "Точность алгоритма на тестовой выборке: 98.606\n"
          ],
          "name": "stdout"
        }
      ]
    },
    {
      "cell_type": "code",
      "metadata": {
        "colab": {
          "base_uri": "https://localhost:8080/",
          "height": 301
        },
        "id": "-uH_kLlUZNpL",
        "outputId": "0189166e-a606-4ed6-f1c6-6f9c0de3edf5"
      },
      "source": [
        "train_errors_lr = []\n",
        "test_errors_lr = []\n",
        "\n",
        "with warnings.catch_warnings():\n",
        "    warnings.simplefilter(\"ignore\")\n",
        "    #и здесь обучаем модели\n",
        "    for n in range(1, 31):\n",
        "        mods_lr = lr_adaboost(X_train, y_train, n)\n",
        "        train_errors_lr.append(log_loss(predict(X_train, mods_lr), y_train))\n",
        "        test_errors_lr.append(log_loss(predict(X_test, mods_lr), y_test))\n",
        "x = list(range(1, 31))\n",
        "\n",
        "plt.xlim(0, 30)\n",
        "plt.plot(x, train_errors_lr, label='train errors')\n",
        "plt.plot(x, test_errors_lr, label='test errors')\n",
        "plt.xlabel('N')\n",
        "plt.ylabel('Errors')\n",
        "plt.legend(loc='upper right')"
      ],
      "execution_count": null,
      "outputs": [
        {
          "output_type": "execute_result",
          "data": {
            "text/plain": [
              "<matplotlib.legend.Legend at 0x7f0de92af290>"
            ]
          },
          "metadata": {
            "tags": []
          },
          "execution_count": 13
        },
        {
          "output_type": "display_data",
          "data": {
            "image/png": "[encoded data removed]",
            "text/plain": [
              "<Figure size 432x288 with 1 Axes>"
            ]
          },
          "metadata": {
            "tags": []
          }
        }
      ]
    },
    {
      "cell_type": "markdown",
      "metadata": {
        "id": "Js_nOSTWX4T6"
      },
      "source": [
        "<b>Домашнее задание(необязательное, повышенной сложности):</b> Реализовать специальную функцию predict для бустинга на логистической регрессии выводящую предсказания по формуле: $ Predictions=sign(Score_{bust}) $,\n",
        "где sign равен единице для положительных и нулю для отрицательных значений, а $ Score_{bust}= \\sum \\alpha_iScore_i$. Баллы выдаваемые каждой моделью $Score_i$ можно найти при помощи вызова метода decision_function на моделе"
      ]
    },
    {
      "cell_type": "code",
      "metadata": {
        "id": "Def0w4sAX1Nj"
      },
      "source": [
        "def predict_new(X, models, n_classes = 2):\n",
        "\n",
        "    predictions = []\n",
        "\n",
        "    for alpha, clf in models:\n",
        "\n",
        "        predictions.append(clf.decision_function(X)*alpha)\n",
        "\n",
        "    # сформируем список с предсказаниями для каждого объекта\n",
        "    predictions_per_object = list(zip(*predictions))\n",
        "\n",
        "    # выберем в качестве итогового предсказания для каждого объекта то,\n",
        "    # за которое проголосовало большинство деревьев\n",
        "    voted_predictions = []\n",
        "    for obj in predictions_per_object:\n",
        "        voted_predictions.append(1 if sum(obj) > 0 else 0)\n",
        "\n",
        "    return np.array(voted_predictions)"
      ],
      "execution_count": null,
      "outputs": []
    },
    {
      "cell_type": "code",
      "metadata": {
        "colab": {
          "base_uri": "https://localhost:8080/"
        },
        "id": "8x_bLBXiZXuR",
        "outputId": "c156e7ca-e654-4f00-fd86-d24566146e04"
      },
      "source": [
        "lgloss_new = lgs(y_train, predict_new(X_train, models_lr), eps=1e-15, normalize=True, sample_weight=None, labels=None)\n",
        "print(f'Точность алгоритма на обучающей выборке: {100-lgloss_new:.3f}')\n",
        "print(f'Точность алгоритма на обучающей выборке: {100-(log_loss(predict_new(X_train, models_lr), y_train)):.3f}')"
      ],
      "execution_count": null,
      "outputs": [
        {
          "output_type": "stream",
          "text": [
            "Точность алгоритма на обучающей выборке: 97.973\n",
            "Точность алгоритма на обучающей выборке: 97.076\n"
          ],
          "name": "stdout"
        }
      ]
    },
    {
      "cell_type": "code",
      "metadata": {
        "colab": {
          "base_uri": "https://localhost:8080/"
        },
        "id": "CZTjbqpNZaKJ",
        "outputId": "d2ed4c11-4b7a-43db-81f8-4cbfa2c43c9c"
      },
      "source": [
        "print(f'Точность алгоритма на тестовой выборке: {100-(lgs(y_test, predict_new(X_test, models_lr))):.3f}')\n",
        "print(f'Точность алгоритма на тестовой выборке: {100-(log_loss(predict_new(X_test, models_lr), y_test)):.3f}')"
      ],
      "execution_count": null,
      "outputs": [
        {
          "output_type": "stream",
          "text": [
            "Точность алгоритма на тестовой выборке: 99.034\n",
            "Точность алгоритма на тестовой выборке: 98.606\n"
          ],
          "name": "stdout"
        }
      ]
    },
    {
      "cell_type": "markdown",
      "metadata": {
        "id": "wylnz7Y0ZpMj"
      },
      "source": [
        "## <center><a class=\"anchor\" id=\"theor\">Теория </a><center>"
      ]
    },
    {
      "cell_type": "markdown",
      "metadata": {
        "id": "WrgYbxN2bshh"
      },
      "source": [
        "## Алгоритм градиентного бустинга (GBM)"
      ]
    },
    {
      "cell_type": "markdown",
      "metadata": {
        "id": "MQ4Wq8345gtn"
      },
      "source": []
    },
    {
      "cell_type": "markdown",
      "metadata": {
        "id": "76g2hO7kbshi"
      },
      "source": [
        "Итоговый алгоритм ищется в виде взвешенной суммы базовых алгоритмов (обратите внимание: не среднего, а суммы):\n",
        "\n",
        "$$a_{N}(x) = \\sum^{N}_{n=1}\\gamma_{n}b_{n}(x).$$"
      ]
    },
    {
      "cell_type": "markdown",
      "metadata": {
        "id": "1hrsZoI9bshj"
      },
      "source": [
        "В случае линейной регрессии задача состоит в минимизации среднеквадратичного функционала ошибки:\n",
        "\n",
        "$$\\frac{1}{l}\\sum_{i=1}^{l}(a(x_{i}) - y_{i})^{2} \\rightarrow \\text{min}.$$"
      ]
    },
    {
      "cell_type": "markdown",
      "metadata": {
        "id": "z2nkwUaQbshj"
      },
      "source": [
        "Так как ансамбль строится итеративно, нужно вначале обучить первый простой алгоритм:\n",
        "\n",
        "$$b_{1}(x) = \\underset{b}{\\text{argmin}}\\frac{1}{l}\\sum_{i=1}^{l}(b(x_{i}) - y_{i})^{2}.$$"
      ]
    },
    {
      "cell_type": "markdown",
      "metadata": {
        "id": "4Ac6rmRhbshk"
      },
      "source": [
        "Как мы помним, такая задача легко решается методом градиентного спуска."
      ]
    },
    {
      "cell_type": "markdown",
      "metadata": {
        "id": "u8FfQZLgbshl"
      },
      "source": [
        "После того, как мы нашли первый алгоритм $b_{1}(x)$, нам нужно добавить в ансамбль еще один алгоритм $b_{2}(x)$. Для начала найдем разницу ответов первого алгоритма с реальными ответами:\n",
        "\n",
        "$$s_{i}^{(1)} = y_{i} - b_{1}(x_{i}).$$\n",
        "\n",
        "Если прибавить эти значения к полученным предсказаниям, получим идеальный ответ. Таким образом, новый алгоритм логично обучать так, чтобы его ответы были максимально близки к этой разнице, чтобы при их прибавлении к ответам первого алгоритма мы получили близкие к реальным. Значит, второй алгоритм будет обучаться на следующем функционале ошибки:\n",
        "\n",
        "$$b_{2}(x) = \\underset{b}{\\text{argmin}}\\frac{1}{l}\\sum_{i=1}^{l}(b(x_{i}) - s_{i}^{(1)})^{2} = \\underset{b}{\\text{argmin}}\\frac{1}{l}\\sum_{i=1}^{l}(b(x_{i}) - (y_{i} - b_{1}(x_{i})))^{2}.$$"
      ]
    },
    {
      "cell_type": "markdown",
      "metadata": {
        "id": "KqJFy1z5bshm"
      },
      "source": [
        "Каждый следующий алгоритм также настраивается на остатки композиции из предыдущих алгоритмов:\n",
        "\n",
        "$$b_{N}(x) = \\underset{b}{\\text{argmin}}\\frac{1}{l}\\sum_{i=1}^{l}(b(x_{i}) - s_{i}^{(N)})^{2},$$\n",
        "\n",
        "$$s_{i}^{(N)} = y_{i} - \\sum_{n=1}^{N-1}b_{n}(x_{i}) = y_{i} - a_{N-1}(x_{i}).$$"
      ]
    },
    {
      "cell_type": "markdown",
      "metadata": {
        "id": "VjU9v-qObshn"
      },
      "source": [
        "Таким образом, каждый новый алгоритм корректирует ошибки предыдущих, и так продолжается до момента получения приемлемой ошибки на композиции. Вектор коэффициентов $s$ при этом называют _вектором сдвига_."
      ]
    },
    {
      "cell_type": "markdown",
      "metadata": {
        "id": "BvZvWsCUbsho"
      },
      "source": [
        "Выбор сдвига из условия $s_{i} = y_{i} - a_{N-1}(x_{i})$ требует точного совпадения полученных предсказаний и ответов, однако, в более общем случае вектор сдвига принимают с учетом особенностей используемой в данном случае функции потерь: вектор сдвига должен ее минимизировать, то есть направлять в сторону уменьшения. Как мы помним из метода градиентного спуска, направление наискорейшего убывания функции совпадает с ее антиградиентом. Таким образом, если при обучении мы минимизируем функционал ошибки $L(y,z)$\n",
        "\n",
        "$$\\sum_{i=1}^{l}L(y_{i}, a_{N-1}(x_{i}) + s_{i}) \\rightarrow \\underset{s}{\\text{min}},$$\n",
        "\n",
        "сдвиг на каждом шаге должен быть противоположен производной функции потерь в точке $z = a_{N-1}(x_{i})$.\n",
        "\n",
        "$$s_{i} = \\left.-\\frac{\\partial L}{\\partial z} \\right|_{z = a_{N-1}(x_{i})}.$$"
      ]
    },
    {
      "cell_type": "markdown",
      "metadata": {
        "id": "NZEVla3Rbsho"
      },
      "source": [
        "Каждый новый алгоритм таким образом выбирается так, чтобы как можно лучше приближать антиградиент ошибки на обучающей выборке.\n",
        "\n",
        "После того, как мы вычислили требуемый для минимизации ошибки сдвиг $s$, нужно настроить алгоритм $b_{N}(x)$ так, чтобы он давал максимально близкие к нему ответы, то есть обучать его именно на вектор сдвига. Близость ответов алгоритма к сдвигу обычно оценивается с помощью среднеквадратичной ошибки независимо от условий исхожной задачи (так как исходно используемая функция потерь $L$ уже учтена в сдвигах $s_{i}$):\n",
        "\n",
        "$$b_{N}(x) = \\underset{s}{\\text{argmin}}\\frac{1}{l}\\sum_{i=1}^{l}(b(x_{i})-s_{i})^{2}.$$"
      ]
    },
    {
      "cell_type": "markdown",
      "metadata": {
        "id": "QPvJXnRebshp"
      },
      "source": [
        "Коэффициент $\\gamma$ для найденного алгоритма также находится по аналогии с наискорейшим градиентным спуском:\n",
        "\n",
        "$$\\gamma_{N} = \\underset{\\gamma}{\\text{argmin}}\\sum_{i=1}^{l}L(y_{i},a_{N-1}(x_{i}) + \\gamma b_{N}(x_{i})).$$"
      ]
    },
    {
      "cell_type": "markdown",
      "metadata": {
        "id": "9d5iQMt3bshq"
      },
      "source": [
        "Обычно в качестве функции потерь в задачах регрессии принимается квадратичная функция потерь ($L_{2}$ loss):\n",
        "\n",
        "$$L(y, z) = (y-z)^{2},$$\n",
        "\n",
        "его производная по $z$ примет вид\n",
        "\n",
        "$$L'(y, z) = 2(z-y)$$\n",
        "\n",
        "или модуль отклонения ($L_{1}$ loss)\n",
        "\n",
        "$$L(y, z) = |y-z|,$$\n",
        "\n",
        "его производная по $z$ будет иметь вид\n",
        "\n",
        "$$L'(y, z) = \\text{sign}(z-y).$$\n",
        "\n",
        "В случае классификации - логистическая функция потерь:\n",
        "\n",
        "$$L(y, z) = log(1 + exp(-yz))$$\n",
        "\n",
        "ее производная:\n",
        "\n",
        "$$L'(y, z) = \\frac{y_{i}}{1+exp(-yz)}.$$\n",
        "\n",
        "Следует помнить, что компоненты $s_{i}$, вычисляемые через эти производные, берутся с минусом."
      ]
    },
    {
      "cell_type": "markdown",
      "metadata": {
        "id": "MaEoz2tAbshr"
      },
      "source": [
        "Аналогично алгоритму градиентного спуска, имеет смысл добавлять ответ каждого нового алгоритма не полностью, а с некоторым шагом $\\eta \\in (0, 1]$, так как базовые алгоритмы обычно достаточно простые (например, деревья малой глубины), и они могут плохо приближать вектор антиградиента, и тогда вместо приближения к минимуму мы будем получать случайное блуждание в пространстве. В градиентном бустинге такой прием называется сокращением шага.\n",
        "\n",
        "$$a_{N}(x) = a_{N-1}(x) + \\eta \\gamma_{N} b_{N}(x).$$\n",
        "\n",
        "Градиентный бустинг склонен к переобучению при увеличении числа итераций $N$ или глубины входящих в него деревьев. Стоит об этом помнить при построении алгоритма и выбирать оптимальные параметры по отложенной выборке или с помощью кросс-валидации."
      ]
    },
    {
      "cell_type": "markdown",
      "metadata": {
        "id": "djO4wPtSbshr"
      },
      "source": [
        "В конечном итоге алгоритм построения модели градиентного бустинга заключается в следующих шагах:\n",
        "\n",
        "__1.__ Для инициализации выбирается произвольный простой алгоритм $b_{0}(x)$, в его роли можно брать обычные константные алгоритмы: в случае задачи регрессии это может быть\n",
        "\n",
        "$$b_{0}(x) = 0$$\n",
        "\n",
        "или среднее значение по всем объектам обучающей выборки\n",
        "\n",
        "$$b_{0}(x) = \\frac{1}{l}\\sum_{i=1}^{l}y_{i};$$\n",
        "\n",
        "в случае классификации - самый часто встречающийся в выборке класс\n",
        "\n",
        "$$b_{0}(x) = \\underset{y}{\\text{argmax}}\\sum_{i=1}^{l}[y_{i} = y].$$\n",
        "\n",
        "__2.__ Для каждой итерации вычисляется вектор сдвига $s$:\n",
        "\n",
        "$$s = \\left ( \\left.-\\frac{\\partial L}{\\partial z} \\right|_{z = a_{n-1}(x_{1})},...,\\left.-\\frac{\\partial L}{\\partial z} \\right|_{z = a_{n-1}(x_{l})}\\right );$$\n",
        "\n",
        "находится алгоритм\n",
        "\n",
        "$$b_{n}(x) = \\underset{s}{\\text{argmin}}\\frac{1}{l}\\sum_{i=1}^{l}(b(x_{i})-s_{i})^{2};$$\n",
        "\n",
        "находится оптимальный коэффициент $\\gamma$\n",
        "\n",
        "$$\\gamma_{n} = \\underset{\\gamma}{\\text{argmin}}\\sum_{i=1}^{l}L(y_{i},a_{n-1}(x_{i}) + \\gamma b_{n}(x_{i})).$$\n",
        "\n",
        "и добавляется в имеющийся ансамбль с умножением на шаг $\\eta$, называемый _скоростью обучения_ (опционно)\n",
        "\n",
        "$$a_{n}(x) = a_{n-1}(x) + \\eta \\gamma_{n} b_{n}(x).$$\n",
        "\n",
        "__3.__ При достижении критериев остановки компонуется итоговая модель."
      ]
    },
    {
      "cell_type": "markdown",
      "metadata": {
        "id": "Rg5ilDbTbshs"
      },
      "source": [
        "### Стохастический градиентный бустинг"
      ]
    },
    {
      "cell_type": "markdown",
      "metadata": {
        "id": "eJrobWhDbsht"
      },
      "source": [
        "Как и в случае с градиентым спуском, есть так называемый стохастический градиентный бустинг, являющийся упрощенной (в плане потребления ресурсов) версией алгоритма. Его суть заключается в обучении каждого нового базового алгоритма на новой итерации не на всей обучающей выборке, а на некоторой ее случайной подвыборке. Практика показывает, что такой алгоритм позволяет получить такую же ошибку или даже уменьшить ее при том же числе итераций, что и в случае использования обычного бустинга."
      ]
    },
    {
      "cell_type": "markdown",
      "metadata": {
        "id": "qTdnsVCnbshu"
      },
      "source": [
        "## Реализация алгоритма градиентного бустинга"
      ]
    },
    {
      "cell_type": "markdown",
      "metadata": {
        "id": "0ll5qHP2bshv"
      },
      "source": [
        "Реализуем средствами Python алгоритм градиентного бустинга для деревьев решений."
      ]
    },
    {
      "cell_type": "markdown",
      "metadata": {
        "id": "1sG8r2RPbshw"
      },
      "source": [
        "Реализация деревьев решений была дважды продемонстрирована в предыдущих уроках, в этом не будем ее повторять и возьмем готовую реализацию дерева решений для регрессии из библиотеки `sklearn`."
      ]
    },
    {
      "cell_type": "code",
      "metadata": {
        "id": "Qk-74OFhbshx"
      },
      "source": [
        "from sklearn.tree import DecisionTreeRegressor\n",
        "\n",
        "from sklearn import model_selection\n",
        "import numpy as np"
      ],
      "execution_count": null,
      "outputs": []
    },
    {
      "cell_type": "markdown",
      "metadata": {
        "id": "LYD1kLOibsh0"
      },
      "source": [
        "Используем один из \"игрушечных\" датасетов из той же библиотеки."
      ]
    },
    {
      "cell_type": "code",
      "metadata": {
        "id": "eDZbSvqMbsh1"
      },
      "source": [
        "from sklearn.datasets import load_diabetes"
      ],
      "execution_count": null,
      "outputs": []
    },
    {
      "cell_type": "code",
      "metadata": {
        "id": "leu8bBI7bsh6"
      },
      "source": [
        "X, y = load_diabetes(return_X_y=True)"
      ],
      "execution_count": null,
      "outputs": []
    },
    {
      "cell_type": "markdown",
      "metadata": {
        "id": "cz_JhiIpbsh8"
      },
      "source": [
        "Разделим выборку на обучающую и тестовую в соотношении 75/25."
      ]
    },
    {
      "cell_type": "code",
      "metadata": {
        "id": "ExZPR9FLbsh9"
      },
      "source": [
        "X_train, X_test, y_train, y_test = model_selection.train_test_split(X, y, test_size=0.25)"
      ],
      "execution_count": null,
      "outputs": []
    },
    {
      "cell_type": "markdown",
      "metadata": {
        "id": "7xJCdggZbsh_"
      },
      "source": [
        "Напишем функцию, реализующую предсказание в градиентном бустинге."
      ]
    },
    {
      "cell_type": "code",
      "metadata": {
        "id": "wU_Rkc63bsiA"
      },
      "source": [
        "def gb_predict(X, trees_list, coef_list, eta):\n",
        "    # Реализуемый алгоритм градиентного бустинга будет инициализироваться нулевыми значениями,\n",
        "    # поэтому все деревья из списка trees_list уже являются дополнительными и при предсказании прибавляются с шагом eta\n",
        "    return np.array([sum([eta* coef * alg.predict([x])[0] for alg, coef in zip(trees_list, coef_list)]) for x in X])"
      ],
      "execution_count": null,
      "outputs": []
    },
    {
      "cell_type": "markdown",
      "metadata": {
        "id": "6gZvsyfSbsiD"
      },
      "source": [
        "В качестве функционала ошибки будем использовать среднеквадратичную ошибку. Реализуем соответствующую функцию."
      ]
    },
    {
      "cell_type": "code",
      "metadata": {
        "id": "0xbjFIEKbsiE"
      },
      "source": [
        "def mean_squared_error(y_real, prediction):\n",
        "    return (sum((y_real - prediction)**2)) / len(y_real)"
      ],
      "execution_count": null,
      "outputs": []
    },
    {
      "cell_type": "markdown",
      "metadata": {
        "id": "Qlr3KD6zbsiH"
      },
      "source": [
        "Используем $L_{2}$ loss $L(y, z) = (y-z)^{2},$ ее производная по $z$ примет вид $L'(y, z) = 2(z-y)$. Реализуем ее также в виде функции (коэффициент 2 можно отбросить)."
      ]
    },
    {
      "cell_type": "code",
      "metadata": {
        "id": "WRaZEd3ebsiI"
      },
      "source": [
        "def bias(y, z):\n",
        "    return (y - z)"
      ],
      "execution_count": null,
      "outputs": []
    },
    {
      "cell_type": "markdown",
      "metadata": {
        "id": "ut-7dBgVbsiK"
      },
      "source": [
        "Реализуем функцию обучения градиентного бустинга."
      ]
    },
    {
      "cell_type": "code",
      "metadata": {
        "id": "HoIdAoPYbsiL"
      },
      "source": [
        "def gb_fit(n_trees, max_depth, X_train, X_test, y_train, y_test, coefs, eta):\n",
        "\n",
        "    # Деревья будем записывать в список\n",
        "    trees = []\n",
        "\n",
        "    # Будем записывать ошибки на обучающей и тестовой выборке на каждой итерации в список\n",
        "    train_errors = []\n",
        "    test_errors = []\n",
        "\n",
        "    for i in range(n_trees):\n",
        "        tree = DecisionTreeRegressor(max_depth=max_depth, random_state=42)\n",
        "\n",
        "        # инициализируем бустинг начальным алгоритмом, возвращающим ноль,\n",
        "        # поэтому первый алгоритм просто обучаем на выборке и добавляем в список\n",
        "        if len(trees) == 0:\n",
        "            # обучаем первое дерево на обучающей выборке\n",
        "            tree.fit(X_train, y_train)\n",
        "\n",
        "            train_errors.append(mean_squared_error(y_train, gb_predict(X_train, trees, coefs, eta)))\n",
        "            test_errors.append(mean_squared_error(y_test, gb_predict(X_test, trees, coefs, eta)))\n",
        "        else:\n",
        "            # Получим ответы на текущей композиции\n",
        "            target = gb_predict(X_train, trees, coefs, eta)\n",
        "\n",
        "            # алгоритмы начиная со второго обучаем на сдвиг\n",
        "            tree.fit(X_train, bias(y_train, target))\n",
        "\n",
        "            train_errors.append(mean_squared_error(y_train, gb_predict(X_train, trees, coefs, eta)))\n",
        "            test_errors.append(mean_squared_error(y_test, gb_predict(X_test, trees, coefs, eta)))\n",
        "\n",
        "        trees.append(tree)\n",
        "\n",
        "    return trees, train_errors, test_errors"
      ],
      "execution_count": null,
      "outputs": []
    },
    {
      "cell_type": "markdown",
      "metadata": {
        "id": "0vkHFhhzbsiN"
      },
      "source": [
        "Теперь обучим несколько моделей с разными параметрами и исследуем их поведение."
      ]
    },
    {
      "cell_type": "code",
      "metadata": {
        "id": "2WvxluSlbsiO"
      },
      "source": [
        "# Число деревьев в ансамбле\n",
        "n_trees = 10\n",
        "\n",
        "# для простоты примем коэффициенты равными 1\n",
        "coefs = [1] * n_trees\n",
        "\n",
        "# Максимальная глубина деревьев\n",
        "max_depth = 3\n",
        "\n",
        "# Шаг\n",
        "eta = 1\n",
        "\n",
        "trees, train_errors, test_errors = gb_fit(n_trees, max_depth, X_train, X_test, y_train, y_test, coefs, eta)"
      ],
      "execution_count": null,
      "outputs": []
    },
    {
      "cell_type": "code",
      "metadata": {
        "id": "GDMFn3R-bsiR"
      },
      "source": [
        "def evaluate_alg(X_train, X_test, y_train, y_test, trees, coefs, eta):\n",
        "    train_prediction = gb_predict(X_train, trees, coefs, eta)\n",
        "\n",
        "    print(f'Ошибка алгоритма из {n_trees} деревьев глубиной {max_depth} \\\n",
        "    с шагом {eta} на тренировочной выборке: {mean_squared_error(y_train, train_prediction)}')\n",
        "\n",
        "    test_prediction = gb_predict(X_test, trees, coefs, eta)\n",
        "\n",
        "    print(f'Ошибка алгоритма из {n_trees} деревьев глубиной {max_depth} \\\n",
        "    с шагом {eta} на тестовой выборке: {mean_squared_error(y_test, test_prediction)}')"
      ],
      "execution_count": null,
      "outputs": []
    },
    {
      "cell_type": "code",
      "metadata": {
        "id": "A2z_xXFiKmlP"
      },
      "source": [],
      "execution_count": null,
      "outputs": []
    },
    {
      "cell_type": "code",
      "metadata": {
        "colab": {
          "base_uri": "https://localhost:8080/"
        },
        "id": "WEBbjCynbsiV",
        "outputId": "a547f671-f96f-45d9-ffcb-b1c16c100c79"
      },
      "source": [
        "evaluate_alg(X_train, X_test, y_train, y_test, trees, coefs, eta)"
      ],
      "execution_count": null,
      "outputs": [
        {
          "output_type": "stream",
          "text": [
            "Ошибка алгоритма из 10 деревьев глубиной 3     с шагом 1 на тренировочной выборке: 1023.9709165363556\n",
            "Ошибка алгоритма из 10 деревьев глубиной 3     с шагом 1 на тестовой выборке: 4498.382344916998\n"
          ],
          "name": "stdout"
        }
      ]
    },
    {
      "cell_type": "markdown",
      "metadata": {
        "id": "TluGn7Iubsib"
      },
      "source": [
        "Построим графики зависимости ошибки на обучающей и тестовой выборках от числа\n",
        "\n",
        "---\n",
        "\n",
        "итераций."
      ]
    },
    {
      "cell_type": "code",
      "metadata": {
        "id": "QXrSdSgjbsic"
      },
      "source": [
        "import matplotlib.pyplot as plt"
      ],
      "execution_count": null,
      "outputs": []
    },
    {
      "cell_type": "code",
      "metadata": {
        "id": "gjDdKkgObsif"
      },
      "source": [
        "def get_error_plot(n_trees, train_err, test_err):\n",
        "    plt.xlabel('Iteration number')\n",
        "    plt.ylabel('MSE')\n",
        "    plt.xlim(0, n_trees)\n",
        "    plt.plot(list(range(n_trees)), train_err, label='train error')\n",
        "    plt.plot(list(range(n_trees)), test_err, label='test error')\n",
        "    plt.legend(loc='upper right')\n",
        "    plt.show()"
      ],
      "execution_count": null,
      "outputs": []
    },
    {
      "cell_type": "code",
      "metadata": {
        "colab": {
          "base_uri": "https://localhost:8080/",
          "height": 279
        },
        "id": "Was5hOJPbsih",
        "outputId": "0422e387-207c-4d7c-9ea8-2df898b11dc6"
      },
      "source": [
        "get_error_plot(n_trees, train_errors, test_errors)"
      ],
      "execution_count": null,
      "outputs": [
        {
          "output_type": "display_data",
          "data": {
            "image/png": "[encoded data removed]",
            "text/plain": [
              "<Figure size 432x288 with 1 Axes>"
            ]
          },
          "metadata": {
            "tags": []
          }
        }
      ]
    },
    {
      "cell_type": "markdown",
      "metadata": {
        "id": "NS16dUwRbsik"
      },
      "source": [
        "Такой результат не является удовлетворительным"
      ]
    },
    {
      "cell_type": "markdown",
      "metadata": {
        "id": "9n8R32khbsil"
      },
      "source": [
        "Увеличим число деревьев."
      ]
    },
    {
      "cell_type": "code",
      "metadata": {
        "colab": {
          "background_save": true
        },
        "id": "SdiTyDJrbsil"
      },
      "source": [
        "n_trees = 100\n",
        "coefs = [1] * n_trees\n",
        "\n",
        "trees, train_errors, test_errors = gb_fit(n_trees, max_depth, X_train, X_test, y_train, y_test, coefs, eta)"
      ],
      "execution_count": null,
      "outputs": []
    },
    {
      "cell_type": "code",
      "metadata": {
        "colab": {
          "background_save": true
        },
        "id": "PZ2BU15lbsin",
        "outputId": "5ad94cb7-9f83-48b0-9996-e2f1fb7f6e77"
      },
      "source": [
        "evaluate_alg(X_train, X_test, y_train, y_test, trees, coefs, eta)"
      ],
      "execution_count": null,
      "outputs": [
        {
          "output_type": "stream",
          "text": [
            "Ошибка алгоритма из 100 деревьев глубиной 3     с шагом 1 на тренировочной выборке: 2.3672635446394446\n",
            "Ошибка алгоритма из 100 деревьев глубиной 3     с шагом 1 на тестовой выборке: 4897.916089102731\n"
          ],
          "name": "stdout"
        }
      ]
    },
    {
      "cell_type": "code",
      "metadata": {
        "colab": {
          "background_save": true
        },
        "id": "Wuls3BYWbsip",
        "outputId": "030b8401-8409-4814-eab3-2b141d81aa7d"
      },
      "source": [
        "get_error_plot(n_trees, train_errors, test_errors)"
      ],
      "execution_count": null,
      "outputs": [
        {
          "output_type": "display_data",
          "data": {
            "image/png": "[encoded data removed]",
            "text/plain": [
              "<Figure size 432x288 with 1 Axes>"
            ]
          },
          "metadata": {
            "tags": []
          }
        }
      ]
    },
    {
      "cell_type": "markdown",
      "metadata": {
        "id": "V2gubWC0bsis"
      },
      "source": [
        "Теперь попробуем уменьшить шаг."
      ]
    },
    {
      "cell_type": "code",
      "metadata": {
        "colab": {
          "background_save": true
        },
        "id": "SqfMt3KMbsis"
      },
      "source": [],
      "execution_count": null,
      "outputs": []
    },
    {
      "cell_type": "code",
      "metadata": {
        "colab": {
          "background_save": true
        },
        "id": "0Rkc97-ibsiu",
        "outputId": "d4fcf003-d34b-4ade-c1df-60a032e5bf0e"
      },
      "source": [
        "evaluate_alg(X_train, X_test, y_train, y_test, trees, coefs, eta)"
      ],
      "execution_count": null,
      "outputs": [
        {
          "output_type": "stream",
          "text": [
            "Ошибка алгоритма из 100 деревьев глубиной 3     с шагом 1 на тренировочной выборке: 2.3672635446394446\n",
            "Ошибка алгоритма из 100 деревьев глубиной 3     с шагом 1 на тестовой выборке: 4897.916089102731\n"
          ],
          "name": "stdout"
        }
      ]
    },
    {
      "cell_type": "code",
      "metadata": {
        "colab": {
          "background_save": true
        },
        "id": "x0Ij4Fbrbsiw",
        "outputId": "c7f1ef4f-4cb3-4d46-b70d-df0fe01ed83f"
      },
      "source": [
        "get_error_plot(n_trees, train_errors, test_errors)"
      ],
      "execution_count": null,
      "outputs": [
        {
          "output_type": "display_data",
          "data": {
            "image/png": "[encoded data removed]",
            "text/plain": [
              "<Figure size 432x288 with 1 Axes>"
            ]
          },
          "metadata": {
            "tags": []
          }
        }
      ]
    },
    {
      "cell_type": "markdown",
      "metadata": {
        "id": "NOM9bowjbsiy"
      },
      "source": [
        "Видим, что качество обучения улучшается."
      ]
    },
    {
      "cell_type": "markdown",
      "metadata": {
        "id": "OCU1ZgSxbsi0"
      },
      "source": [
        "Уменьшим шаг до 0.01."
      ]
    },
    {
      "cell_type": "code",
      "metadata": {
        "colab": {
          "background_save": true
        },
        "id": "QvDpXS-Ybsi1"
      },
      "source": [
        "eta = 0.01\n",
        "\n",
        "trees, train_errors, test_errors = gb_fit(n_trees, max_depth, X_train, X_test, y_train, y_test, coefs, eta)"
      ],
      "execution_count": null,
      "outputs": []
    },
    {
      "cell_type": "code",
      "metadata": {
        "colab": {
          "background_save": true
        },
        "id": "l7l4ckNubsi4",
        "outputId": "dd118c21-8296-474f-a45e-6282fad257c2"
      },
      "source": [
        "evaluate_alg(X_train, X_test, y_train, y_test, trees, coefs, eta)"
      ],
      "execution_count": null,
      "outputs": [
        {
          "output_type": "stream",
          "text": [
            "Ошибка алгоритма из 100 деревьев глубиной 3     с шагом 0.01 на тренировочной выборке: 5821.226792588411\n",
            "Ошибка алгоритма из 100 деревьев глубиной 3     с шагом 0.01 на тестовой выборке: 8535.822891403197\n"
          ],
          "name": "stdout"
        }
      ]
    },
    {
      "cell_type": "code",
      "metadata": {
        "colab": {
          "background_save": true
        },
        "id": "L0dPsV_9bsi5",
        "outputId": "8236e72e-be40-4db1-b9f8-b888c76de5d1"
      },
      "source": [
        "get_error_plot(n_trees, train_errors, test_errors)"
      ],
      "execution_count": null,
      "outputs": [
        {
          "output_type": "display_data",
          "data": {
            "image/png": "[encoded data removed]",
            "text/plain": [
              "<Figure size 432x288 with 1 Axes>"
            ]
          },
          "metadata": {
            "tags": []
          }
        }
      ]
    },
    {
      "cell_type": "markdown",
      "metadata": {
        "id": "YTHcPMYhbsi7"
      },
      "source": [
        "При таком размере шага алгоритм сходится, но ему для достижения удовлетворительных показателей требуется большее количество итераций."
      ]
    },
    {
      "cell_type": "markdown",
      "metadata": {
        "id": "CoXzz4Fhbsi8"
      },
      "source": [
        "Вернемся к шагу 0.1 и попробуем увеличить глубину деревьев"
      ]
    },
    {
      "cell_type": "code",
      "metadata": {
        "colab": {
          "background_save": true
        },
        "id": "hvLCSptsbsi8"
      },
      "source": [
        "eta = 0.1\n",
        "max_depth = 5\n",
        "\n",
        "trees, train_errors, test_errors = gb_fit(n_trees, max_depth, X_train, X_test, y_train, y_test, coefs, eta)"
      ],
      "execution_count": null,
      "outputs": []
    },
    {
      "cell_type": "code",
      "metadata": {
        "colab": {
          "background_save": true
        },
        "id": "H493-X9Cbsi-",
        "outputId": "1733e4db-2192-407c-9bd7-30cc02ff1d3a"
      },
      "source": [
        "evaluate_alg(X_train, X_test, y_train, y_test, trees, coefs, eta)"
      ],
      "execution_count": null,
      "outputs": [
        {
          "output_type": "stream",
          "text": [
            "Ошибка алгоритма из 100 деревьев глубиной 5     с шагом 0.1 на тренировочной выборке: 91.01632730876932\n",
            "Ошибка алгоритма из 100 деревьев глубиной 5     с шагом 0.1 на тестовой выборке: 3958.8060838463825\n"
          ],
          "name": "stdout"
        }
      ]
    },
    {
      "cell_type": "code",
      "metadata": {
        "colab": {
          "background_save": true
        },
        "id": "1ZGS4hIMbsjB",
        "outputId": "229ccd8c-7a5c-4b5c-ab98-1fb9b67f81d6"
      },
      "source": [
        "get_error_plot(n_trees, train_errors, test_errors)"
      ],
      "execution_count": null,
      "outputs": [
        {
          "output_type": "display_data",
          "data": {
            "image/png": "[encoded data removed]",
            "text/plain": [
              "<Figure size 432x288 with 1 Axes>"
            ]
          },
          "metadata": {
            "tags": []
          }
        }
      ]
    },
    {
      "cell_type": "markdown",
      "metadata": {
        "id": "IpD13qpubsjH"
      },
      "source": [
        "Ошибка на обучающей выборке упала, а на тестовой несколько поднялась, то есть в данном случае можем говорить о появлении переобучения."
      ]
    },
    {
      "cell_type": "markdown",
      "metadata": {
        "id": "gjcLXlvZbsjI"
      },
      "source": [
        "В целом, тут мы показали, что варьируя параметры обучения градиентного бустинга можно добиваться различного уровня точности модели."
      ]
    },
    {
      "cell_type": "markdown",
      "metadata": {
        "id": "Gn6K3xoIbsjJ"
      },
      "source": [
        "Существуют различные реализации градиентного бустинга, и одна из самых популярных и широко используемых - XGBoost (в Python содержится в библиотеке с аналогичным названием). С этой реализацией можно ознакомиться в дополнительных материалах."
      ]
    },
    {
      "cell_type": "markdown",
      "metadata": {
        "id": "Z2tMUhhXbsjK"
      },
      "source": [
        "## AdaBoost"
      ]
    },
    {
      "cell_type": "markdown",
      "metadata": {
        "id": "ymxQoIaNbsjK"
      },
      "source": [
        "Алгоритм AdaBoost (Adaptive boosting) также в настоящее время является одним из подвидов градиентного бустинга, однако фактически он является своего рода \"предшественником\" алгоритма градиентного бустинга, после разработки которого став его частным случаем."
      ]
    },
    {
      "cell_type": "markdown",
      "metadata": {
        "id": "b-P-YoMabsjL"
      },
      "source": [
        "Для задачи бинарной классификации он заключается в использовании слабых классификаторов (например, деревьев глубиной 1 - так называемых \"пней\") в цикле, с придаванием объектам весов. После каждого шага итерации, когда разделяющая плоскость классификатора делит пространство объектов на две части, веса объектов перераспределяются, и веса неправильно классифицированных объектов увеличиваются, чтобы на следующей итерации классификатор акцентировался на этих объектах. Классификатору также присваивается вес в зависимости от его точности. Затем полученные деревья с весами объединяются в один сильный классификатор. В этом и заключается адаптивность алгоритма. Алгоритм AdaBoost также называют алгоритмом усиления классификаторов."
      ]
    },
    {
      "cell_type": "markdown",
      "metadata": {
        "id": "0X9EilDubsjL"
      },
      "source": [
        "Таким образом, его алгоритм заключается в следующем:\n",
        "\n",
        "__1.__ Инициализация начальных весов объектов из выборки длиной $l$:\n",
        "\n",
        "$$D_{1}(i) = \\frac{1}{l}$$\n",
        "\n",
        "__2.__ Для каждого из $N$ деревьев в ансамбле:\n",
        "\n",
        "- находим классификатор $b_{n}$, который минимизирует взвешенную ошибку классификации\n",
        "\n",
        "$$b_{n} = \\underset{b}{\\text{argmin}}\\;\\varepsilon_{j},$$\n",
        "\n",
        "    где\n",
        "\n",
        "$$\\varepsilon_{j} = \\sum_{i=1}^{l}D_{n}(i)[y_{i}\\neq b_{j}(x)]$$\n",
        "\n",
        "- критерием остановки является значение $\\varepsilon_{j} \\geq 0.5$. При таком значении ошибки нужно выбрать другой классификатор и продолжить.\n",
        "\n",
        "- выбираем вес для дерева $\\alpha_{n}$ по формуле\n",
        "\n",
        "$$\\alpha_{n} = \\frac{1}{2}\\text{ln}\\frac{1 - \\varepsilon_{n}}{\\varepsilon_{n}}$$\n",
        "\n",
        "- обновляем веса при объектах:\n",
        "\n",
        "$$D_{n+1}(i) = \\frac{D_{n}(i)e^{-\\alpha_{n}y_{i}b_{n}(x_{i})}}{Z_{n}},$$\n",
        "\n",
        "выражение $y_{i}b_{n}(x_{i})$ в случае $Y = \\{-1, 1\\}$ будет равняться 1 для правильно классифицированных объектов и -1 для неправильно классифицированных, то есть по сути правильность классификации будет означать, будет $e^{\\alpha_{n}}$ стоять в числителе или в знаменателе формулы. В случае $Y = \\{0,1\\}$ вес будет уменьшаться у неправильно классифицированных объектов, а у неправильно классифицированных - оставаться неизменным (до нормализации). $Z_{n}$ здесь - нормализующий параметр, выбираемый так, чтобы $D_{n+1}$ по своей сути являлся распределением вероятностей, то есть\n",
        "\n",
        "$$\\sum_{i=1}^{l}D_{n+1} = 1.$$\n",
        "\n",
        "__3.__ Строим получившуюся модель\n",
        "\n",
        "$$a(x) = \\text{sign}\\left( \\sum_{n=1}^{N}\\alpha_{n}b_{n}(x) \\right).$$"
      ]
    },
    {
      "cell_type": "markdown",
      "metadata": {
        "id": "tG5JA1ALbsjM"
      },
      "source": [
        "Напишем его простую реализацию."
      ]
    },
    {
      "cell_type": "code",
      "metadata": {
        "colab": {
          "background_save": true
        },
        "id": "AMMYdEpSbsjM"
      },
      "source": [
        "from sklearn.tree import DecisionTreeClassifier\n",
        "from sklearn.datasets import load_breast_cancer"
      ],
      "execution_count": null,
      "outputs": []
    },
    {
      "cell_type": "code",
      "metadata": {
        "id": "2cQW-bglbsjP"
      },
      "source": [
        "X, y = load_breast_cancer(return_X_y=True)"
      ],
      "execution_count": null,
      "outputs": []
    },
    {
      "cell_type": "markdown",
      "metadata": {
        "id": "HbArvbGPbsjS"
      },
      "source": [
        "Разделим выборку на обучающую и тестовую"
      ]
    },
    {
      "cell_type": "code",
      "metadata": {
        "colab": {
          "background_save": true
        },
        "id": "-3Q2bSlibsjV"
      },
      "source": [
        "X_train, X_test, y_train, y_test = model_selection.train_test_split(X, y, test_size=0.25)"
      ],
      "execution_count": null,
      "outputs": []
    },
    {
      "cell_type": "markdown",
      "metadata": {
        "id": "C-YeAmXObsjZ"
      },
      "source": [
        "Реализуем функцию подсчета ошибки"
      ]
    },
    {
      "cell_type": "code",
      "metadata": {
        "colab": {
          "background_save": true
        },
        "id": "qxVwBxTtbsja"
      },
      "source": [
        "def get_error(pred, y):\n",
        "    return sum(pred != y) / len(y)"
      ],
      "execution_count": null,
      "outputs": []
    },
    {
      "cell_type": "markdown",
      "metadata": {
        "id": "xVRjV3Rubsjb"
      },
      "source": [
        "И сам алгоритм"
      ]
    },
    {
      "cell_type": "code",
      "metadata": {
        "colab": {
          "background_save": true
        },
        "id": "wiKx_qKObsjb"
      },
      "source": [
        "def adaboost(X, y, N):\n",
        "\n",
        "    # Размер выборки\n",
        "    n_objects = len(X)\n",
        "\n",
        "    # Запишем количество классов в переменную\n",
        "    n_classes = len(np.unique((y)))\n",
        "\n",
        "    # Начальные веса деревьев\n",
        "    w = np.ones(n_objects) / n_objects\n",
        "\n",
        "    # Деревья с весами будем записывать в список\n",
        "    models = []\n",
        "\n",
        "    for n in range(N):\n",
        "        # Зададим дерево и обучим его\n",
        "        clf = DecisionTreeClassifier(max_depth=1)\n",
        "        clf.fit(X, y, sample_weight=w)\n",
        "\n",
        "        predictions = clf.predict(X)\n",
        "        e = get_error(predictions, y)\n",
        "        # отбросим дерево, если его ошибка больше 0.5\n",
        "        # Запишем условие в общем виде (применимо к небинарным классификаторам)\n",
        "        if e >= 1 - 1/n_classes:\n",
        "            break\n",
        "\n",
        "        # Вычислим вес для дерева\n",
        "        alpha = 0.5 * np.log((1 - e) / e)\n",
        "\n",
        "        # Найдем индексы правильно классифицированных элементов\n",
        "        match = predictions == y\n",
        "\n",
        "        # Увеличим веса для неправильно классифицированных элементов\n",
        "        w[~match] *= np.exp(alpha)\n",
        "\n",
        "        # Нормализуем веса\n",
        "        w /= w.sum()\n",
        "\n",
        "        # Добавим дерево с весом в список\n",
        "        models.append((alpha, clf))\n",
        "\n",
        "    return models"
      ],
      "execution_count": null,
      "outputs": []
    },
    {
      "cell_type": "markdown",
      "metadata": {
        "id": "GCRBLGmYbsjd"
      },
      "source": [
        "Обучим алгоритм из 50 деревьев"
      ]
    },
    {
      "cell_type": "code",
      "metadata": {
        "id": "M2QwLTjkbsje"
      },
      "source": [
        "N = 50\n",
        "\n",
        "models = adaboost(X_train, y_train, N)"
      ],
      "execution_count": null,
      "outputs": []
    },
    {
      "cell_type": "markdown",
      "metadata": {
        "id": "pf6R7t9Wbsjg"
      },
      "source": [
        "Теперь осуществим предсказание"
      ]
    },
    {
      "cell_type": "code",
      "metadata": {
        "id": "1cRftLvhbsjg"
      },
      "source": [
        "def predict(X, models):\n",
        "\n",
        "    n_classes = 2\n",
        "    n_objects = len(X)\n",
        "\n",
        "    # вначале обозначим предсказание нулевым массивом\n",
        "    y_pred = np.zeros((n_objects, n_classes))\n",
        "\n",
        "    for alpha, clf in models:\n",
        "        prediction = clf.predict(X)\n",
        "        # Для каждого предсказания будем прибавлять alpha к\n",
        "        # элементу с индексом предсказанного класса\n",
        "        y_pred[range(n_objects), prediction] += alpha\n",
        "\n",
        "    # выберем индексы с максимальными суммарными весами -\n",
        "    # получим предсказанные алгоритмом классы\n",
        "    y_pred = np.argmax(y_pred, axis=1)\n",
        "\n",
        "    return y_pred\n",
        "\n",
        "print(f'Точность алгоритма на обучающей выборке: {(1 - get_error(predict(X_train, models), y_train)) * 100:.3f}')"
      ],
      "execution_count": null,
      "outputs": []
    },
    {
      "cell_type": "code",
      "metadata": {
        "id": "AIOQigknbsjj"
      },
      "source": [
        "print(f'Точность алгоритма на тестовой выборке: {(1 - get_error(predict(X_test, models), y_test)) * 100:.3f}')"
      ],
      "execution_count": null,
      "outputs": []
    },
    {
      "cell_type": "markdown",
      "metadata": {
        "id": "64NptCn3bsjm"
      },
      "source": [
        "Построим графики зависимости ошибки от количества базовых алгоритмов в ансамбле."
      ]
    },
    {
      "cell_type": "code",
      "metadata": {
        "id": "f2diAmLwbsjn"
      },
      "source": [
        "train_errors = []\n",
        "test_errors = []\n",
        "\n",
        "for n in range(1, 31):\n",
        "    mods = adaboost(X_train, y_train, n)\n",
        "    train_errors.append(get_error(predict(X_train, mods), y_train))\n",
        "    test_errors.append(get_error(predict(X_test, mods), y_test))"
      ],
      "execution_count": null,
      "outputs": []
    },
    {
      "cell_type": "code",
      "metadata": {
        "id": "ufw5bo9Lbsjp"
      },
      "source": [
        "x = list(range(1, 31))\n",
        "\n",
        "plt.xlim(0, 30)\n",
        "plt.plot(x, train_errors, label='train errors')\n",
        "plt.plot(x, test_errors, label='test errors')\n",
        "plt.xlabel('N')\n",
        "plt.ylabel('Accuracy')\n",
        "plt.legend(loc='upper right')"
      ],
      "execution_count": null,
      "outputs": []
    },
    {
      "cell_type": "markdown",
      "metadata": {
        "id": "aTqEbRmPbsjq"
      },
      "source": [
        "Достоинствами алгоритма AdaBoost можно назвать простоту реализации, хорошую обобщающую способность и небольшую вычислительную сложность. В то же время, есть и недостатки - в первую очередь, склонность к переобучению при наличии в данных шума и выбросов: для наиболее трудноклассифицируемых объектов алгоритм будет определять очень большие веса и в итоге переобучаться на них. В то же время это является и плюсом: таким образом можно идентифицировать выбросы."
      ]
    },
    {
      "cell_type": "markdown",
      "metadata": {
        "id": "gKn5SRC2bsjr"
      },
      "source": [
        "## Дополнительные материалы"
      ]
    },
    {
      "cell_type": "markdown",
      "metadata": {
        "id": "c6i9D-7Xbsjs"
      },
      "source": [
        "1. [Интерактивная демонстрация градиентного бустинга](http://arogozhnikov.github.io/2016/06/24/gradient_boosting_explained.html)\n",
        "2. [sklearn.datasets](https://scikit-learn.org/stable/datasets/index.html)\n",
        "3. [sklearn.tree.DecisionTreeRegressor](https://scikit-learn.org/stable/modules/generated/sklearn.tree.DecisionTreeRegressor.html)\n",
        "4. [$L_{1}$ loss и $L_{2}$ loss](https://afteracademy.com/blog/what-are-l1-and-l2-loss-functions)\n",
        "5. [XGBoost](https://github.com/esokolov/ml-course-hse/blob/master/2016-fall/lecture-notes/lecture10-ensembles.pdf)\n",
        "6. [AdaBoost](https://ru.wikipedia.org/wiki/AdaBoost)"
      ]
    }
  ]
}